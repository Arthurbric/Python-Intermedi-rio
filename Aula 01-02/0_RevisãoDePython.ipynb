{
  "nbformat": 4,
  "nbformat_minor": 0,
  "metadata": {
    "colab": {
      "provenance": []
    },
    "kernelspec": {
      "name": "python3",
      "display_name": "Python 3"
    },
    "language_info": {
      "name": "python"
    }
  },
  "cells": [
    {
      "cell_type": "markdown",
      "source": [
        "# Data Types   \n",
        "\n",
        "*    int\n",
        "*    float\n",
        "*    str\n",
        "*    complex\n",
        "*    bool\n"
      ],
      "metadata": {
        "id": "J6M5JFMlDCMc"
      }
    },
    {
      "cell_type": "code",
      "source": [
        "i = 5\n",
        "print(type(i))      # <class 'int'>"
      ],
      "metadata": {
        "colab": {
          "base_uri": "https://localhost:8080/"
        },
        "id": "zekZWi6ZCVBM",
        "outputId": "25f94174-314b-43ad-cec5-e62e9867353c"
      },
      "execution_count": null,
      "outputs": [
        {
          "output_type": "stream",
          "name": "stdout",
          "text": [
            "<class 'int'>\n"
          ]
        }
      ]
    },
    {
      "cell_type": "code",
      "source": [
        "f = 3.6\n",
        "print(type(f))      # <class 'float'>"
      ],
      "metadata": {
        "colab": {
          "base_uri": "https://localhost:8080/"
        },
        "id": "iK9dpWfzCZUG",
        "outputId": "9ea607b1-2395-47ec-ab50-f8569c5ab5fe"
      },
      "execution_count": null,
      "outputs": [
        {
          "output_type": "stream",
          "name": "stdout",
          "text": [
            "<class 'float'>\n"
          ]
        }
      ]
    },
    {
      "cell_type": "code",
      "source": [
        "s = \"Python\"\n",
        "print(type(s))      # <class 'str'>"
      ],
      "metadata": {
        "colab": {
          "base_uri": "https://localhost:8080/"
        },
        "id": "WwptdgM0CaKW",
        "outputId": "e3a469df-276c-40f2-9d83-0c8ab888de40"
      },
      "execution_count": null,
      "outputs": [
        {
          "output_type": "stream",
          "name": "stdout",
          "text": [
            "<class 'str'>\n"
          ]
        }
      ]
    },
    {
      "cell_type": "code",
      "source": [
        "c = 2 + 7j\n",
        "print(type(c))      # <class 'complex'>"
      ],
      "metadata": {
        "colab": {
          "base_uri": "https://localhost:8080/"
        },
        "id": "1ZCNYwVuCcGF",
        "outputId": "20cc5107-e76b-4f56-d4fb-694c2d667673"
      },
      "execution_count": null,
      "outputs": [
        {
          "output_type": "stream",
          "name": "stdout",
          "text": [
            "<class 'complex'>\n"
          ]
        }
      ]
    },
    {
      "cell_type": "code",
      "source": [
        "b = True\n",
        "print(type(b))      # <class 'bool'>"
      ],
      "metadata": {
        "colab": {
          "base_uri": "https://localhost:8080/"
        },
        "id": "lVoz41ohCqiO",
        "outputId": "dc148a73-9f71-408a-806f-0ee8a6730f61"
      },
      "execution_count": null,
      "outputs": [
        {
          "output_type": "stream",
          "name": "stdout",
          "text": [
            "<class 'bool'>\n"
          ]
        }
      ]
    },
    {
      "cell_type": "code",
      "source": [
        "#'--variable names---'\n",
        "print('a2'.isidentifier())      # True\n",
        "print('2a'.isidentifier())      # False\n",
        "print('_myvar'.isidentifier())  # True\n",
        "print('my_var'.isidentifier())  # True\n",
        "print('my$'.isidentifier())     # False"
      ],
      "metadata": {
        "colab": {
          "base_uri": "https://localhost:8080/"
        },
        "id": "eXnEt8gUCvbP",
        "outputId": "c8d8e716-4869-464d-c963-2064268ec22b"
      },
      "execution_count": null,
      "outputs": [
        {
          "output_type": "stream",
          "name": "stdout",
          "text": [
            "True\n",
            "False\n",
            "True\n",
            "True\n",
            "False\n"
          ]
        }
      ]
    },
    {
      "cell_type": "code",
      "source": [
        "from keyword import iskeyword\n",
        "print( iskeyword('if'))         # True"
      ],
      "metadata": {
        "colab": {
          "base_uri": "https://localhost:8080/"
        },
        "id": "ByxOBvcxC2xn",
        "outputId": "0908ffb3-ac22-4ff2-ba1b-63b969fc8b74"
      },
      "execution_count": null,
      "outputs": [
        {
          "output_type": "stream",
          "name": "stdout",
          "text": [
            "True\n"
          ]
        }
      ]
    },
    {
      "cell_type": "markdown",
      "source": [
        "## ---Python Casting---"
      ],
      "metadata": {
        "id": "KGleHOxTXWiV"
      }
    },
    {
      "cell_type": "code",
      "source": [
        "i = 4\n",
        "print(float(i))     # 4.0"
      ],
      "metadata": {
        "id": "cKigfw0-XGw9"
      },
      "execution_count": null,
      "outputs": []
    },
    {
      "cell_type": "code",
      "source": [
        "s ='15'\n",
        "print(int(s) + 1)   # 16"
      ],
      "metadata": {
        "id": "WYhs1SSAXH6I"
      },
      "execution_count": null,
      "outputs": []
    },
    {
      "cell_type": "markdown",
      "source": [
        "## swaping"
      ],
      "metadata": {
        "id": "OuCodKoHXL6i"
      }
    },
    {
      "cell_type": "code",
      "source": [
        "x = 4\n",
        "y = 8\n",
        "y, x = x, y         # assign y value to x and x value to y #swaping\n",
        "print(x)            # 8\n",
        "print(y)            # 4"
      ],
      "metadata": {
        "id": "BpLRtDraXJ2F"
      },
      "execution_count": null,
      "outputs": []
    },
    {
      "cell_type": "code",
      "source": [
        "a = 1\n",
        "b = 2\n",
        "a, b = b, a + b\n",
        "print(a)           # ?\n",
        "print(b)           # ?"
      ],
      "metadata": {
        "id": "WObPChVPDaU5"
      },
      "execution_count": null,
      "outputs": []
    },
    {
      "cell_type": "markdown",
      "source": [
        "# Operators :\n",
        "\n",
        "\n",
        "\n",
        "\n",
        "> <b>Arithmetic : +,-,*,/,%,**,//  <br>\n",
        ">    Assignment : =,+=,-=,*= ,/= ,%= ,//= ,**= <br>\n",
        ">    Comparison : ==,!=,>,<,>=,<=<br>\n",
        ">    Logical    : and, or, not<br>\n",
        ">    Membership : in , not in<br>\n",
        ">    Bitwise    :  &, |, ^, ~, <<, >><br>\n",
        "\n"
      ],
      "metadata": {
        "id": "LFyfpzlGE2lW"
      }
    },
    {
      "cell_type": "code",
      "source": [
        "print(17 // 2)         # 8\n",
        "print(17 % 2)          # 1\n",
        "print(3 ** 2)          # 9"
      ],
      "metadata": {
        "id": "U69xt06dXdc0"
      },
      "execution_count": null,
      "outputs": []
    },
    {
      "cell_type": "code",
      "source": [
        "y = 4\n",
        "y //= 2               # y = y // 2\n",
        "print(y)              # 2"
      ],
      "metadata": {
        "id": "PDIfZ8yBXfV8"
      },
      "execution_count": null,
      "outputs": []
    },
    {
      "cell_type": "code",
      "source": [
        "print('------')\n",
        "\n",
        "print(2 != 3)                       # True\n",
        "\n",
        "print('------')\n",
        "\n",
        "print(1<3 and 4>5)                  # False\n",
        "\n",
        "print('------')"
      ],
      "metadata": {
        "id": "fKDi3REDXjXd"
      },
      "execution_count": null,
      "outputs": []
    },
    {
      "cell_type": "code",
      "source": [
        "a = 15\n",
        "print(bin(a))                       # 0b1111\n",
        "b = 9\n",
        "print(bin(b))                       # 0b1001\n",
        "c = a | b\n",
        "print(bin(c))                       # 0b1111"
      ],
      "metadata": {
        "id": "2547Wap9XlKN"
      },
      "execution_count": null,
      "outputs": []
    },
    {
      "cell_type": "markdown",
      "source": [
        "## math"
      ],
      "metadata": {
        "id": "8b_5KiOMXqyD"
      }
    },
    {
      "cell_type": "code",
      "source": [
        "import math\n",
        "print( math.sqrt(16))      # 4.0\n",
        "print( math.trunc(4.3))    # 4\n",
        "print( math.factorial(3))  # 6\n",
        "print( math.log2(16))      # 4.0\n",
        "print( math.fmod(17,2))    # 1.0\n",
        "print( math.fabs(-5))      # 5.0\n",
        "print( math.pow(2,4))      # 16.0\n",
        "print( math.pi)            # 3.141592653589793"
      ],
      "metadata": {
        "id": "uBPeEpDNXnuW"
      },
      "execution_count": null,
      "outputs": []
    },
    {
      "cell_type": "markdown",
      "source": [
        "## random"
      ],
      "metadata": {
        "id": "oX156oUFXyx0"
      }
    },
    {
      "cell_type": "code",
      "source": [
        "import random\n",
        "print( random.randint(1, 10))\n",
        "print( random.choice([1,10]))\n",
        "\n",
        "print('# datetime #')\n",
        "import datetime\n",
        "now = datetime.datetime.now()\n",
        "print(now)                 # 2020-05-20 03:20:13.384938"
      ],
      "metadata": {
        "id": "MgDMEIP0E1dW"
      },
      "execution_count": null,
      "outputs": []
    },
    {
      "cell_type": "markdown",
      "source": [
        "# Control statements:\n",
        "*    if\n",
        "*   if else\n",
        "*  elif"
      ],
      "metadata": {
        "id": "Gu-pI5ew5wTU"
      }
    },
    {
      "cell_type": "code",
      "source": [
        "import math\n",
        "n = -9\n",
        "if n < 0 :\n",
        "   n = abs(n)\n",
        "\n",
        "print(math.sqrt(n))        # 3.0"
      ],
      "metadata": {
        "id": "D6n565q5X4Rd"
      },
      "execution_count": null,
      "outputs": []
    },
    {
      "cell_type": "code",
      "source": [
        "a = 9\n",
        "if a % 2 == 0:\n",
        "    print('impar')            #evevn\n",
        "else:\n",
        "    print('Par')         # odd"
      ],
      "metadata": {
        "colab": {
          "base_uri": "https://localhost:8080/"
        },
        "id": "2PJUtwwaX5vO",
        "outputId": "93ffcbc0-e792-4914-ca3a-c7aad2697410"
      },
      "execution_count": 1,
      "outputs": [
        {
          "output_type": "stream",
          "name": "stdout",
          "text": [
            "Par\n"
          ]
        }
      ]
    },
    {
      "cell_type": "markdown",
      "source": [
        "## conditional expression"
      ],
      "metadata": {
        "id": "x3of6uIAYNHd"
      }
    },
    {
      "cell_type": "markdown",
      "source": [
        "//em C99 (C)\n",
        "\n",
        "```\n",
        "#include <stdio.h>\n",
        "void main()\n",
        "{  \n",
        "(condição) ? <comandos>   :  <comandos>    ;\n",
        "}\n",
        "\n",
        "```\n"
      ],
      "metadata": {
        "id": "Lmgi-3YET3nE"
      }
    },
    {
      "cell_type": "markdown",
      "source": [
        "\n",
        "//em python\n",
        "```\n",
        "< comandos do if > if < condição > else  < comandos do else >\n",
        "```\n",
        "\n"
      ],
      "metadata": {
        "id": "rTj9pS8CUbKC"
      }
    },
    {
      "cell_type": "code",
      "source": [
        "a = 3\n",
        "b = 8\n",
        "\n",
        "if a < b:\n",
        "   m = a\n",
        "else:\n",
        "   m = b"
      ],
      "metadata": {
        "id": "lfE3rlwpYTYW"
      },
      "execution_count": 2,
      "outputs": []
    },
    {
      "cell_type": "code",
      "source": [
        "print(m)"
      ],
      "metadata": {
        "colab": {
          "base_uri": "https://localhost:8080/"
        },
        "id": "Yst7Vsm0YU6W",
        "outputId": "b436593d-b42b-402a-e3dd-3f913752e2aa"
      },
      "execution_count": 3,
      "outputs": [
        {
          "output_type": "stream",
          "name": "stdout",
          "text": [
            "3\n"
          ]
        }
      ]
    },
    {
      "cell_type": "code",
      "source": [
        "M = a if a < b else b\n",
        "print(M)                 # 3"
      ],
      "metadata": {
        "colab": {
          "base_uri": "https://localhost:8080/"
        },
        "id": "oc6S7zOMYRTm",
        "outputId": "e511bb55-08a8-499d-f336-5b996f57dbed"
      },
      "execution_count": 4,
      "outputs": [
        {
          "output_type": "stream",
          "name": "stdout",
          "text": [
            "3\n"
          ]
        }
      ]
    },
    {
      "cell_type": "code",
      "source": [
        "print(a if a < b else b)"
      ],
      "metadata": {
        "colab": {
          "base_uri": "https://localhost:8080/"
        },
        "id": "QGXVhp-kYgSu",
        "outputId": "305f8aaa-8e08-4604-9f23-bc5457f508e5"
      },
      "execution_count": 5,
      "outputs": [
        {
          "output_type": "stream",
          "name": "stdout",
          "text": [
            "3\n"
          ]
        }
      ]
    },
    {
      "cell_type": "code",
      "source": [
        "grade = 7\n",
        "s = 'fail' if grade < 10 else 'pass'\n",
        "print(s)                                # fail"
      ],
      "metadata": {
        "id": "r0nhHPLUYfWo"
      },
      "execution_count": null,
      "outputs": []
    },
    {
      "cell_type": "code",
      "source": [
        "today = 'holiday'\n",
        "b = 40\n",
        "\n",
        "if today == 'Holiday':\n",
        "   if b > 50:\n",
        "       print('Shopping')\n",
        "   else:\n",
        "       print('Watch TV')               # Watch TV\n",
        "else:\n",
        "    print('Normal working day')"
      ],
      "metadata": {
        "id": "iifRZPkZYqRm"
      },
      "execution_count": null,
      "outputs": []
    },
    {
      "cell_type": "code",
      "source": [
        "Nota = 8\n",
        "\n",
        "if Nota >= 9.0:\n",
        "    l = 'SS'\n",
        "else:\n",
        "  if Nota >= 7.0 :\n",
        "      l = 'MS'\n",
        "  else:\n",
        "       if Nota>= 5.0:\n",
        "           l = 'MM'\n",
        "       else :\n",
        "        if Nota>= 3.0:\n",
        "           l = 'MI'\n",
        "        else :\n",
        "          if Nota>= 1.0:\n",
        "            l = 'II'\n",
        "          else :\n",
        "            l = 'RI'\n",
        "\n",
        "\n",
        "print(l)         # MS"
      ],
      "metadata": {
        "colab": {
          "base_uri": "https://localhost:8080/"
        },
        "id": "0BL6bMd9Y1C2",
        "outputId": "3e071b58-006c-412f-8f7c-42a3247e468d"
      },
      "execution_count": 13,
      "outputs": [
        {
          "output_type": "stream",
          "name": "stdout",
          "text": [
            "MS\n"
          ]
        }
      ]
    },
    {
      "cell_type": "code",
      "source": [
        "Nota = 0\n",
        "\n",
        "if Nota >= 9.0:\n",
        "    l = 'SS'\n",
        "elif Nota >= 7.0:\n",
        "      l = 'MS'\n",
        "elif Nota>= 5.0:\n",
        "    l = 'MM'\n",
        "elif Nota>= 3.0:\n",
        "    l = 'MI'\n",
        "elif Nota>= 1.0:\n",
        "    l = 'II'\n",
        "else :\n",
        "    l = 'RI'\n",
        "print(l)          #RI"
      ],
      "metadata": {
        "id": "fYze2K8k56-0",
        "colab": {
          "base_uri": "https://localhost:8080/"
        },
        "outputId": "52d7141f-ce87-44e6-e0ee-677efc4a6951"
      },
      "execution_count": 15,
      "outputs": [
        {
          "output_type": "stream",
          "name": "stdout",
          "text": [
            "RI\n"
          ]
        }
      ]
    },
    {
      "cell_type": "markdown",
      "source": [
        "<pre>\n",
        "<b>\n",
        "  loop :\n",
        "          for\n",
        "          while\n",
        "\n",
        "</pre>"
      ],
      "metadata": {
        "id": "MaCpVwnMBKVr"
      }
    },
    {
      "cell_type": "code",
      "source": [
        "for i in range(3):\n",
        "    print(i , end = ' ')      # 0 1 2"
      ],
      "metadata": {
        "id": "GBYmL7hxaHLs"
      },
      "execution_count": null,
      "outputs": []
    },
    {
      "cell_type": "code",
      "source": [
        "for _ in range(3):\n",
        "    print('hello')"
      ],
      "metadata": {
        "id": "8OWNgcolaIgM"
      },
      "execution_count": null,
      "outputs": []
    },
    {
      "cell_type": "code",
      "source": [
        "for j in range(6,11,2):\n",
        "    print(j , end = ' ' )    # 6 8 10\n",
        "\n",
        "print('\\n------')"
      ],
      "metadata": {
        "id": "HGo1Ug6LaTIc"
      },
      "execution_count": null,
      "outputs": []
    },
    {
      "cell_type": "code",
      "source": [
        "for i in range(2,5):\n",
        "    for j in range(1,i):\n",
        "        print(j , end = ' ')\n",
        "    print()\n",
        "\n",
        "'''\n",
        "1\n",
        "1  2\n",
        "1  2  3\n",
        "'''"
      ],
      "metadata": {
        "id": "ZskUb6xhaNWz"
      },
      "execution_count": null,
      "outputs": []
    },
    {
      "cell_type": "markdown",
      "source": [
        "## break"
      ],
      "metadata": {
        "id": "0Rqrdv8caYuN"
      }
    },
    {
      "cell_type": "code",
      "source": [
        "print('\\n # break #')\n",
        "\n",
        "for i in range(6):\n",
        "    if i == 4 :\n",
        "        break\n",
        "    else:\n",
        "        print(i,end=' ')   # 0 1 2 3"
      ],
      "metadata": {
        "id": "j6wCH7HjaYP3"
      },
      "execution_count": null,
      "outputs": []
    },
    {
      "cell_type": "markdown",
      "source": [
        "## continue"
      ],
      "metadata": {
        "id": "t04qEVY5aece"
      }
    },
    {
      "cell_type": "code",
      "source": [
        "for i in range(6):\n",
        "    if i == 4 :\n",
        "        continue\n",
        "    else:\n",
        "        print(i,end=' ')   # 0 1 2 3 5"
      ],
      "metadata": {
        "id": "bA2Hj1ivaZa1"
      },
      "execution_count": null,
      "outputs": []
    },
    {
      "cell_type": "code",
      "source": [
        "i = 1\n",
        "while i <= 4:\n",
        "    print(i , end= ' ')    # 1 2 3 4\n",
        "    i += 1"
      ],
      "metadata": {
        "id": "-BKknpn5ajdR"
      },
      "execution_count": null,
      "outputs": []
    },
    {
      "cell_type": "code",
      "source": [
        "n = 9\n",
        "while n > 2:\n",
        "    n -= 1\n",
        "    if n == 4:\n",
        "        break\n",
        "    print(n , end = ' ')    # 8 7 6 5"
      ],
      "metadata": {
        "id": "khZYTYbCajTW"
      },
      "execution_count": null,
      "outputs": []
    },
    {
      "cell_type": "code",
      "source": [
        "n = 9\n",
        "while n > 2:\n",
        "    n -= 1\n",
        "    if n == 4:\n",
        "        continue\n",
        "    print(n , end = ' ')    # 8 7 6 5 3 2\n"
      ],
      "metadata": {
        "id": "BF1UqymbCCsf"
      },
      "execution_count": null,
      "outputs": []
    },
    {
      "cell_type": "markdown",
      "source": [
        "<b>\n",
        "<pre>\n",
        "\n",
        "  string\n",
        "          len , is..  ,find , count  , title , ljust , startswith , replcae ,\n",
        "          strip , split , join , format , ...\n",
        "\n",
        "\n",
        "</pre>"
      ],
      "metadata": {
        "id": "_ElctCUxB_iL"
      }
    },
    {
      "cell_type": "code",
      "source": [
        "print('\\n---String---')\n",
        "\n",
        "s = 'python'\n",
        "\n",
        "print(len(s))               # 6\n",
        "print( 'th' in s)           # True\n",
        "\n",
        "print(s.islower())          # True\n",
        "print(s.isalpha())          # True\n",
        "print(s.isdigit())          # False\n",
        "\n",
        "print(s.find('o'))          # 4\n",
        "print(s.count('o'))         # 1\n",
        "\n",
        "print(s.title())            # Python\n",
        "print(s.upper())            # PYTHON\n",
        "\n",
        "print(s.ljust(8,'+'))       # python++\n",
        "print(s.startswith('py'))   # True\n",
        "\n",
        "print(s.replace('thon','ramid'))   # pyramid"
      ],
      "metadata": {
        "colab": {
          "base_uri": "https://localhost:8080/"
        },
        "id": "NGGZh9ykatn-",
        "outputId": "312a1a14-b716-4a5f-8213-661742f241df"
      },
      "execution_count": 16,
      "outputs": [
        {
          "output_type": "stream",
          "name": "stdout",
          "text": [
            "\n",
            "---String---\n",
            "6\n",
            "True\n",
            "True\n",
            "True\n",
            "False\n",
            "4\n",
            "1\n",
            "Python\n",
            "PYTHON\n",
            "python++\n",
            "True\n",
            "pyramid\n"
          ]
        }
      ]
    },
    {
      "cell_type": "code",
      "source": [
        "s = '$python$$'\n",
        "print(s.strip('$'))     # python"
      ],
      "metadata": {
        "id": "9ie6nZ42axwn"
      },
      "execution_count": null,
      "outputs": []
    },
    {
      "cell_type": "code",
      "source": [
        "s = 'Python created by Rossum'\n",
        "a = s.split(' ')\n",
        "print(a)            # ['Python', 'created', 'by', 'Rossum']"
      ],
      "metadata": {
        "id": "NCDUhx5mbBVC"
      },
      "execution_count": null,
      "outputs": []
    },
    {
      "cell_type": "code",
      "source": [
        "b = ['Python', 'created', 'by', 'Rossum']\n",
        "c =' '.join(b)\n",
        "print(c)"
      ],
      "metadata": {
        "id": "e0YCIh7bbCk4"
      },
      "execution_count": null,
      "outputs": []
    },
    {
      "cell_type": "code",
      "source": [
        "print('# format #')\n",
        "\n",
        "s = 'python'\n",
        "\n",
        "print(f'name : {s}')           # name : python\n",
        "print('name:{}'.format(s))     # name : python\n",
        "\n",
        "print('------')\n",
        "\n",
        "a = 'Arthur'\n",
        "b = 'Heydari'\n",
        "\n",
        "print('name:{0}   surname:{1}'.format(a, b))\n",
        "\n",
        "# name:Arthur   surname:Heydari\n",
        "\n",
        "print('------')\n",
        "\n",
        "print(f'name:{Arthur}   surname:{Heydari}')\n",
        "\n",
        "print('------')\n",
        "a = 15\n",
        "b = 17.9999\n",
        "\n",
        "print('{:d} {:.1f}'.format(a, b))    # 15  18.0\n",
        "\n",
        "print('------')"
      ],
      "metadata": {
        "id": "e1R9SQ_3Fs2b"
      },
      "execution_count": null,
      "outputs": []
    },
    {
      "cell_type": "markdown",
      "source": [
        "<b>\n",
        "<pre>\n",
        "\n",
        "    list\n",
        "    'index' ,'count','insert','remove','pop','reverse' , 'sort' ,'extend'\n",
        "    , 'append','clear','copy',...\n",
        "\n",
        "\n",
        "</pre>"
      ],
      "metadata": {
        "id": "NUGMy3pqFpcY"
      }
    },
    {
      "cell_type": "code",
      "source": [
        "a = [8, 2, 12]\n",
        "\n",
        "print(type(a))      # <class 'list'>\n",
        "\n",
        "print(len(a))       # 3\n",
        "\n",
        "print(a.index(2))   # 1\n",
        "\n",
        "print(a[1])         # 2\n",
        "a[1] = 7            # list is mutable\n",
        "\n",
        "print('------')\n",
        "\n",
        "a = [13, 5, 30, 8, 6, 25]\n",
        "\n",
        "print(a[1:4])        # [5, 30, 8]\n",
        "print(a[0:3])        # [13, 5, 30]\n",
        "print(a[3:])         # [8, 6, 25]\n",
        "print(a[::-1])       # [25, 6, 8, 30, 5, 13]\n",
        "\n",
        "print(a[0:7:2])      # [13, 30, 6]\n",
        "\n",
        "print('------')\n",
        "\n",
        "child = ['Vini','Gio']\n",
        "for i in child:\n",
        "    print(i)\n",
        "\n",
        "# or\n",
        "for i in range(len(child)):\n",
        "    print(child[i])\n",
        "\n",
        "print('------')\n",
        "\n",
        "a = [3, 5]\n",
        "b = a*2\n",
        "print(b)           # [3, 5, 3, 5]\n",
        "\n",
        "print('------')\n",
        "\n",
        "a = [1, 2 , 3]\n",
        "b = ['a', 'b']\n",
        "c = a + b\n",
        "print(c)           # [1, 2, 3 ,'a', 'b']\n",
        "\n",
        "print('------')\n",
        "\n",
        "a = [15 , 5 , 67 , 3 ]\n",
        "\n",
        "print(max(a))     # 67\n",
        "print(min(a))     # 3\n",
        "print(sum(a))     # 90\n",
        "\n",
        "print(a.count(5)) # 1\n",
        "\n",
        "a.insert(2,8)\n",
        "print(a)          # [15, 5, 8, 67, 3]\n",
        "\n",
        "a.remove(67)\n",
        "print(a)          # [15, 5, 8, 3]\n",
        "\n",
        "print(a.pop())    # 3\n",
        "print(a)          # [15, 5, 8]\n",
        "\n",
        "print(a.pop(1))   # 5\n",
        "print(a)          # [15, 8]\n",
        "\n",
        "del a[1]\n",
        "print(a)          # [15]\n",
        "\n",
        "print('------')\n",
        "a = [3,7,5,4]\n",
        "a.reverse()\n",
        "print(a)          # [4,5,7,3]\n",
        "\n",
        "a.sort()\n",
        "print(a)          # [3,4,5,7]\n",
        "\n",
        "print('------')\n",
        "\n",
        "a = [1,2]\n",
        "a.append(9)\n",
        "print(a)          # [1, 2, 9]\n",
        "\n",
        "print('------')\n",
        "x = [1, 2]\n",
        "y = ['a','b']\n",
        "x.append(y)\n",
        "print(x)          # [1, 2, ['a','b']]\n",
        "print(len(x))     # 3\n",
        "print('------')\n",
        "\n",
        "x = [1, 2]\n",
        "y = ['a','b']\n",
        "x.extend(y)\n",
        "print(x)          # [1, 2,'a','b']\n",
        "print(len(x))     # 4\n",
        "\n",
        "print('------')\n",
        "\n",
        "a = [1, 2, 3, 4]\n",
        "a.clear()\n",
        "print(a)          # []\n",
        "print(len(a))     # 0\n",
        "\n",
        "print('------')\n",
        "\n",
        "a = [1,2]\n",
        "b = a.copy()\n",
        "print(b)         # [1, 2]\n",
        "\n",
        "print('------')\n",
        "\n",
        "a = []\n",
        "for i in range(3):\n",
        "    a.append(i)\n",
        "\n",
        "print(a)          # [0, 1, 2]\n",
        "\n",
        "# or\n",
        "a = [i for i in range(3)]\n",
        "print(a)          # [0, 1, 2]\n",
        "\n",
        "print('------')\n",
        "\n",
        "grade = [5, 18, 20, 4, 7]\n",
        "\n",
        "a = [i for i in grade if i > 10]\n",
        "print(a)                          # [18,20]\n",
        "\n",
        "print('------')\n"
      ],
      "metadata": {
        "id": "H3NhrGFAGEPG"
      },
      "execution_count": null,
      "outputs": []
    },
    {
      "cell_type": "markdown",
      "source": [
        "<b>\n",
        "<pre>\n",
        "\n",
        "    Tuple:\n",
        "    len , index, sum , min , max , count , ...\n",
        "\n",
        "</pre>"
      ],
      "metadata": {
        "id": "Mpa9A2CfF82l"
      }
    },
    {
      "cell_type": "code",
      "source": [
        "t = ('English', 'Art', 'Mathematics')\n",
        "\n",
        "print(type(t))   # <class 'tuple'>\n",
        "\n",
        "print(len(t))    # 3\n",
        "\n",
        "print(t[1])      # Art\n",
        "\n",
        "print(t[1:3])    # ('Art', 'Mathematics')\n",
        "\n",
        "print(t.index('Art'))      # 1\n",
        "\n",
        "print( 'Art' in t)         # True\n",
        "\n",
        "# t[0] = 'history'         # error : tuples are immutable\n",
        "\n",
        "print('------')\n",
        "\n",
        "t = (1, 7, 5)\n",
        "\n",
        "print(sum(t))      # 13\n",
        "print(max(t))      # 7\n",
        "print(min(t))      # 1\n",
        "\n",
        "print(t.count(9))  # 0\n",
        "\n",
        "print(tuple(reversed(t)))  # (7,5,1)\n",
        "\n",
        "print('------')\n",
        "\n",
        "t = (1, 2)\n",
        "a = list(t)\n",
        "a.append(3)\n",
        "t = tuple(a)\n",
        "print(t)           # (1, 2, 3)\n",
        "\n",
        "print('------')\n",
        "\n",
        "t = (14, 7, 3, 19)\n",
        "x = list(t)\n",
        "x.remove(3)\n",
        "t = tuple(x)\n",
        "print(t)          # (14, 7, 19)\n",
        "\n",
        "print('------')\n",
        "\n",
        "t = ('red', 8)\n",
        "x,y = t\n",
        "print(x)         # red\n",
        "print(y)         # 8\n",
        "\n",
        "print('------')\n",
        "\n",
        "a = (1, 2)\n",
        "b = ('x', 'y')\n",
        "\n",
        "c = zip(a,b)\n",
        "\n",
        "print(list(c))           # [(1, 'x'), (2, 'y')]\n",
        "\n",
        "# unzip\n",
        "x = [(1, 'x'), (2, 'y')]\n",
        "u = zip(*x)\n",
        "print(list(u))          # [(1, 2), ('x','y')]\n",
        "\n",
        "print('------')\n",
        "\n",
        "###################################################################"
      ],
      "metadata": {
        "id": "3Q0GvrYcGK6v"
      },
      "execution_count": null,
      "outputs": []
    },
    {
      "cell_type": "markdown",
      "source": [
        "<b>\n",
        "<pre>\n",
        "\n",
        "\n",
        "   dictionary:\n",
        "       len , get , keys , values , items , pop , popitems ,...\n",
        "\n",
        "\n",
        "</pre>"
      ],
      "metadata": {
        "id": "QGSXWyYmF9c3"
      }
    },
    {
      "cell_type": "code",
      "source": [
        "print('# dict #')\n",
        "\n",
        "\n",
        "d = {\n",
        "     'brand' : 'b' ,\n",
        "     'model' : 'm' ,\n",
        "     'color' : 'red' ,\n",
        "     'year'  : 2020\n",
        "     }\n",
        "\n",
        "# or\n",
        "# d = dict( brand = 'b' , model='m' , color = 'white' , 'year' = 2020)\n",
        "\n",
        "\n",
        "print('------')\n",
        "\n",
        "d = {'x': 14, 'y': 32, 'z': 11, 'w': 7}\n",
        "\n",
        "print(type(d))           # <class dict>\n",
        "\n",
        "print(len(d))            # 4\n",
        "\n",
        "print( d['y'])           # 32\n",
        "\n",
        "print(d.get('y'))        # 32\n",
        "\n",
        "print(list(d.keys()))    # ['x', 'y', 'z', 'w']\n",
        "\n",
        "print(list(d.values()))  # [14, 32, 11, 7]\n",
        "\n",
        "print(list(d.items()))   # [('x', 14), ('y', 32), ('z', 11), ('w', 7)]\n",
        "\n",
        "for k,v in d.items():\n",
        "    print(k,':',v)\n",
        "'''\n",
        "x : 14\n",
        "y : 32\n",
        "z : 11\n",
        "w : 7\n",
        "'''\n",
        "\n",
        "d.pop('y')\n",
        "print(d)                 # {'x': 14, 'z': 11, 'w': 7}\n",
        "\n",
        "d.popitem()\n",
        "print(d)                 # {'x': 14, 'z': 11}\n",
        "\n",
        "d.clear()\n",
        "print(d)                 # {}\n",
        "\n",
        "del d\n",
        "\n",
        "print('------')\n",
        "\n",
        "d = {'x': 14, 'y': 32, 'z': 11, 'w': 7}\n",
        "\n",
        "import operator\n",
        "\n",
        "k = operator.itemgetter(1)\n",
        "\n",
        "print(sorted(d.items(),key = k))\n",
        "\n",
        "# [('w', 7), ('z', 11), ('x', 14), ('y', 32)]\n",
        "\n",
        "print('------')\n",
        "\n",
        "# combine\n",
        "d1 = {'x' : 3 , 'y': 2 , 'z':1}\n",
        "d2 = {'w' : 8 , 't': 7 }\n",
        "d = {}\n",
        "\n",
        "d = d1.copy()\n",
        "d.update(d2)\n",
        "\n",
        "print(d)      # {'x': 3, 'y': 2, 'z': 1, 'w': 8, 't': 7}\n",
        "\n",
        "# or\n",
        "d = {**d1 , **d2}\n",
        "\n",
        "print('------')\n",
        "\n",
        "k = ['a' , 'b']\n",
        "v = [4 , 8]\n",
        "\n",
        "z = zip(k,v)\n",
        "\n",
        "d = dict(z)\n",
        "print(d)       # {'a': 4, 'b': 8}\n",
        "\n",
        "print('------')\n",
        "\n",
        "### Nested dict\n",
        "\n",
        "myfamily = {\n",
        "        'child1': {'name':'Kaynan'  , 'age' : 21}  ,\n",
        "        'child2': {'name':'Muri' , 'age' : 20}\n",
        "        }\n",
        "\n",
        "print('------')\n",
        "\n",
        "p = {\n",
        "     'name'     : 'Felipe',\n",
        "     'children' : ['Ana', 'Mini-felipe'],\n",
        "     'phone'    : {'home':'021-4455', 'mobile':'6199999'}\n",
        "    }\n",
        "\n",
        "print(len(p))                # 3\n",
        "\n",
        "print(p['phone']['mobile'])  # 6199999\n",
        "\n",
        "print(p['children'][0])      # Ana"
      ],
      "metadata": {
        "id": "8fVxunHBD2fk"
      },
      "execution_count": null,
      "outputs": []
    },
    {
      "cell_type": "markdown",
      "source": [
        "<b>\n",
        "<pre>\n",
        "\n",
        "    Set :\n",
        "        len , add, update , remove , discard , pop , copy , clear,\n",
        "        intersection , union , difference , update , issubset , isdisjoint , ...\n",
        "\n",
        "</pre>"
      ],
      "metadata": {
        "id": "U6Ky-xtCF7VF"
      }
    },
    {
      "cell_type": "code",
      "source": [
        "S = {'a','e','o','i'}\n",
        "\n",
        "print(type(S))     # <class 'set'>\n",
        "\n",
        "print(len(S))      # 4\n",
        "\n",
        "print('u' in S)    # False\n",
        "\n",
        "S.add('u')\n",
        "print(S)           # {'i', 'u', 'e', 'a', 'o'}\n",
        "\n",
        "print('------')\n",
        "\n",
        "S.remove('i')\n",
        "print(S)           # {'u', 'e', 'a', 'o'}\n",
        "\n",
        "print('------')\n",
        "\n",
        "c = S.copy()\n",
        "print(c)          # {'a', 'o', 'e', 'u'}\n",
        "\n",
        "print('------')\n",
        "\n",
        "S.clear()\n",
        "print(S)                   # set()\n",
        "print(len(S))              # 0\n",
        "\n",
        "print('------')\n",
        "\n",
        "X = {1, 2, 3 ,4 , 5}\n",
        "Y = {2, 4}\n",
        "\n",
        "print(X.intersection(Y))    # {2, 4}\n",
        "print(X & Y)                # {2, 4}\n",
        "\n",
        "print('------')\n",
        "\n",
        "print(X.union(Y))           # {1, 2, 3, 4 , 5}\n",
        "print(X | Y)                # {1, 2, 3, 4 , 5}\n",
        "\n",
        "print('------')\n",
        "\n",
        "print(X.difference(Y))      # {1, 3, 5}\n",
        "print(X-Y)                  # {1, 3, 5}\n",
        "\n",
        "print('------')\n",
        "\n",
        "X = {'A', 'M'}\n",
        "Y = {'A','C','M','F'}\n",
        "print(X.issubset(Y))       # True"
      ],
      "metadata": {
        "id": "FiNICG_UEKpX"
      },
      "execution_count": null,
      "outputs": []
    },
    {
      "cell_type": "markdown",
      "source": [
        "# Function"
      ],
      "metadata": {
        "id": "g1-gxrDqF6OE"
      }
    },
    {
      "cell_type": "code",
      "source": [
        "def f():\n",
        "    print('Arthur e Legal')\n",
        "\n",
        "f()"
      ],
      "metadata": {
        "id": "JUnuc_uNJFLh"
      },
      "execution_count": null,
      "outputs": []
    },
    {
      "cell_type": "code",
      "source": [
        "def g():\n",
        "    return 'Arthur e Legal'\n",
        "\n",
        "print(g())"
      ],
      "metadata": {
        "id": "yzs9HpZgJG0t"
      },
      "execution_count": null,
      "outputs": []
    },
    {
      "cell_type": "code",
      "source": [
        "def h(p):\n",
        "    print(p)\n",
        "\n",
        "h('Arthur e Legal')"
      ],
      "metadata": {
        "id": "lphBQCVkJJAc"
      },
      "execution_count": null,
      "outputs": []
    },
    {
      "cell_type": "code",
      "source": [
        "def f(x,y):\n",
        "    if x > y : #?\n",
        "        return x\n",
        "    return y\n",
        "\n",
        "def g(x,y,z):\n",
        "    return f(x , f(y,z)) #f(3 , f(8,2))\n",
        "\n",
        "print(g(3,8,2))  # ?"
      ],
      "metadata": {
        "id": "lK96aYocJLjk"
      },
      "execution_count": null,
      "outputs": []
    },
    {
      "cell_type": "code",
      "source": [
        "x = 7\n",
        "def func():\n",
        "    global x\n",
        "    print(x)   # 7\n",
        "    x = 3\n",
        "    print(x)   # 3\n",
        "\n",
        "func()\n",
        "print(x)       # 3"
      ],
      "metadata": {
        "colab": {
          "base_uri": "https://localhost:8080/"
        },
        "id": "RdXmycn4JjZM",
        "outputId": "4c70dc35-417f-4b88-ca09-a139092e6d3d"
      },
      "execution_count": null,
      "outputs": [
        {
          "output_type": "stream",
          "name": "stdout",
          "text": [
            "7\n",
            "3\n",
            "3\n"
          ]
        }
      ]
    },
    {
      "cell_type": "code",
      "source": [
        "def f(a, b):\n",
        "    a *= 2\n",
        "    b += 3\n",
        "    return a, b\n",
        "\n",
        "x = 4\n",
        "y = 6\n",
        "m, n = f(x, y)\n",
        "print(m)        # 8\n",
        "print(n)        # 9"
      ],
      "metadata": {
        "colab": {
          "base_uri": "https://localhost:8080/"
        },
        "id": "l05wiR6pJtIs",
        "outputId": "affabb6d-85f1-4b91-85d1-92554d0dfb9a"
      },
      "execution_count": null,
      "outputs": [
        {
          "output_type": "stream",
          "name": "stdout",
          "text": [
            "8\n",
            "9\n"
          ]
        }
      ]
    },
    {
      "cell_type": "code",
      "source": [
        "def f(lst :list):\n",
        "    lst[0] *= 2\n",
        "    lst[1] /= 3\n",
        "\n",
        "a = [4, 9]\n",
        "f(a)\n",
        "print(a[0])    # 8\n",
        "print(a[1])    # 3.0"
      ],
      "metadata": {
        "id": "hy4Fiqq3KUeU"
      },
      "execution_count": null,
      "outputs": []
    },
    {
      "cell_type": "code",
      "source": [
        "def h(my_dict):\n",
        "    my_dict['x'] *= 2\n",
        "    my_dict['y'] /= 3\n",
        "\n",
        "d = {'x':4  , 'y':9}\n",
        "h(d)\n",
        "print(d['x'])    # 8\n",
        "print(d['y'])    # 3.0\n",
        "print(d)"
      ],
      "metadata": {
        "colab": {
          "base_uri": "https://localhost:8080/"
        },
        "id": "_zmHOE7fKjik",
        "outputId": "27624915-4dfa-41ca-962c-4f6b8a05130f"
      },
      "execution_count": null,
      "outputs": [
        {
          "output_type": "stream",
          "name": "stdout",
          "text": [
            "8\n",
            "3.0\n",
            "{'x': 8, 'y': 3.0}\n"
          ]
        }
      ]
    },
    {
      "cell_type": "code",
      "source": [
        "def test(a , b=7):\n",
        "    print(a,b)\n",
        "\n",
        "test(5)\n",
        "test(1, b=4)\n",
        "test(1, 3)"
      ],
      "metadata": {
        "colab": {
          "base_uri": "https://localhost:8080/"
        },
        "id": "LUBnZ3sIRV92",
        "outputId": "8c05a42b-60db-4b62-9921-94b259910b38"
      },
      "execution_count": null,
      "outputs": [
        {
          "output_type": "stream",
          "name": "stdout",
          "text": [
            "5 7\n",
            "1 4\n",
            "1 3\n"
          ]
        }
      ]
    },
    {
      "cell_type": "code",
      "source": [
        "def test(x, y):\n",
        "    print(x, y)\n",
        "\n",
        "test(5, 2)           # 5 2\n",
        "test(x = 5 , y = 2)  # 5 2\n",
        "test(y = 2 , x = 5)  # 5 2\n",
        "test(5 , y = 2)      # 5 2"
      ],
      "metadata": {
        "colab": {
          "base_uri": "https://localhost:8080/"
        },
        "id": "tSNg6CORKllI",
        "outputId": "b597734f-adba-4875-fb93-8691cd768fd4"
      },
      "execution_count": null,
      "outputs": [
        {
          "output_type": "stream",
          "name": "stdout",
          "text": [
            "5 2\n",
            "5 2\n",
            "5 2\n",
            "5 2\n"
          ]
        }
      ]
    },
    {
      "cell_type": "markdown",
      "source": [
        "## keyword only argument"
      ],
      "metadata": {
        "id": "NRxNcCbhcNEP"
      }
    },
    {
      "cell_type": "code",
      "source": [
        "def f(*, x=8):\n",
        "    print(x)\n",
        "\n",
        "f()        # 8\n",
        "f(x = 2)   # 2\n",
        "#f(3)     #  Erro : f() takes 0 positional arguments but 1 was given"
      ],
      "metadata": {
        "id": "x-Jne4Q8L2kF",
        "colab": {
          "base_uri": "https://localhost:8080/"
        },
        "outputId": "f94f96f1-427f-44b0-a024-107779f2f67d"
      },
      "execution_count": 19,
      "outputs": [
        {
          "output_type": "stream",
          "name": "stdout",
          "text": [
            "8\n",
            "2\n"
          ]
        }
      ]
    },
    {
      "cell_type": "code",
      "source": [
        "# Defina uma função com um argumento exclusivo de palavra-chave 'x'\n",
        "def f(*, x=8):\n",
        "    print(x)\n",
        "\n",
        "# Chame a função com o valor padrão de 'x' (8)\n",
        "f()        # 8\n",
        "\n",
        "# Chame a função com um valor específico para 'x' (2)\n",
        "f(x=2)     # 2\n",
        "\n",
        "# Descomentar a linha abaixo resultaria em um erro\n",
        "# porque 'f' só pode ser chamada com um argumento de palavra-chave para 'x'\n",
        "\n",
        "# f(3)     # Erro: f() aceita 0 argumentos posicionais, mas foi fornecido 1 ((takes 0 positional arguments but 1 was given))\n"
      ],
      "metadata": {
        "id": "rRapwg97MM7e"
      },
      "execution_count": null,
      "outputs": []
    },
    {
      "cell_type": "markdown",
      "source": [
        "## var arguments"
      ],
      "metadata": {
        "id": "NYKjwLA7cROv"
      }
    },
    {
      "cell_type": "code",
      "source": [
        "def add_more(a, b, *c):\n",
        "    print(a + b + sum(c))\n",
        "\n",
        "add_more(5, 2, 7 , 8 , 12)   # c = 7,8,12,.....\n",
        "add_more(2, 6)               # 8"
      ],
      "metadata": {
        "id": "xJ0ZyQP2MmtQ"
      },
      "execution_count": null,
      "outputs": []
    },
    {
      "cell_type": "code",
      "source": [
        "def f(*x , y='\\t'):\n",
        "    return y.join(x)\n",
        "\n",
        "print(f('Arthur', 'Kaynan'))\n",
        "print(f('Giovanni', 'Felipe', 'Guilherme','Claudio','Lucas', y='/'))\n",
        "print(f('Giovana', 'Gabriel', 'Murilo', y=' ; '))"
      ],
      "metadata": {
        "colab": {
          "base_uri": "https://localhost:8080/"
        },
        "id": "ywb7daTFP70-",
        "outputId": "d283d4c9-d82f-491b-8640-1cec07c54e7e"
      },
      "execution_count": null,
      "outputs": [
        {
          "output_type": "stream",
          "name": "stdout",
          "text": [
            "Arthur\tKaynan\n",
            "Giovanni/Felipe/Guilherme/Claudio/Lucas\n",
            "Giovana ; Kaynan ; Murilo\n"
          ]
        }
      ]
    },
    {
      "cell_type": "code",
      "source": [
        "def test(a ,*, b=7, c=9):\n",
        "    print(a,b,c)\n",
        "\n",
        "test(5)         # 5  7  9\n",
        "test(1, b=4)    # 1  4  9\n",
        "\n",
        "# test(1, b=2, 6)    #  Erro: positional argument follows keyword argument\n",
        "\n",
        "# test(1, 3, c=4)\n",
        "'''\n",
        "test() takes 1 positional argument but 2 positional arguments\n",
        "(and 1 keyword-only argument) were given\n",
        "'''"
      ],
      "metadata": {
        "id": "aY2dY6-OR47N"
      },
      "execution_count": null,
      "outputs": []
    },
    {
      "cell_type": "code",
      "source": [
        "def f(a, b , *c , **d):\n",
        "    print(a)  # 3\n",
        "    print(b)  # 4\n",
        "    print(c)  # (7, 1, 6)\n",
        "    print(d)  # {'x': 5, 'y': 7, 'z': 9}\n",
        "\n",
        "f(3, 4, 7, 1, 6, x=5, y=7, z=9)"
      ],
      "metadata": {
        "id": "2kE80sawSN8O"
      },
      "execution_count": null,
      "outputs": []
    },
    {
      "cell_type": "code",
      "source": [
        "#kaynan\n",
        "def count_char(frase):\n",
        "    d = {}\n",
        "    for i in frase:\n",
        "        if i in d.keys():\n",
        "            d[i] +=1\n",
        "        else:\n",
        "            d[i] = 1\n",
        "    return d\n",
        "\n",
        "print(count_char('abbcfab'))       # {'a': 2, 'b': 3, 'c': 1, 'f': 1}"
      ],
      "metadata": {
        "colab": {
          "base_uri": "https://localhost:8080/"
        },
        "id": "_Sl08Z0LEVu3",
        "outputId": "e5cb95c6-8e9e-43f3-ffab-773c97b25ce2"
      },
      "execution_count": null,
      "outputs": [
        {
          "output_type": "stream",
          "name": "stdout",
          "text": [
            "{'a': 2, 'b': 3, 'c': 1, 'f': 1}\n"
          ]
        }
      ]
    },
    {
      "cell_type": "markdown",
      "source": [
        "<h2><b>\n",
        "<pre>\n",
        "\n",
        "    switch(a){\n",
        "      case 1: return 'one' ;break;\n",
        "      case 2: return 'two' ;break;\n",
        "      defualt :return 'nothing';\n",
        "    }\n",
        "\n",
        "</pre>"
      ],
      "metadata": {
        "id": "xfuYkMlHEv8y"
      }
    },
    {
      "cell_type": "code",
      "source": [
        "def switch(a):\n",
        "    d = {\n",
        "        1:'Um' ,                #case 1\n",
        "        2:'Dois'                #case 2\n",
        "        }\n",
        "    return d.get(a,'Nenhuma')   #Defult\n",
        "\n",
        "print(switch(1))  # Um\n",
        "print(switch(2))  # Dois\n",
        "print(switch(3))  # Nenhuma"
      ],
      "metadata": {
        "colab": {
          "base_uri": "https://localhost:8080/"
        },
        "id": "E3KgUhIVcqMC",
        "outputId": "c6d38eb7-330c-4a66-c3c1-a89ba1d4f2ef"
      },
      "execution_count": 21,
      "outputs": [
        {
          "output_type": "stream",
          "name": "stdout",
          "text": [
            "Um\n",
            "Dois\n",
            "Nenhuma\n"
          ]
        }
      ]
    },
    {
      "cell_type": "code",
      "source": [
        "def switch(a):\n",
        "    d = {1:'Um' , 2 : 'Dois'}\n",
        "    return d.get(a,'Nenhuma')\n",
        "\n",
        "print(switch(1))  # Um\n",
        "print(switch(2))  # Dois\n",
        "print(switch(3))  # Nenhuma\n"
      ],
      "metadata": {
        "id": "6vqgWh6vTTkE"
      },
      "execution_count": null,
      "outputs": []
    },
    {
      "cell_type": "code",
      "source": [
        "#Tenta tirar os nmeros iguais\n",
        "lista1 = [1, 2, 3, 1, 4, 2]"
      ],
      "metadata": {
        "id": "vtIukTRDWINW"
      },
      "execution_count": null,
      "outputs": []
    },
    {
      "cell_type": "code",
      "source": [
        "def unique_list(lst ):\n",
        "    novaLista = []\n",
        "    for elemenoDaLista1 in lst:\n",
        "        if elemenoDaLista1 not in novaLista:\n",
        "          novaLista.append(elemenoDaLista1)\n",
        "    return novaLista\n",
        "\n",
        "print(unique_list(lista1))"
      ],
      "metadata": {
        "colab": {
          "base_uri": "https://localhost:8080/"
        },
        "id": "mCG1f2bvVVxL",
        "outputId": "0a168982-1e83-4eca-90ce-bd9bbee28a41"
      },
      "execution_count": null,
      "outputs": [
        {
          "output_type": "stream",
          "name": "stdout",
          "text": [
            "[1, 2, 3, 4]\n"
          ]
        }
      ]
    },
    {
      "cell_type": "code",
      "source": [
        "def unique_list_2(lst):\n",
        "   return list(set(lst))\n",
        "\n",
        "print(unique_list_2(lista1))"
      ],
      "metadata": {
        "colab": {
          "base_uri": "https://localhost:8080/"
        },
        "id": "rT76R9v6WCXt",
        "outputId": "61b9c967-e8f3-46c9-8836-e6b7c9e3425c"
      },
      "execution_count": null,
      "outputs": [
        {
          "output_type": "stream",
          "name": "stdout",
          "text": [
            "[1, 2, 3, 4]\n"
          ]
        }
      ]
    },
    {
      "cell_type": "markdown",
      "source": [
        "# PEP 484"
      ],
      "metadata": {
        "id": "9tB-P5ChWlmG"
      }
    },
    {
      "cell_type": "code",
      "source": [
        "def greeting(name: str) -> str:\n",
        "    return 'Hello ' + name\n",
        "\n",
        "print(greeting('Arash'))"
      ],
      "metadata": {
        "id": "lbMLP-qoWoa0"
      },
      "execution_count": null,
      "outputs": []
    },
    {
      "cell_type": "code",
      "source": [
        "def add(x:int, y:int) -> int:\n",
        "    '''\n",
        "     Suma Dois Numeros\n",
        "    '''\n",
        "    print(x+y)\n",
        "\n",
        "add(2, 3)  # 5\n",
        "\n",
        "print(add.__annotations__)\n",
        "# {'x': <class 'int'>, 'y': <class 'int'>, 'return': <class 'int'>}\n",
        "\n",
        "print(add.__doc__)   # Mostra a Documentacão"
      ],
      "metadata": {
        "colab": {
          "base_uri": "https://localhost:8080/"
        },
        "id": "xRHwzkqtFGG3",
        "outputId": "1dfb33c0-1a6a-4870-f9c9-f2d3c6151986"
      },
      "execution_count": null,
      "outputs": [
        {
          "output_type": "stream",
          "name": "stdout",
          "text": [
            "5\n",
            "{'x': <class 'int'>, 'y': <class 'int'>, 'return': <class 'int'>}\n",
            "\n",
            "     Suma Dois Numeros\n",
            "    \n"
          ]
        }
      ]
    },
    {
      "cell_type": "markdown",
      "source": [
        "<h2><b>\n",
        "<pre>\n",
        "    recursive\n",
        "</pre>"
      ],
      "metadata": {
        "id": "zLhpCJ0wE5gE"
      }
    },
    {
      "cell_type": "code",
      "source": [
        "'''\n",
        "iterative:\n",
        "            n! = 1*2*3*...*n\n",
        "\n",
        "recursive:\n",
        "            n! = n * (n-1)!\n",
        "            1! = 1\n",
        "\n",
        "4! = 4 * 3! = 4 * 6 = 24\n",
        "3! = 3 * 2! = 3 * 2 = 6\n",
        "2! = 2 * 1! = 2 * 1 = 2\n",
        "1! = 1\n",
        "\n",
        "'''\n",
        "\n",
        "def fact(n):\n",
        "    if n == 1:\n",
        "        return 1\n",
        "    else:\n",
        "        return n * fact(n-1)\n",
        "\n",
        "print(fact(4))     # 24"
      ],
      "metadata": {
        "id": "lEqHJeVpXhxP"
      },
      "execution_count": null,
      "outputs": []
    },
    {
      "cell_type": "code",
      "source": [
        "def f(n,base):\n",
        "     s = '0123456789ABCDEF'\n",
        "     if n < base:\n",
        "         return s[n]\n",
        "     else:\n",
        "         return f(n//base , base) + s[ n % base]\n",
        "\n",
        "print(f(25,16))       # 19\n",
        "\n",
        "'''\n",
        "f(25,16) = f(1,16) + s[9] = 1 + 9 = 19\n",
        "f(1,16)  = s[1]  = 1\n",
        "\n",
        "'''\n",
        "\n",
        "print(f(8,2))         # 1000"
      ],
      "metadata": {
        "id": "IoKV5YnOYNCp"
      },
      "execution_count": null,
      "outputs": []
    },
    {
      "cell_type": "code",
      "source": [
        "Lista = [2, 4, 7, 12, 19, 25, 38]\n",
        "len(Lista)\n",
        "\n",
        "#binary"
      ],
      "metadata": {
        "colab": {
          "base_uri": "https://localhost:8080/"
        },
        "id": "BW5YlvQeY1ks",
        "outputId": "f1d94ff0-e7cf-48f6-fa94-ceb59683bac1"
      },
      "execution_count": 25,
      "outputs": [
        {
          "output_type": "execute_result",
          "data": {
            "text/plain": [
              "7"
            ]
          },
          "metadata": {},
          "execution_count": 25
        }
      ]
    },
    {
      "cell_type": "code",
      "source": [
        "def PyIn(lst :list[int], x :int, start=0, end=None):\n",
        "    if end is None:\n",
        "        end = len(lst) - 1\n",
        "    if start > end:\n",
        "        return False\n",
        "    mid = (start + end) // 2\n",
        "    if x == lst[mid]:\n",
        "        return mid\n",
        "    if x < lst[mid]:\n",
        "        return PyIn(lst, x, start, mid - 1)\n",
        "    return PyIn(lst, x, mid + 1, end)\n",
        "\n",
        "\n",
        "print(PyIn(Lista, 19 ))    # 4\n",
        "print(PyIn(Lista, 4 ))     # 1\n",
        "print(PyIn(Lista, 20))     # False"
      ],
      "metadata": {
        "colab": {
          "base_uri": "https://localhost:8080/"
        },
        "id": "erHnYI8lZwUA",
        "outputId": "a338c531-43bb-44ae-b03d-2812313176ad"
      },
      "execution_count": null,
      "outputs": [
        {
          "output_type": "stream",
          "name": "stdout",
          "text": [
            "4\n",
            "1\n",
            "False\n"
          ]
        }
      ]
    },
    {
      "cell_type": "markdown",
      "source": [
        "<h1><b>\n",
        "<pre>\n",
        "  lambda\n",
        "</pre>"
      ],
      "metadata": {
        "id": "ABPprMBYE5qU"
      }
    },
    {
      "cell_type": "code",
      "source": [
        "add = lambda x, y : x * y\n",
        "print(add(2, 3))   # 6"
      ],
      "metadata": {
        "id": "jZiF-UIBbHZN"
      },
      "execution_count": null,
      "outputs": []
    },
    {
      "cell_type": "code",
      "source": [
        "f = lambda x, y : (x + y , x - y)\n",
        "print(f(8, 1))                     # (9, 7)\n"
      ],
      "metadata": {
        "id": "LjRkL-d7cXHj"
      },
      "execution_count": null,
      "outputs": []
    },
    {
      "cell_type": "code",
      "source": [
        "f = lambda x, y : (x + y , x - y)\n",
        "a,b= f(8,1)\n",
        "print(a,b)\n",
        "print(a+2)"
      ],
      "metadata": {
        "colab": {
          "base_uri": "https://localhost:8080/"
        },
        "id": "KzSxoDDlay58",
        "outputId": "848b32ff-1a23-46cf-b1b6-d2b8551ae9b1"
      },
      "execution_count": null,
      "outputs": [
        {
          "output_type": "stream",
          "name": "stdout",
          "text": [
            "9 7\n",
            "11\n"
          ]
        }
      ]
    },
    {
      "cell_type": "markdown",
      "source": [
        "# [***map***](https://www.hashtagtreinamentos.com/map-no-python)\n"
      ],
      "metadata": {
        "id": "0RQgc0M7cbpU"
      }
    },
    {
      "cell_type": "code",
      "source": [
        "lst = ['ARASH','FELIPE']"
      ],
      "metadata": {
        "id": "T9RjZpzWcqm9"
      },
      "execution_count": null,
      "outputs": []
    },
    {
      "cell_type": "code",
      "source": [
        "lst2=list()\n",
        "for i in lst:\n",
        "  x = i.lower()\n",
        "  lst2.append(x)\n",
        "print(lst2)"
      ],
      "metadata": {
        "colab": {
          "base_uri": "https://localhost:8080/"
        },
        "id": "2irlThVuczx4",
        "outputId": "f66a81ea-9920-454d-fee3-5c1a2e9e9421"
      },
      "execution_count": null,
      "outputs": [
        {
          "output_type": "stream",
          "name": "stdout",
          "text": [
            "['arash', 'felipe']\n"
          ]
        }
      ]
    },
    {
      "cell_type": "code",
      "source": [
        "print(list(map(str.lower, lst)))     #['arash', 'felipe']"
      ],
      "metadata": {
        "id": "3nQSYLPIcpzd"
      },
      "execution_count": null,
      "outputs": []
    },
    {
      "cell_type": "markdown",
      "source": [
        "\n",
        "*   Exemplo 2\n",
        "---"
      ],
      "metadata": {
        "id": "m5dcbU_Bgjll"
      }
    },
    {
      "cell_type": "code",
      "source": [
        "precos = [1000, 1500, 1250, 2500]"
      ],
      "metadata": {
        "id": "9qHFJiqbgg0U"
      },
      "execution_count": null,
      "outputs": []
    },
    {
      "cell_type": "code",
      "source": [
        "\n",
        "\n",
        "def adicionar_imposto(preco):\n",
        "\treturn preco * 1.1\n",
        "\n",
        "\n",
        "precos_com_imposto = []\n",
        "for preco in precos:\n",
        "\tprecos_com_imposto.append(adicionar_imposto(preco))\n",
        "\n",
        "print(precos_com_imposto)"
      ],
      "metadata": {
        "id": "h4fdBGtwgbx8"
      },
      "execution_count": null,
      "outputs": []
    },
    {
      "cell_type": "code",
      "source": [
        "precos_com_imposto2 = map(adicionar_imposto, precos)\n",
        "\n",
        "print(precos_com_imposto2)"
      ],
      "metadata": {
        "id": "Jz22VmXGgdjo"
      },
      "execution_count": null,
      "outputs": []
    },
    {
      "cell_type": "code",
      "source": [
        "a = ['Kaynan', 'Arash']\n",
        "b = [20, 16]\n",
        "\n",
        "print(list(zip(a,b)))                # [('Kaynan', 20), ('Arash', 16)]\n",
        "#ou\n",
        "print(list(map(lambda x, y : (x,y) , a , b)))"
      ],
      "metadata": {
        "id": "ufS-bZQlgv7u"
      },
      "execution_count": null,
      "outputs": []
    },
    {
      "cell_type": "code",
      "source": [
        "a = [1, 3]\n",
        "b = [2, 4]\n",
        "print(list(map(lambda x, y :x+y, a, b)))   # [3, 7]\n"
      ],
      "metadata": {
        "id": "sb-Cm70Ug_fg"
      },
      "execution_count": null,
      "outputs": []
    },
    {
      "cell_type": "code",
      "source": [
        "a = [16, 7, 14, 6]\n",
        "print(list(map(lambda x : x < 10 , a)))    # [False, True, False, True]"
      ],
      "metadata": {
        "id": "c1gNga2GhAx_"
      },
      "execution_count": null,
      "outputs": []
    },
    {
      "cell_type": "markdown",
      "source": [
        "<h1><b>\n",
        "<pre>\n",
        "  filter\n",
        "</pre>"
      ],
      "metadata": {
        "id": "pjlHUzc5cb3S"
      }
    },
    {
      "cell_type": "code",
      "source": [
        "a = [16, 7, 14, 6]\n",
        "print(list(filter(lambda x : x < 10 , a)))  # [7, 6]"
      ],
      "metadata": {
        "id": "N-qwnNCkhTIn"
      },
      "execution_count": null,
      "outputs": []
    },
    {
      "cell_type": "code",
      "source": [
        "a = [12, 17, '', 6,'' , 18]\n",
        "print(list(filter(None,a)))       # [12, 17, 6, 18]"
      ],
      "metadata": {
        "id": "iuQ4m3hGg-Qp"
      },
      "execution_count": null,
      "outputs": []
    },
    {
      "cell_type": "markdown",
      "source": [
        "<h1><b>\n",
        "<pre>\n",
        "  reduce\n",
        "</pre>"
      ],
      "metadata": {
        "id": "Z1AqbsaVccFS"
      }
    },
    {
      "cell_type": "code",
      "source": [
        "from functools import reduce\n",
        "\n",
        "lis = [12, 17, 6, 18]\n",
        "add = lambda a,b : a+b\n",
        "\n",
        "print(reduce(add, lis))        # 53   : (((12+17)+6)+18)"
      ],
      "metadata": {
        "id": "-W41L8eQhnat"
      },
      "execution_count": null,
      "outputs": []
    },
    {
      "cell_type": "markdown",
      "source": [
        "<h1><b>\n",
        "<pre>\n",
        "  sorted\n",
        "</pre>"
      ],
      "metadata": {
        "id": "4VCmV_mZhkVa"
      }
    },
    {
      "cell_type": "code",
      "source": [
        "lst = [12, 17, 6, 18]\n",
        "print(sorted(lst))             # [6, 12, 17, 18]"
      ],
      "metadata": {
        "colab": {
          "base_uri": "https://localhost:8080/"
        },
        "id": "JPt6ogk2h26o",
        "outputId": "47b7c2e2-71b7-47c3-a0e3-750ce8d4d599"
      },
      "execution_count": null,
      "outputs": [
        {
          "output_type": "stream",
          "name": "stdout",
          "text": [
            "[6, 12, 17, 18]\n"
          ]
        }
      ]
    },
    {
      "cell_type": "code",
      "source": [
        "lst"
      ],
      "metadata": {
        "colab": {
          "base_uri": "https://localhost:8080/"
        },
        "id": "24T7m2thh82i",
        "outputId": "24f6eceb-61f9-4928-9251-11f851f15c67"
      },
      "execution_count": null,
      "outputs": [
        {
          "output_type": "execute_result",
          "data": {
            "text/plain": [
              "[6, 12, 17, 18]"
            ]
          },
          "metadata": {},
          "execution_count": 54
        }
      ]
    },
    {
      "cell_type": "code",
      "source": [
        "lst.sort()"
      ],
      "metadata": {
        "id": "uDTAqxgGh-wz"
      },
      "execution_count": null,
      "outputs": []
    },
    {
      "cell_type": "code",
      "source": [
        "d = {'ali' : 12, 'sara' : 17, 'taha' : 6 , 'mahsa' : 18}\n",
        "print(sorted(d.items() , key = lambda x : x[1]))\n",
        "\n",
        "# [('taha', 6), ('ali', 12), ('sara', 17), ('mahsa', 18)]\n"
      ],
      "metadata": {
        "id": "jl4JK1PSFnGx"
      },
      "execution_count": null,
      "outputs": []
    },
    {
      "cell_type": "markdown",
      "source": [
        "<b>\n",
        "<pre>\n",
        "\n",
        "\n",
        "</pre>"
      ],
      "metadata": {
        "id": "zHmB6gfuEz37"
      }
    }
  ]
}
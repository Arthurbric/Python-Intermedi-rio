{
  "cells": [
    {
      "cell_type": "markdown",
      "source": [
        "# Monitores:\n",
        "\n",
        "1.   [Arthur Arash](https://www.linkedin.com/in/arthur-arash-briceno-heidari/)\n",
        "3.   [Kaynan Souza](https://www.linkedin.com/in/kaynan-macedo-de-souza-9a3260231/)\n",
        "\n",
        "\n",
        "\n",
        "\n"
      ],
      "metadata": {
        "id": "kyQ8Z4FTVEzZ"
      }
    },
    {
      "cell_type": "markdown",
      "metadata": {
        "id": "9Qbx7ikdb29H"
      },
      "source": [
        "# dictionary"
      ]
    },
    {
      "cell_type": "code",
      "execution_count": 14,
      "metadata": {
        "id": "ZMtNq2zJb29L"
      },
      "outputs": [],
      "source": [
        "dict1 = {'a':1, 45:'59'}"
      ]
    },
    {
      "cell_type": "code",
      "execution_count": 15,
      "metadata": {
        "id": "5L4-SLKMb29N",
        "outputId": "d42c10d9-92e0-4047-8e9b-8197c7b9f2b5",
        "colab": {
          "base_uri": "https://localhost:8080/"
        }
      },
      "outputs": [
        {
          "output_type": "execute_result",
          "data": {
            "text/plain": [
              "{'a': 1, 45: '59'}"
            ]
          },
          "metadata": {},
          "execution_count": 15
        }
      ],
      "source": [
        "dict1"
      ]
    },
    {
      "cell_type": "code",
      "execution_count": 16,
      "metadata": {
        "id": "DvAtN42rb29O"
      },
      "outputs": [],
      "source": [
        "dict2 = {'home':'Casa', 'orange':'Laranja', 'pencil':'lápis', 'garden':'jardim'}"
      ]
    },
    {
      "cell_type": "code",
      "execution_count": 17,
      "metadata": {
        "id": "PYsMlJ0zb29P",
        "outputId": "dfed9ada-cbc6-4bdd-b3bc-5daf24f0c952",
        "colab": {
          "base_uri": "https://localhost:8080/"
        }
      },
      "outputs": [
        {
          "output_type": "execute_result",
          "data": {
            "text/plain": [
              "{'home': 'Casa', 'orange': 'Laranja', 'pencil': 'lápis', 'garden': 'jardim'}"
            ]
          },
          "metadata": {},
          "execution_count": 17
        }
      ],
      "source": [
        "dict2"
      ]
    },
    {
      "cell_type": "markdown",
      "metadata": {
        "id": "W5oc9SnLb29Q"
      },
      "source": [
        "## items"
      ]
    },
    {
      "cell_type": "code",
      "execution_count": 18,
      "metadata": {
        "scrolled": true,
        "id": "5oUG2BjTb29R",
        "outputId": "61f0bfc7-cf6f-4879-ce9b-dd55c2ca1ef8",
        "colab": {
          "base_uri": "https://localhost:8080/"
        }
      },
      "outputs": [
        {
          "output_type": "execute_result",
          "data": {
            "text/plain": [
              "dict_items([('home', 'Casa'), ('orange', 'Laranja'), ('pencil', 'lápis'), ('garden', 'jardim')])"
            ]
          },
          "metadata": {},
          "execution_count": 18
        }
      ],
      "source": [
        "dict2.items()"
      ]
    },
    {
      "cell_type": "markdown",
      "metadata": {
        "id": "WT4y5k1Ob29S"
      },
      "source": [
        "## keys"
      ]
    },
    {
      "cell_type": "code",
      "execution_count": 19,
      "metadata": {
        "id": "njqMKkcgb29T",
        "outputId": "e6157e6f-788c-4a56-89c1-929473b67f99",
        "colab": {
          "base_uri": "https://localhost:8080/"
        }
      },
      "outputs": [
        {
          "output_type": "execute_result",
          "data": {
            "text/plain": [
              "dict_keys(['home', 'orange', 'pencil', 'garden'])"
            ]
          },
          "metadata": {},
          "execution_count": 19
        }
      ],
      "source": [
        "dict2.keys()"
      ]
    },
    {
      "cell_type": "markdown",
      "metadata": {
        "id": "C2LlVsC3b29U"
      },
      "source": [
        "## values"
      ]
    },
    {
      "cell_type": "code",
      "execution_count": 20,
      "metadata": {
        "id": "YFkmPQWub29U",
        "outputId": "a28a96d0-bea5-4c74-95da-4eea02e4d125",
        "colab": {
          "base_uri": "https://localhost:8080/"
        }
      },
      "outputs": [
        {
          "output_type": "execute_result",
          "data": {
            "text/plain": [
              "dict_values(['Casa', 'Laranja', 'lápis', 'jardim'])"
            ]
          },
          "metadata": {},
          "execution_count": 20
        }
      ],
      "source": [
        "dict2.values()"
      ]
    },
    {
      "cell_type": "markdown",
      "metadata": {
        "id": "hTu6goS7b29V"
      },
      "source": [
        "## get"
      ]
    },
    {
      "cell_type": "code",
      "execution_count": 21,
      "metadata": {
        "id": "ry9SNc8Rb29V",
        "outputId": "89a837b2-823e-497f-8bf0-ca6dd68d8f22",
        "colab": {
          "base_uri": "https://localhost:8080/",
          "height": 35
        }
      },
      "outputs": [
        {
          "output_type": "execute_result",
          "data": {
            "text/plain": [
              "'Laranja'"
            ],
            "application/vnd.google.colaboratory.intrinsic+json": {
              "type": "string"
            }
          },
          "metadata": {},
          "execution_count": 21
        }
      ],
      "source": [
        "dict2.get('orange')"
      ]
    },
    {
      "cell_type": "code",
      "execution_count": 22,
      "metadata": {
        "id": "Dv78UnE7b29W",
        "outputId": "d1bda242-a1e0-4ec4-f505-78a35fad78fe",
        "colab": {
          "base_uri": "https://localhost:8080/",
          "height": 35
        }
      },
      "outputs": [
        {
          "output_type": "execute_result",
          "data": {
            "text/plain": [
              "'Laranja'"
            ],
            "application/vnd.google.colaboratory.intrinsic+json": {
              "type": "string"
            }
          },
          "metadata": {},
          "execution_count": 22
        }
      ],
      "source": [
        "dict2['orange']"
      ]
    },
    {
      "cell_type": "code",
      "execution_count": 23,
      "metadata": {
        "id": "eFgrhPrab29W",
        "outputId": "a6900528-9e4d-4c90-821c-6da8851305aa",
        "colab": {
          "base_uri": "https://localhost:8080/",
          "height": 176
        }
      },
      "outputs": [
        {
          "output_type": "error",
          "ename": "KeyError",
          "evalue": "ignored",
          "traceback": [
            "\u001b[0;31m---------------------------------------------------------------------------\u001b[0m",
            "\u001b[0;31mKeyError\u001b[0m                                  Traceback (most recent call last)",
            "\u001b[0;32m<ipython-input-23-200799b221c1>\u001b[0m in \u001b[0;36m<cell line: 1>\u001b[0;34m()\u001b[0m\n\u001b[0;32m----> 1\u001b[0;31m \u001b[0mdict2\u001b[0m\u001b[0;34m[\u001b[0m\u001b[0;34m'library'\u001b[0m\u001b[0;34m]\u001b[0m\u001b[0;34m\u001b[0m\u001b[0;34m\u001b[0m\u001b[0m\n\u001b[0m",
            "\u001b[0;31mKeyError\u001b[0m: 'library'"
          ]
        }
      ],
      "source": [
        "dict2['library']"
      ]
    },
    {
      "cell_type": "code",
      "execution_count": 25,
      "metadata": {
        "id": "7R4jQem7b29W"
      },
      "outputs": [],
      "source": [
        "dict2.get('library')"
      ]
    },
    {
      "cell_type": "code",
      "execution_count": 26,
      "metadata": {
        "id": "eaSRK0gMb29X",
        "outputId": "1aa9f58c-fed6-4252-d8b0-5d223746795c",
        "colab": {
          "base_uri": "https://localhost:8080/",
          "height": 35
        }
      },
      "outputs": [
        {
          "output_type": "execute_result",
          "data": {
            "text/plain": [
              "'This key is not in dictionary'"
            ],
            "application/vnd.google.colaboratory.intrinsic+json": {
              "type": "string"
            }
          },
          "metadata": {},
          "execution_count": 26
        }
      ],
      "source": [
        "dict2.get('library', 'This key is not in dictionary')"
      ]
    },
    {
      "cell_type": "markdown",
      "metadata": {
        "id": "0JzLJgTcb29X"
      },
      "source": [
        "## has a key in dict"
      ]
    },
    {
      "cell_type": "code",
      "execution_count": 27,
      "metadata": {
        "id": "yfJGlQ4mb29X",
        "outputId": "c54c8a49-ee8f-4298-a4d0-7f680fab25e5",
        "colab": {
          "base_uri": "https://localhost:8080/"
        }
      },
      "outputs": [
        {
          "output_type": "execute_result",
          "data": {
            "text/plain": [
              "{'home': 'Casa', 'orange': 'Laranja', 'pencil': 'lápis', 'garden': 'jardim'}"
            ]
          },
          "metadata": {},
          "execution_count": 27
        }
      ],
      "source": [
        "dict2"
      ]
    },
    {
      "cell_type": "code",
      "execution_count": 28,
      "metadata": {
        "id": "X2pv77oTb29Y",
        "outputId": "2f105424-a0ee-44f2-b184-9bb1d2b087c0",
        "colab": {
          "base_uri": "https://localhost:8080/"
        }
      },
      "outputs": [
        {
          "output_type": "execute_result",
          "data": {
            "text/plain": [
              "True"
            ]
          },
          "metadata": {},
          "execution_count": 28
        }
      ],
      "source": [
        "'home' in dict2 #key chaves"
      ]
    },
    {
      "cell_type": "code",
      "execution_count": 29,
      "metadata": {
        "id": "QIittOOCb29Y",
        "outputId": "f2bf25fc-76d2-42e4-ab81-bbf0b50e6c78",
        "colab": {
          "base_uri": "https://localhost:8080/"
        }
      },
      "outputs": [
        {
          "output_type": "execute_result",
          "data": {
            "text/plain": [
              "False"
            ]
          },
          "metadata": {},
          "execution_count": 29
        }
      ],
      "source": [
        "'Laranja' in dict2 #key chaves"
      ]
    },
    {
      "cell_type": "code",
      "execution_count": 30,
      "metadata": {
        "id": "uPr3eLgrb29Z",
        "outputId": "ac4234b9-7921-497e-c892-571d59bb1825",
        "colab": {
          "base_uri": "https://localhost:8080/"
        }
      },
      "outputs": [
        {
          "output_type": "execute_result",
          "data": {
            "text/plain": [
              "True"
            ]
          },
          "metadata": {},
          "execution_count": 30
        }
      ],
      "source": [
        "'orange' in dict2"
      ]
    },
    {
      "cell_type": "code",
      "execution_count": 31,
      "metadata": {
        "id": "W-DoHJUTb29Z",
        "outputId": "cc9573a9-59e7-46f0-d8bd-3c73e1ab4dae",
        "colab": {
          "base_uri": "https://localhost:8080/"
        }
      },
      "outputs": [
        {
          "output_type": "execute_result",
          "data": {
            "text/plain": [
              "False"
            ]
          },
          "metadata": {},
          "execution_count": 31
        }
      ],
      "source": [
        "'library' in dict2"
      ]
    },
    {
      "cell_type": "markdown",
      "metadata": {
        "id": "_PeieWuRb29a"
      },
      "source": [
        "## copy"
      ]
    },
    {
      "cell_type": "code",
      "execution_count": 32,
      "metadata": {
        "id": "tV0ZLw8Sb29a",
        "outputId": "4b986a33-aa4f-4f22-f337-c048040ca813",
        "colab": {
          "base_uri": "https://localhost:8080/"
        }
      },
      "outputs": [
        {
          "output_type": "execute_result",
          "data": {
            "text/plain": [
              "{'home': 'Casa', 'orange': 'Laranja', 'pencil': 'lápis', 'garden': 'jardim'}"
            ]
          },
          "metadata": {},
          "execution_count": 32
        }
      ],
      "source": [
        "dict2"
      ]
    },
    {
      "cell_type": "code",
      "execution_count": 33,
      "metadata": {
        "id": "-Bl3sSbEb29a"
      },
      "outputs": [],
      "source": [
        "dict3 = dict2.copy()"
      ]
    },
    {
      "cell_type": "code",
      "execution_count": 34,
      "metadata": {
        "id": "MMBG3SjFb29a",
        "outputId": "5f07b818-f309-42a8-8d4e-c3278212b593",
        "colab": {
          "base_uri": "https://localhost:8080/"
        }
      },
      "outputs": [
        {
          "output_type": "execute_result",
          "data": {
            "text/plain": [
              "{'home': 'Casa', 'orange': 'Laranja', 'pencil': 'lápis', 'garden': 'jardim'}"
            ]
          },
          "metadata": {},
          "execution_count": 34
        }
      ],
      "source": [
        "dict3"
      ]
    },
    {
      "cell_type": "code",
      "execution_count": 35,
      "metadata": {
        "id": "16ofdbmGb29a"
      },
      "outputs": [],
      "source": [
        "dict4 = dict2"
      ]
    },
    {
      "cell_type": "code",
      "execution_count": 36,
      "metadata": {
        "id": "nYHcXdSwb29b",
        "outputId": "b6be8a8f-460a-4529-e820-f445f4baf708",
        "colab": {
          "base_uri": "https://localhost:8080/"
        }
      },
      "outputs": [
        {
          "output_type": "execute_result",
          "data": {
            "text/plain": [
              "{'home': 'Casa', 'orange': 'Laranja', 'pencil': 'lápis', 'garden': 'jardim'}"
            ]
          },
          "metadata": {},
          "execution_count": 36
        }
      ],
      "source": [
        "dict4"
      ]
    },
    {
      "cell_type": "code",
      "execution_count": 37,
      "metadata": {
        "id": "6gOjJ9nmb29b"
      },
      "outputs": [],
      "source": [
        "dict2['garden'] = 'parque de flores'"
      ]
    },
    {
      "cell_type": "code",
      "execution_count": 38,
      "metadata": {
        "id": "RaMKXBNZb29b",
        "outputId": "642e085c-4439-425b-aa05-3ba7fbaab0df",
        "colab": {
          "base_uri": "https://localhost:8080/"
        }
      },
      "outputs": [
        {
          "output_type": "execute_result",
          "data": {
            "text/plain": [
              "{'home': 'Casa',\n",
              " 'orange': 'Laranja',\n",
              " 'pencil': 'lápis',\n",
              " 'garden': 'parque de flores'}"
            ]
          },
          "metadata": {},
          "execution_count": 38
        }
      ],
      "source": [
        "dict2"
      ]
    },
    {
      "cell_type": "code",
      "execution_count": 39,
      "metadata": {
        "id": "iLb4wDw6b29b",
        "outputId": "88acb8cb-2811-4be3-e3f8-203e56f941fc",
        "colab": {
          "base_uri": "https://localhost:8080/"
        }
      },
      "outputs": [
        {
          "output_type": "execute_result",
          "data": {
            "text/plain": [
              "{'home': 'Casa', 'orange': 'Laranja', 'pencil': 'lápis', 'garden': 'jardim'}"
            ]
          },
          "metadata": {},
          "execution_count": 39
        }
      ],
      "source": [
        "dict3"
      ]
    },
    {
      "cell_type": "code",
      "execution_count": 40,
      "metadata": {
        "id": "e7aprIwHb29b",
        "outputId": "12347f1c-06b5-4a3b-b384-dcc2ec8a2598",
        "colab": {
          "base_uri": "https://localhost:8080/"
        }
      },
      "outputs": [
        {
          "output_type": "execute_result",
          "data": {
            "text/plain": [
              "{'home': 'Casa',\n",
              " 'orange': 'Laranja',\n",
              " 'pencil': 'lápis',\n",
              " 'garden': 'parque de flores'}"
            ]
          },
          "metadata": {},
          "execution_count": 40
        }
      ],
      "source": [
        "dict4"
      ]
    },
    {
      "cell_type": "markdown",
      "metadata": {
        "id": "rW0JWlBob29c"
      },
      "source": [
        "## clear"
      ]
    },
    {
      "cell_type": "code",
      "execution_count": 41,
      "metadata": {
        "id": "Y3Td-2aZb29c"
      },
      "outputs": [],
      "source": [
        "dict5 = {'home':'Casa', 'orange':'Laranja', 'pencil':'lápis', 'garden':'jardim'}"
      ]
    },
    {
      "cell_type": "code",
      "execution_count": 42,
      "metadata": {
        "id": "nmIkX8XMb29c",
        "outputId": "98bdc567-37e3-4cb8-8d43-2b5e45a24c43",
        "colab": {
          "base_uri": "https://localhost:8080/"
        }
      },
      "outputs": [
        {
          "output_type": "execute_result",
          "data": {
            "text/plain": [
              "{'home': 'Casa', 'orange': 'Laranja', 'pencil': 'lápis', 'garden': 'jardim'}"
            ]
          },
          "metadata": {},
          "execution_count": 42
        }
      ],
      "source": [
        "dict5"
      ]
    },
    {
      "cell_type": "code",
      "execution_count": 43,
      "metadata": {
        "id": "Hb6OIFxXb29c"
      },
      "outputs": [],
      "source": [
        "dict5.clear()"
      ]
    },
    {
      "cell_type": "code",
      "execution_count": 44,
      "metadata": {
        "id": "c-RxUO0ob29c",
        "outputId": "556d8d6a-c5ed-4898-bbe7-32a16ee26a0b",
        "colab": {
          "base_uri": "https://localhost:8080/"
        }
      },
      "outputs": [
        {
          "output_type": "execute_result",
          "data": {
            "text/plain": [
              "{}"
            ]
          },
          "metadata": {},
          "execution_count": 44
        }
      ],
      "source": [
        "dict5"
      ]
    },
    {
      "cell_type": "code",
      "execution_count": 45,
      "metadata": {
        "id": "Ce5KT6abb29d",
        "outputId": "2b088d00-994c-4440-961c-853ab6fe15e2",
        "colab": {
          "base_uri": "https://localhost:8080/"
        }
      },
      "outputs": [
        {
          "output_type": "execute_result",
          "data": {
            "text/plain": [
              "dict"
            ]
          },
          "metadata": {},
          "execution_count": 45
        }
      ],
      "source": [
        "type(dict5)"
      ]
    },
    {
      "cell_type": "code",
      "source": [],
      "metadata": {
        "id": "lKpEU6VARL1H"
      },
      "execution_count": 45,
      "outputs": []
    },
    {
      "cell_type": "markdown",
      "metadata": {
        "id": "IAVM8_RMs3fy"
      },
      "source": [
        "# csv\n",
        "## Monitores:\n",
        "\n",
        "1.     [Arthur Arash](https://www.linkedin.com/in/arthur-arash-briceno-heidari/)\n",
        "3.   [Kaynan Souza](https://www.linkedin.com/in/kaynan-macedo-de-souza-9a3260231/)"
      ]
    },
    {
      "cell_type": "code",
      "execution_count": 46,
      "metadata": {
        "id": "CTAkYs8Ts3f2"
      },
      "outputs": [],
      "source": [
        "import csv\n",
        "import pandas as pd"
      ]
    },
    {
      "cell_type": "code",
      "execution_count": 47,
      "metadata": {
        "id": "kNmEsd9ss3f5"
      },
      "outputs": [],
      "source": [
        "names = ['Vitoria', 'Arthur', 'Felipe', 'Beatriz', 'Giovanni', 'Guilherme', 'Kaynan']\n",
        "score = [20, 15, 17, 16, 18, 10,19]\n",
        "birthday = ['2001', '1980', '1999', 'NONE' , '1997', '2001','2002']\n",
        "married = ['yes', 'yes', 'NONE', 'no', 'NONE', 'no' , 'não']\n",
        "gender = ['f', 'm', 'm', 'f', 'm', 'm','m']"
      ]
    },
    {
      "cell_type": "code",
      "execution_count": 48,
      "metadata": {
        "id": "p0o0L_hSs3f5"
      },
      "outputs": [],
      "source": [
        "classroom = pd.DataFrame({\n",
        "    'Nomes': names,\n",
        "    'Genero': gender,\n",
        "    'Aniversario': birthday,\n",
        "    'Estado Civil': married,\n",
        "    'Pontaçao':score\n",
        "})"
      ]
    },
    {
      "cell_type": "code",
      "execution_count": 49,
      "metadata": {
        "colab": {
          "base_uri": "https://localhost:8080/",
          "height": 0
        },
        "id": "05yx9XPRs3f6",
        "outputId": "801fe613-e4ec-4ca7-e3a6-bf7ea9a0d2ae"
      },
      "outputs": [
        {
          "output_type": "execute_result",
          "data": {
            "text/plain": [
              "       Nomes Genero Aniversario Estado Civil  Pontaçao\n",
              "0    Vitoria      f        2001          yes        20\n",
              "1     Arthur      m        1980          yes        15\n",
              "2     Felipe      m        1999         NONE        17\n",
              "3    Beatriz      f        NONE           no        16\n",
              "4   Giovanni      m        1997         NONE        18\n",
              "5  Guilherme      m        2001           no        10\n",
              "6     Kaynan      m        2002          não        19"
            ],
            "text/html": [
              "\n",
              "  <div id=\"df-207cdf02-64b1-4537-aa0f-a6d37ae38ae5\" class=\"colab-df-container\">\n",
              "    <div>\n",
              "<style scoped>\n",
              "    .dataframe tbody tr th:only-of-type {\n",
              "        vertical-align: middle;\n",
              "    }\n",
              "\n",
              "    .dataframe tbody tr th {\n",
              "        vertical-align: top;\n",
              "    }\n",
              "\n",
              "    .dataframe thead th {\n",
              "        text-align: right;\n",
              "    }\n",
              "</style>\n",
              "<table border=\"1\" class=\"dataframe\">\n",
              "  <thead>\n",
              "    <tr style=\"text-align: right;\">\n",
              "      <th></th>\n",
              "      <th>Nomes</th>\n",
              "      <th>Genero</th>\n",
              "      <th>Aniversario</th>\n",
              "      <th>Estado Civil</th>\n",
              "      <th>Pontaçao</th>\n",
              "    </tr>\n",
              "  </thead>\n",
              "  <tbody>\n",
              "    <tr>\n",
              "      <th>0</th>\n",
              "      <td>Vitoria</td>\n",
              "      <td>f</td>\n",
              "      <td>2001</td>\n",
              "      <td>yes</td>\n",
              "      <td>20</td>\n",
              "    </tr>\n",
              "    <tr>\n",
              "      <th>1</th>\n",
              "      <td>Arthur</td>\n",
              "      <td>m</td>\n",
              "      <td>1980</td>\n",
              "      <td>yes</td>\n",
              "      <td>15</td>\n",
              "    </tr>\n",
              "    <tr>\n",
              "      <th>2</th>\n",
              "      <td>Felipe</td>\n",
              "      <td>m</td>\n",
              "      <td>1999</td>\n",
              "      <td>NONE</td>\n",
              "      <td>17</td>\n",
              "    </tr>\n",
              "    <tr>\n",
              "      <th>3</th>\n",
              "      <td>Beatriz</td>\n",
              "      <td>f</td>\n",
              "      <td>NONE</td>\n",
              "      <td>no</td>\n",
              "      <td>16</td>\n",
              "    </tr>\n",
              "    <tr>\n",
              "      <th>4</th>\n",
              "      <td>Giovanni</td>\n",
              "      <td>m</td>\n",
              "      <td>1997</td>\n",
              "      <td>NONE</td>\n",
              "      <td>18</td>\n",
              "    </tr>\n",
              "    <tr>\n",
              "      <th>5</th>\n",
              "      <td>Guilherme</td>\n",
              "      <td>m</td>\n",
              "      <td>2001</td>\n",
              "      <td>no</td>\n",
              "      <td>10</td>\n",
              "    </tr>\n",
              "    <tr>\n",
              "      <th>6</th>\n",
              "      <td>Kaynan</td>\n",
              "      <td>m</td>\n",
              "      <td>2002</td>\n",
              "      <td>não</td>\n",
              "      <td>19</td>\n",
              "    </tr>\n",
              "  </tbody>\n",
              "</table>\n",
              "</div>\n",
              "    <div class=\"colab-df-buttons\">\n",
              "\n",
              "  <div class=\"colab-df-container\">\n",
              "    <button class=\"colab-df-convert\" onclick=\"convertToInteractive('df-207cdf02-64b1-4537-aa0f-a6d37ae38ae5')\"\n",
              "            title=\"Convert this dataframe to an interactive table.\"\n",
              "            style=\"display:none;\">\n",
              "\n",
              "  <svg xmlns=\"http://www.w3.org/2000/svg\" height=\"24px\" viewBox=\"0 -960 960 960\">\n",
              "    <path d=\"M120-120v-720h720v720H120Zm60-500h600v-160H180v160Zm220 220h160v-160H400v160Zm0 220h160v-160H400v160ZM180-400h160v-160H180v160Zm440 0h160v-160H620v160ZM180-180h160v-160H180v160Zm440 0h160v-160H620v160Z\"/>\n",
              "  </svg>\n",
              "    </button>\n",
              "\n",
              "  <style>\n",
              "    .colab-df-container {\n",
              "      display:flex;\n",
              "      gap: 12px;\n",
              "    }\n",
              "\n",
              "    .colab-df-convert {\n",
              "      background-color: #E8F0FE;\n",
              "      border: none;\n",
              "      border-radius: 50%;\n",
              "      cursor: pointer;\n",
              "      display: none;\n",
              "      fill: #1967D2;\n",
              "      height: 32px;\n",
              "      padding: 0 0 0 0;\n",
              "      width: 32px;\n",
              "    }\n",
              "\n",
              "    .colab-df-convert:hover {\n",
              "      background-color: #E2EBFA;\n",
              "      box-shadow: 0px 1px 2px rgba(60, 64, 67, 0.3), 0px 1px 3px 1px rgba(60, 64, 67, 0.15);\n",
              "      fill: #174EA6;\n",
              "    }\n",
              "\n",
              "    .colab-df-buttons div {\n",
              "      margin-bottom: 4px;\n",
              "    }\n",
              "\n",
              "    [theme=dark] .colab-df-convert {\n",
              "      background-color: #3B4455;\n",
              "      fill: #D2E3FC;\n",
              "    }\n",
              "\n",
              "    [theme=dark] .colab-df-convert:hover {\n",
              "      background-color: #434B5C;\n",
              "      box-shadow: 0px 1px 3px 1px rgba(0, 0, 0, 0.15);\n",
              "      filter: drop-shadow(0px 1px 2px rgba(0, 0, 0, 0.3));\n",
              "      fill: #FFFFFF;\n",
              "    }\n",
              "  </style>\n",
              "\n",
              "    <script>\n",
              "      const buttonEl =\n",
              "        document.querySelector('#df-207cdf02-64b1-4537-aa0f-a6d37ae38ae5 button.colab-df-convert');\n",
              "      buttonEl.style.display =\n",
              "        google.colab.kernel.accessAllowed ? 'block' : 'none';\n",
              "\n",
              "      async function convertToInteractive(key) {\n",
              "        const element = document.querySelector('#df-207cdf02-64b1-4537-aa0f-a6d37ae38ae5');\n",
              "        const dataTable =\n",
              "          await google.colab.kernel.invokeFunction('convertToInteractive',\n",
              "                                                    [key], {});\n",
              "        if (!dataTable) return;\n",
              "\n",
              "        const docLinkHtml = 'Like what you see? Visit the ' +\n",
              "          '<a target=\"_blank\" href=https://colab.research.google.com/notebooks/data_table.ipynb>data table notebook</a>'\n",
              "          + ' to learn more about interactive tables.';\n",
              "        element.innerHTML = '';\n",
              "        dataTable['output_type'] = 'display_data';\n",
              "        await google.colab.output.renderOutput(dataTable, element);\n",
              "        const docLink = document.createElement('div');\n",
              "        docLink.innerHTML = docLinkHtml;\n",
              "        element.appendChild(docLink);\n",
              "      }\n",
              "    </script>\n",
              "  </div>\n",
              "\n",
              "\n",
              "<div id=\"df-207595e0-dd39-4bd9-aba5-ab9099171971\">\n",
              "  <button class=\"colab-df-quickchart\" onclick=\"quickchart('df-207595e0-dd39-4bd9-aba5-ab9099171971')\"\n",
              "            title=\"Suggest charts.\"\n",
              "            style=\"display:none;\">\n",
              "\n",
              "<svg xmlns=\"http://www.w3.org/2000/svg\" height=\"24px\"viewBox=\"0 0 24 24\"\n",
              "     width=\"24px\">\n",
              "    <g>\n",
              "        <path d=\"M19 3H5c-1.1 0-2 .9-2 2v14c0 1.1.9 2 2 2h14c1.1 0 2-.9 2-2V5c0-1.1-.9-2-2-2zM9 17H7v-7h2v7zm4 0h-2V7h2v10zm4 0h-2v-4h2v4z\"/>\n",
              "    </g>\n",
              "</svg>\n",
              "  </button>\n",
              "\n",
              "<style>\n",
              "  .colab-df-quickchart {\n",
              "      --bg-color: #E8F0FE;\n",
              "      --fill-color: #1967D2;\n",
              "      --hover-bg-color: #E2EBFA;\n",
              "      --hover-fill-color: #174EA6;\n",
              "      --disabled-fill-color: #AAA;\n",
              "      --disabled-bg-color: #DDD;\n",
              "  }\n",
              "\n",
              "  [theme=dark] .colab-df-quickchart {\n",
              "      --bg-color: #3B4455;\n",
              "      --fill-color: #D2E3FC;\n",
              "      --hover-bg-color: #434B5C;\n",
              "      --hover-fill-color: #FFFFFF;\n",
              "      --disabled-bg-color: #3B4455;\n",
              "      --disabled-fill-color: #666;\n",
              "  }\n",
              "\n",
              "  .colab-df-quickchart {\n",
              "    background-color: var(--bg-color);\n",
              "    border: none;\n",
              "    border-radius: 50%;\n",
              "    cursor: pointer;\n",
              "    display: none;\n",
              "    fill: var(--fill-color);\n",
              "    height: 32px;\n",
              "    padding: 0;\n",
              "    width: 32px;\n",
              "  }\n",
              "\n",
              "  .colab-df-quickchart:hover {\n",
              "    background-color: var(--hover-bg-color);\n",
              "    box-shadow: 0 1px 2px rgba(60, 64, 67, 0.3), 0 1px 3px 1px rgba(60, 64, 67, 0.15);\n",
              "    fill: var(--button-hover-fill-color);\n",
              "  }\n",
              "\n",
              "  .colab-df-quickchart-complete:disabled,\n",
              "  .colab-df-quickchart-complete:disabled:hover {\n",
              "    background-color: var(--disabled-bg-color);\n",
              "    fill: var(--disabled-fill-color);\n",
              "    box-shadow: none;\n",
              "  }\n",
              "\n",
              "  .colab-df-spinner {\n",
              "    border: 2px solid var(--fill-color);\n",
              "    border-color: transparent;\n",
              "    border-bottom-color: var(--fill-color);\n",
              "    animation:\n",
              "      spin 1s steps(1) infinite;\n",
              "  }\n",
              "\n",
              "  @keyframes spin {\n",
              "    0% {\n",
              "      border-color: transparent;\n",
              "      border-bottom-color: var(--fill-color);\n",
              "      border-left-color: var(--fill-color);\n",
              "    }\n",
              "    20% {\n",
              "      border-color: transparent;\n",
              "      border-left-color: var(--fill-color);\n",
              "      border-top-color: var(--fill-color);\n",
              "    }\n",
              "    30% {\n",
              "      border-color: transparent;\n",
              "      border-left-color: var(--fill-color);\n",
              "      border-top-color: var(--fill-color);\n",
              "      border-right-color: var(--fill-color);\n",
              "    }\n",
              "    40% {\n",
              "      border-color: transparent;\n",
              "      border-right-color: var(--fill-color);\n",
              "      border-top-color: var(--fill-color);\n",
              "    }\n",
              "    60% {\n",
              "      border-color: transparent;\n",
              "      border-right-color: var(--fill-color);\n",
              "    }\n",
              "    80% {\n",
              "      border-color: transparent;\n",
              "      border-right-color: var(--fill-color);\n",
              "      border-bottom-color: var(--fill-color);\n",
              "    }\n",
              "    90% {\n",
              "      border-color: transparent;\n",
              "      border-bottom-color: var(--fill-color);\n",
              "    }\n",
              "  }\n",
              "</style>\n",
              "\n",
              "  <script>\n",
              "    async function quickchart(key) {\n",
              "      const quickchartButtonEl =\n",
              "        document.querySelector('#' + key + ' button');\n",
              "      quickchartButtonEl.disabled = true;  // To prevent multiple clicks.\n",
              "      quickchartButtonEl.classList.add('colab-df-spinner');\n",
              "      try {\n",
              "        const charts = await google.colab.kernel.invokeFunction(\n",
              "            'suggestCharts', [key], {});\n",
              "      } catch (error) {\n",
              "        console.error('Error during call to suggestCharts:', error);\n",
              "      }\n",
              "      quickchartButtonEl.classList.remove('colab-df-spinner');\n",
              "      quickchartButtonEl.classList.add('colab-df-quickchart-complete');\n",
              "    }\n",
              "    (() => {\n",
              "      let quickchartButtonEl =\n",
              "        document.querySelector('#df-207595e0-dd39-4bd9-aba5-ab9099171971 button');\n",
              "      quickchartButtonEl.style.display =\n",
              "        google.colab.kernel.accessAllowed ? 'block' : 'none';\n",
              "    })();\n",
              "  </script>\n",
              "</div>\n",
              "    </div>\n",
              "  </div>\n"
            ]
          },
          "metadata": {},
          "execution_count": 49
        }
      ],
      "source": [
        "classroom"
      ]
    },
    {
      "cell_type": "code",
      "source": [
        "classroom.to_csv(\"csv_file.csv\" ) #arquivo_csv\n",
        "pd.read_csv(\"csv_file.csv\")"
      ],
      "metadata": {
        "colab": {
          "base_uri": "https://localhost:8080/",
          "height": 0
        },
        "id": "m7gJBRWexJBN",
        "outputId": "f11f309b-082e-4fd0-b5a1-375362d6dca9"
      },
      "execution_count": 50,
      "outputs": [
        {
          "output_type": "execute_result",
          "data": {
            "text/plain": [
              "   Unnamed: 0      Nomes Genero Aniversario Estado Civil  Pontaçao\n",
              "0           0    Vitoria      f        2001          yes        20\n",
              "1           1     Arthur      m        1980          yes        15\n",
              "2           2     Felipe      m        1999         NONE        17\n",
              "3           3    Beatriz      f        NONE           no        16\n",
              "4           4   Giovanni      m        1997         NONE        18\n",
              "5           5  Guilherme      m        2001           no        10\n",
              "6           6     Kaynan      m        2002          não        19"
            ],
            "text/html": [
              "\n",
              "  <div id=\"df-3f56563f-a8a0-4a9b-81d2-7cbdbfbd4f2c\" class=\"colab-df-container\">\n",
              "    <div>\n",
              "<style scoped>\n",
              "    .dataframe tbody tr th:only-of-type {\n",
              "        vertical-align: middle;\n",
              "    }\n",
              "\n",
              "    .dataframe tbody tr th {\n",
              "        vertical-align: top;\n",
              "    }\n",
              "\n",
              "    .dataframe thead th {\n",
              "        text-align: right;\n",
              "    }\n",
              "</style>\n",
              "<table border=\"1\" class=\"dataframe\">\n",
              "  <thead>\n",
              "    <tr style=\"text-align: right;\">\n",
              "      <th></th>\n",
              "      <th>Unnamed: 0</th>\n",
              "      <th>Nomes</th>\n",
              "      <th>Genero</th>\n",
              "      <th>Aniversario</th>\n",
              "      <th>Estado Civil</th>\n",
              "      <th>Pontaçao</th>\n",
              "    </tr>\n",
              "  </thead>\n",
              "  <tbody>\n",
              "    <tr>\n",
              "      <th>0</th>\n",
              "      <td>0</td>\n",
              "      <td>Vitoria</td>\n",
              "      <td>f</td>\n",
              "      <td>2001</td>\n",
              "      <td>yes</td>\n",
              "      <td>20</td>\n",
              "    </tr>\n",
              "    <tr>\n",
              "      <th>1</th>\n",
              "      <td>1</td>\n",
              "      <td>Arthur</td>\n",
              "      <td>m</td>\n",
              "      <td>1980</td>\n",
              "      <td>yes</td>\n",
              "      <td>15</td>\n",
              "    </tr>\n",
              "    <tr>\n",
              "      <th>2</th>\n",
              "      <td>2</td>\n",
              "      <td>Felipe</td>\n",
              "      <td>m</td>\n",
              "      <td>1999</td>\n",
              "      <td>NONE</td>\n",
              "      <td>17</td>\n",
              "    </tr>\n",
              "    <tr>\n",
              "      <th>3</th>\n",
              "      <td>3</td>\n",
              "      <td>Beatriz</td>\n",
              "      <td>f</td>\n",
              "      <td>NONE</td>\n",
              "      <td>no</td>\n",
              "      <td>16</td>\n",
              "    </tr>\n",
              "    <tr>\n",
              "      <th>4</th>\n",
              "      <td>4</td>\n",
              "      <td>Giovanni</td>\n",
              "      <td>m</td>\n",
              "      <td>1997</td>\n",
              "      <td>NONE</td>\n",
              "      <td>18</td>\n",
              "    </tr>\n",
              "    <tr>\n",
              "      <th>5</th>\n",
              "      <td>5</td>\n",
              "      <td>Guilherme</td>\n",
              "      <td>m</td>\n",
              "      <td>2001</td>\n",
              "      <td>no</td>\n",
              "      <td>10</td>\n",
              "    </tr>\n",
              "    <tr>\n",
              "      <th>6</th>\n",
              "      <td>6</td>\n",
              "      <td>Kaynan</td>\n",
              "      <td>m</td>\n",
              "      <td>2002</td>\n",
              "      <td>não</td>\n",
              "      <td>19</td>\n",
              "    </tr>\n",
              "  </tbody>\n",
              "</table>\n",
              "</div>\n",
              "    <div class=\"colab-df-buttons\">\n",
              "\n",
              "  <div class=\"colab-df-container\">\n",
              "    <button class=\"colab-df-convert\" onclick=\"convertToInteractive('df-3f56563f-a8a0-4a9b-81d2-7cbdbfbd4f2c')\"\n",
              "            title=\"Convert this dataframe to an interactive table.\"\n",
              "            style=\"display:none;\">\n",
              "\n",
              "  <svg xmlns=\"http://www.w3.org/2000/svg\" height=\"24px\" viewBox=\"0 -960 960 960\">\n",
              "    <path d=\"M120-120v-720h720v720H120Zm60-500h600v-160H180v160Zm220 220h160v-160H400v160Zm0 220h160v-160H400v160ZM180-400h160v-160H180v160Zm440 0h160v-160H620v160ZM180-180h160v-160H180v160Zm440 0h160v-160H620v160Z\"/>\n",
              "  </svg>\n",
              "    </button>\n",
              "\n",
              "  <style>\n",
              "    .colab-df-container {\n",
              "      display:flex;\n",
              "      gap: 12px;\n",
              "    }\n",
              "\n",
              "    .colab-df-convert {\n",
              "      background-color: #E8F0FE;\n",
              "      border: none;\n",
              "      border-radius: 50%;\n",
              "      cursor: pointer;\n",
              "      display: none;\n",
              "      fill: #1967D2;\n",
              "      height: 32px;\n",
              "      padding: 0 0 0 0;\n",
              "      width: 32px;\n",
              "    }\n",
              "\n",
              "    .colab-df-convert:hover {\n",
              "      background-color: #E2EBFA;\n",
              "      box-shadow: 0px 1px 2px rgba(60, 64, 67, 0.3), 0px 1px 3px 1px rgba(60, 64, 67, 0.15);\n",
              "      fill: #174EA6;\n",
              "    }\n",
              "\n",
              "    .colab-df-buttons div {\n",
              "      margin-bottom: 4px;\n",
              "    }\n",
              "\n",
              "    [theme=dark] .colab-df-convert {\n",
              "      background-color: #3B4455;\n",
              "      fill: #D2E3FC;\n",
              "    }\n",
              "\n",
              "    [theme=dark] .colab-df-convert:hover {\n",
              "      background-color: #434B5C;\n",
              "      box-shadow: 0px 1px 3px 1px rgba(0, 0, 0, 0.15);\n",
              "      filter: drop-shadow(0px 1px 2px rgba(0, 0, 0, 0.3));\n",
              "      fill: #FFFFFF;\n",
              "    }\n",
              "  </style>\n",
              "\n",
              "    <script>\n",
              "      const buttonEl =\n",
              "        document.querySelector('#df-3f56563f-a8a0-4a9b-81d2-7cbdbfbd4f2c button.colab-df-convert');\n",
              "      buttonEl.style.display =\n",
              "        google.colab.kernel.accessAllowed ? 'block' : 'none';\n",
              "\n",
              "      async function convertToInteractive(key) {\n",
              "        const element = document.querySelector('#df-3f56563f-a8a0-4a9b-81d2-7cbdbfbd4f2c');\n",
              "        const dataTable =\n",
              "          await google.colab.kernel.invokeFunction('convertToInteractive',\n",
              "                                                    [key], {});\n",
              "        if (!dataTable) return;\n",
              "\n",
              "        const docLinkHtml = 'Like what you see? Visit the ' +\n",
              "          '<a target=\"_blank\" href=https://colab.research.google.com/notebooks/data_table.ipynb>data table notebook</a>'\n",
              "          + ' to learn more about interactive tables.';\n",
              "        element.innerHTML = '';\n",
              "        dataTable['output_type'] = 'display_data';\n",
              "        await google.colab.output.renderOutput(dataTable, element);\n",
              "        const docLink = document.createElement('div');\n",
              "        docLink.innerHTML = docLinkHtml;\n",
              "        element.appendChild(docLink);\n",
              "      }\n",
              "    </script>\n",
              "  </div>\n",
              "\n",
              "\n",
              "<div id=\"df-2ce34967-121b-4b7a-b59f-2375903831a4\">\n",
              "  <button class=\"colab-df-quickchart\" onclick=\"quickchart('df-2ce34967-121b-4b7a-b59f-2375903831a4')\"\n",
              "            title=\"Suggest charts.\"\n",
              "            style=\"display:none;\">\n",
              "\n",
              "<svg xmlns=\"http://www.w3.org/2000/svg\" height=\"24px\"viewBox=\"0 0 24 24\"\n",
              "     width=\"24px\">\n",
              "    <g>\n",
              "        <path d=\"M19 3H5c-1.1 0-2 .9-2 2v14c0 1.1.9 2 2 2h14c1.1 0 2-.9 2-2V5c0-1.1-.9-2-2-2zM9 17H7v-7h2v7zm4 0h-2V7h2v10zm4 0h-2v-4h2v4z\"/>\n",
              "    </g>\n",
              "</svg>\n",
              "  </button>\n",
              "\n",
              "<style>\n",
              "  .colab-df-quickchart {\n",
              "      --bg-color: #E8F0FE;\n",
              "      --fill-color: #1967D2;\n",
              "      --hover-bg-color: #E2EBFA;\n",
              "      --hover-fill-color: #174EA6;\n",
              "      --disabled-fill-color: #AAA;\n",
              "      --disabled-bg-color: #DDD;\n",
              "  }\n",
              "\n",
              "  [theme=dark] .colab-df-quickchart {\n",
              "      --bg-color: #3B4455;\n",
              "      --fill-color: #D2E3FC;\n",
              "      --hover-bg-color: #434B5C;\n",
              "      --hover-fill-color: #FFFFFF;\n",
              "      --disabled-bg-color: #3B4455;\n",
              "      --disabled-fill-color: #666;\n",
              "  }\n",
              "\n",
              "  .colab-df-quickchart {\n",
              "    background-color: var(--bg-color);\n",
              "    border: none;\n",
              "    border-radius: 50%;\n",
              "    cursor: pointer;\n",
              "    display: none;\n",
              "    fill: var(--fill-color);\n",
              "    height: 32px;\n",
              "    padding: 0;\n",
              "    width: 32px;\n",
              "  }\n",
              "\n",
              "  .colab-df-quickchart:hover {\n",
              "    background-color: var(--hover-bg-color);\n",
              "    box-shadow: 0 1px 2px rgba(60, 64, 67, 0.3), 0 1px 3px 1px rgba(60, 64, 67, 0.15);\n",
              "    fill: var(--button-hover-fill-color);\n",
              "  }\n",
              "\n",
              "  .colab-df-quickchart-complete:disabled,\n",
              "  .colab-df-quickchart-complete:disabled:hover {\n",
              "    background-color: var(--disabled-bg-color);\n",
              "    fill: var(--disabled-fill-color);\n",
              "    box-shadow: none;\n",
              "  }\n",
              "\n",
              "  .colab-df-spinner {\n",
              "    border: 2px solid var(--fill-color);\n",
              "    border-color: transparent;\n",
              "    border-bottom-color: var(--fill-color);\n",
              "    animation:\n",
              "      spin 1s steps(1) infinite;\n",
              "  }\n",
              "\n",
              "  @keyframes spin {\n",
              "    0% {\n",
              "      border-color: transparent;\n",
              "      border-bottom-color: var(--fill-color);\n",
              "      border-left-color: var(--fill-color);\n",
              "    }\n",
              "    20% {\n",
              "      border-color: transparent;\n",
              "      border-left-color: var(--fill-color);\n",
              "      border-top-color: var(--fill-color);\n",
              "    }\n",
              "    30% {\n",
              "      border-color: transparent;\n",
              "      border-left-color: var(--fill-color);\n",
              "      border-top-color: var(--fill-color);\n",
              "      border-right-color: var(--fill-color);\n",
              "    }\n",
              "    40% {\n",
              "      border-color: transparent;\n",
              "      border-right-color: var(--fill-color);\n",
              "      border-top-color: var(--fill-color);\n",
              "    }\n",
              "    60% {\n",
              "      border-color: transparent;\n",
              "      border-right-color: var(--fill-color);\n",
              "    }\n",
              "    80% {\n",
              "      border-color: transparent;\n",
              "      border-right-color: var(--fill-color);\n",
              "      border-bottom-color: var(--fill-color);\n",
              "    }\n",
              "    90% {\n",
              "      border-color: transparent;\n",
              "      border-bottom-color: var(--fill-color);\n",
              "    }\n",
              "  }\n",
              "</style>\n",
              "\n",
              "  <script>\n",
              "    async function quickchart(key) {\n",
              "      const quickchartButtonEl =\n",
              "        document.querySelector('#' + key + ' button');\n",
              "      quickchartButtonEl.disabled = true;  // To prevent multiple clicks.\n",
              "      quickchartButtonEl.classList.add('colab-df-spinner');\n",
              "      try {\n",
              "        const charts = await google.colab.kernel.invokeFunction(\n",
              "            'suggestCharts', [key], {});\n",
              "      } catch (error) {\n",
              "        console.error('Error during call to suggestCharts:', error);\n",
              "      }\n",
              "      quickchartButtonEl.classList.remove('colab-df-spinner');\n",
              "      quickchartButtonEl.classList.add('colab-df-quickchart-complete');\n",
              "    }\n",
              "    (() => {\n",
              "      let quickchartButtonEl =\n",
              "        document.querySelector('#df-2ce34967-121b-4b7a-b59f-2375903831a4 button');\n",
              "      quickchartButtonEl.style.display =\n",
              "        google.colab.kernel.accessAllowed ? 'block' : 'none';\n",
              "    })();\n",
              "  </script>\n",
              "</div>\n",
              "    </div>\n",
              "  </div>\n"
            ]
          },
          "metadata": {},
          "execution_count": 50
        }
      ]
    },
    {
      "cell_type": "code",
      "source": [
        "classroom.to_csv(\"csv_file_2.csv\" , index=False )\n",
        "pd.read_csv(\"csv_file_2.csv\")"
      ],
      "metadata": {
        "colab": {
          "base_uri": "https://localhost:8080/",
          "height": 0
        },
        "id": "OULZToXsj3Es",
        "outputId": "2276cee2-1145-4b68-de1c-de2cabd235b4"
      },
      "execution_count": 51,
      "outputs": [
        {
          "output_type": "execute_result",
          "data": {
            "text/plain": [
              "       Nomes Genero Aniversario Estado Civil  Pontaçao\n",
              "0    Vitoria      f        2001          yes        20\n",
              "1     Arthur      m        1980          yes        15\n",
              "2     Felipe      m        1999         NONE        17\n",
              "3    Beatriz      f        NONE           no        16\n",
              "4   Giovanni      m        1997         NONE        18\n",
              "5  Guilherme      m        2001           no        10\n",
              "6     Kaynan      m        2002          não        19"
            ],
            "text/html": [
              "\n",
              "  <div id=\"df-86b42add-bf1b-428b-94d0-dd349af376b4\" class=\"colab-df-container\">\n",
              "    <div>\n",
              "<style scoped>\n",
              "    .dataframe tbody tr th:only-of-type {\n",
              "        vertical-align: middle;\n",
              "    }\n",
              "\n",
              "    .dataframe tbody tr th {\n",
              "        vertical-align: top;\n",
              "    }\n",
              "\n",
              "    .dataframe thead th {\n",
              "        text-align: right;\n",
              "    }\n",
              "</style>\n",
              "<table border=\"1\" class=\"dataframe\">\n",
              "  <thead>\n",
              "    <tr style=\"text-align: right;\">\n",
              "      <th></th>\n",
              "      <th>Nomes</th>\n",
              "      <th>Genero</th>\n",
              "      <th>Aniversario</th>\n",
              "      <th>Estado Civil</th>\n",
              "      <th>Pontaçao</th>\n",
              "    </tr>\n",
              "  </thead>\n",
              "  <tbody>\n",
              "    <tr>\n",
              "      <th>0</th>\n",
              "      <td>Vitoria</td>\n",
              "      <td>f</td>\n",
              "      <td>2001</td>\n",
              "      <td>yes</td>\n",
              "      <td>20</td>\n",
              "    </tr>\n",
              "    <tr>\n",
              "      <th>1</th>\n",
              "      <td>Arthur</td>\n",
              "      <td>m</td>\n",
              "      <td>1980</td>\n",
              "      <td>yes</td>\n",
              "      <td>15</td>\n",
              "    </tr>\n",
              "    <tr>\n",
              "      <th>2</th>\n",
              "      <td>Felipe</td>\n",
              "      <td>m</td>\n",
              "      <td>1999</td>\n",
              "      <td>NONE</td>\n",
              "      <td>17</td>\n",
              "    </tr>\n",
              "    <tr>\n",
              "      <th>3</th>\n",
              "      <td>Beatriz</td>\n",
              "      <td>f</td>\n",
              "      <td>NONE</td>\n",
              "      <td>no</td>\n",
              "      <td>16</td>\n",
              "    </tr>\n",
              "    <tr>\n",
              "      <th>4</th>\n",
              "      <td>Giovanni</td>\n",
              "      <td>m</td>\n",
              "      <td>1997</td>\n",
              "      <td>NONE</td>\n",
              "      <td>18</td>\n",
              "    </tr>\n",
              "    <tr>\n",
              "      <th>5</th>\n",
              "      <td>Guilherme</td>\n",
              "      <td>m</td>\n",
              "      <td>2001</td>\n",
              "      <td>no</td>\n",
              "      <td>10</td>\n",
              "    </tr>\n",
              "    <tr>\n",
              "      <th>6</th>\n",
              "      <td>Kaynan</td>\n",
              "      <td>m</td>\n",
              "      <td>2002</td>\n",
              "      <td>não</td>\n",
              "      <td>19</td>\n",
              "    </tr>\n",
              "  </tbody>\n",
              "</table>\n",
              "</div>\n",
              "    <div class=\"colab-df-buttons\">\n",
              "\n",
              "  <div class=\"colab-df-container\">\n",
              "    <button class=\"colab-df-convert\" onclick=\"convertToInteractive('df-86b42add-bf1b-428b-94d0-dd349af376b4')\"\n",
              "            title=\"Convert this dataframe to an interactive table.\"\n",
              "            style=\"display:none;\">\n",
              "\n",
              "  <svg xmlns=\"http://www.w3.org/2000/svg\" height=\"24px\" viewBox=\"0 -960 960 960\">\n",
              "    <path d=\"M120-120v-720h720v720H120Zm60-500h600v-160H180v160Zm220 220h160v-160H400v160Zm0 220h160v-160H400v160ZM180-400h160v-160H180v160Zm440 0h160v-160H620v160ZM180-180h160v-160H180v160Zm440 0h160v-160H620v160Z\"/>\n",
              "  </svg>\n",
              "    </button>\n",
              "\n",
              "  <style>\n",
              "    .colab-df-container {\n",
              "      display:flex;\n",
              "      gap: 12px;\n",
              "    }\n",
              "\n",
              "    .colab-df-convert {\n",
              "      background-color: #E8F0FE;\n",
              "      border: none;\n",
              "      border-radius: 50%;\n",
              "      cursor: pointer;\n",
              "      display: none;\n",
              "      fill: #1967D2;\n",
              "      height: 32px;\n",
              "      padding: 0 0 0 0;\n",
              "      width: 32px;\n",
              "    }\n",
              "\n",
              "    .colab-df-convert:hover {\n",
              "      background-color: #E2EBFA;\n",
              "      box-shadow: 0px 1px 2px rgba(60, 64, 67, 0.3), 0px 1px 3px 1px rgba(60, 64, 67, 0.15);\n",
              "      fill: #174EA6;\n",
              "    }\n",
              "\n",
              "    .colab-df-buttons div {\n",
              "      margin-bottom: 4px;\n",
              "    }\n",
              "\n",
              "    [theme=dark] .colab-df-convert {\n",
              "      background-color: #3B4455;\n",
              "      fill: #D2E3FC;\n",
              "    }\n",
              "\n",
              "    [theme=dark] .colab-df-convert:hover {\n",
              "      background-color: #434B5C;\n",
              "      box-shadow: 0px 1px 3px 1px rgba(0, 0, 0, 0.15);\n",
              "      filter: drop-shadow(0px 1px 2px rgba(0, 0, 0, 0.3));\n",
              "      fill: #FFFFFF;\n",
              "    }\n",
              "  </style>\n",
              "\n",
              "    <script>\n",
              "      const buttonEl =\n",
              "        document.querySelector('#df-86b42add-bf1b-428b-94d0-dd349af376b4 button.colab-df-convert');\n",
              "      buttonEl.style.display =\n",
              "        google.colab.kernel.accessAllowed ? 'block' : 'none';\n",
              "\n",
              "      async function convertToInteractive(key) {\n",
              "        const element = document.querySelector('#df-86b42add-bf1b-428b-94d0-dd349af376b4');\n",
              "        const dataTable =\n",
              "          await google.colab.kernel.invokeFunction('convertToInteractive',\n",
              "                                                    [key], {});\n",
              "        if (!dataTable) return;\n",
              "\n",
              "        const docLinkHtml = 'Like what you see? Visit the ' +\n",
              "          '<a target=\"_blank\" href=https://colab.research.google.com/notebooks/data_table.ipynb>data table notebook</a>'\n",
              "          + ' to learn more about interactive tables.';\n",
              "        element.innerHTML = '';\n",
              "        dataTable['output_type'] = 'display_data';\n",
              "        await google.colab.output.renderOutput(dataTable, element);\n",
              "        const docLink = document.createElement('div');\n",
              "        docLink.innerHTML = docLinkHtml;\n",
              "        element.appendChild(docLink);\n",
              "      }\n",
              "    </script>\n",
              "  </div>\n",
              "\n",
              "\n",
              "<div id=\"df-495c2023-d43d-4298-8c73-c7fa9fc6811f\">\n",
              "  <button class=\"colab-df-quickchart\" onclick=\"quickchart('df-495c2023-d43d-4298-8c73-c7fa9fc6811f')\"\n",
              "            title=\"Suggest charts.\"\n",
              "            style=\"display:none;\">\n",
              "\n",
              "<svg xmlns=\"http://www.w3.org/2000/svg\" height=\"24px\"viewBox=\"0 0 24 24\"\n",
              "     width=\"24px\">\n",
              "    <g>\n",
              "        <path d=\"M19 3H5c-1.1 0-2 .9-2 2v14c0 1.1.9 2 2 2h14c1.1 0 2-.9 2-2V5c0-1.1-.9-2-2-2zM9 17H7v-7h2v7zm4 0h-2V7h2v10zm4 0h-2v-4h2v4z\"/>\n",
              "    </g>\n",
              "</svg>\n",
              "  </button>\n",
              "\n",
              "<style>\n",
              "  .colab-df-quickchart {\n",
              "      --bg-color: #E8F0FE;\n",
              "      --fill-color: #1967D2;\n",
              "      --hover-bg-color: #E2EBFA;\n",
              "      --hover-fill-color: #174EA6;\n",
              "      --disabled-fill-color: #AAA;\n",
              "      --disabled-bg-color: #DDD;\n",
              "  }\n",
              "\n",
              "  [theme=dark] .colab-df-quickchart {\n",
              "      --bg-color: #3B4455;\n",
              "      --fill-color: #D2E3FC;\n",
              "      --hover-bg-color: #434B5C;\n",
              "      --hover-fill-color: #FFFFFF;\n",
              "      --disabled-bg-color: #3B4455;\n",
              "      --disabled-fill-color: #666;\n",
              "  }\n",
              "\n",
              "  .colab-df-quickchart {\n",
              "    background-color: var(--bg-color);\n",
              "    border: none;\n",
              "    border-radius: 50%;\n",
              "    cursor: pointer;\n",
              "    display: none;\n",
              "    fill: var(--fill-color);\n",
              "    height: 32px;\n",
              "    padding: 0;\n",
              "    width: 32px;\n",
              "  }\n",
              "\n",
              "  .colab-df-quickchart:hover {\n",
              "    background-color: var(--hover-bg-color);\n",
              "    box-shadow: 0 1px 2px rgba(60, 64, 67, 0.3), 0 1px 3px 1px rgba(60, 64, 67, 0.15);\n",
              "    fill: var(--button-hover-fill-color);\n",
              "  }\n",
              "\n",
              "  .colab-df-quickchart-complete:disabled,\n",
              "  .colab-df-quickchart-complete:disabled:hover {\n",
              "    background-color: var(--disabled-bg-color);\n",
              "    fill: var(--disabled-fill-color);\n",
              "    box-shadow: none;\n",
              "  }\n",
              "\n",
              "  .colab-df-spinner {\n",
              "    border: 2px solid var(--fill-color);\n",
              "    border-color: transparent;\n",
              "    border-bottom-color: var(--fill-color);\n",
              "    animation:\n",
              "      spin 1s steps(1) infinite;\n",
              "  }\n",
              "\n",
              "  @keyframes spin {\n",
              "    0% {\n",
              "      border-color: transparent;\n",
              "      border-bottom-color: var(--fill-color);\n",
              "      border-left-color: var(--fill-color);\n",
              "    }\n",
              "    20% {\n",
              "      border-color: transparent;\n",
              "      border-left-color: var(--fill-color);\n",
              "      border-top-color: var(--fill-color);\n",
              "    }\n",
              "    30% {\n",
              "      border-color: transparent;\n",
              "      border-left-color: var(--fill-color);\n",
              "      border-top-color: var(--fill-color);\n",
              "      border-right-color: var(--fill-color);\n",
              "    }\n",
              "    40% {\n",
              "      border-color: transparent;\n",
              "      border-right-color: var(--fill-color);\n",
              "      border-top-color: var(--fill-color);\n",
              "    }\n",
              "    60% {\n",
              "      border-color: transparent;\n",
              "      border-right-color: var(--fill-color);\n",
              "    }\n",
              "    80% {\n",
              "      border-color: transparent;\n",
              "      border-right-color: var(--fill-color);\n",
              "      border-bottom-color: var(--fill-color);\n",
              "    }\n",
              "    90% {\n",
              "      border-color: transparent;\n",
              "      border-bottom-color: var(--fill-color);\n",
              "    }\n",
              "  }\n",
              "</style>\n",
              "\n",
              "  <script>\n",
              "    async function quickchart(key) {\n",
              "      const quickchartButtonEl =\n",
              "        document.querySelector('#' + key + ' button');\n",
              "      quickchartButtonEl.disabled = true;  // To prevent multiple clicks.\n",
              "      quickchartButtonEl.classList.add('colab-df-spinner');\n",
              "      try {\n",
              "        const charts = await google.colab.kernel.invokeFunction(\n",
              "            'suggestCharts', [key], {});\n",
              "      } catch (error) {\n",
              "        console.error('Error during call to suggestCharts:', error);\n",
              "      }\n",
              "      quickchartButtonEl.classList.remove('colab-df-spinner');\n",
              "      quickchartButtonEl.classList.add('colab-df-quickchart-complete');\n",
              "    }\n",
              "    (() => {\n",
              "      let quickchartButtonEl =\n",
              "        document.querySelector('#df-495c2023-d43d-4298-8c73-c7fa9fc6811f button');\n",
              "      quickchartButtonEl.style.display =\n",
              "        google.colab.kernel.accessAllowed ? 'block' : 'none';\n",
              "    })();\n",
              "  </script>\n",
              "</div>\n",
              "    </div>\n",
              "  </div>\n"
            ]
          },
          "metadata": {},
          "execution_count": 51
        }
      ]
    },
    {
      "cell_type": "code",
      "source": [
        "pd.read_csv(\"csv_file_2.csv\",index_col='Nomes')"
      ],
      "metadata": {
        "colab": {
          "base_uri": "https://localhost:8080/",
          "height": 0
        },
        "id": "nnludevXMQK9",
        "outputId": "dfbc7a8a-038f-45f4-da55-9749448b2464"
      },
      "execution_count": 52,
      "outputs": [
        {
          "output_type": "execute_result",
          "data": {
            "text/plain": [
              "          Genero Aniversario Estado Civil  Pontaçao\n",
              "Nomes                                              \n",
              "Vitoria        f        2001          yes        20\n",
              "Arthur         m        1980          yes        15\n",
              "Felipe         m        1999         NONE        17\n",
              "Beatriz        f        NONE           no        16\n",
              "Giovanni       m        1997         NONE        18\n",
              "Guilherme      m        2001           no        10\n",
              "Kaynan         m        2002          não        19"
            ],
            "text/html": [
              "\n",
              "  <div id=\"df-34ee24e5-06a0-4129-9e7f-52e87afd52ca\" class=\"colab-df-container\">\n",
              "    <div>\n",
              "<style scoped>\n",
              "    .dataframe tbody tr th:only-of-type {\n",
              "        vertical-align: middle;\n",
              "    }\n",
              "\n",
              "    .dataframe tbody tr th {\n",
              "        vertical-align: top;\n",
              "    }\n",
              "\n",
              "    .dataframe thead th {\n",
              "        text-align: right;\n",
              "    }\n",
              "</style>\n",
              "<table border=\"1\" class=\"dataframe\">\n",
              "  <thead>\n",
              "    <tr style=\"text-align: right;\">\n",
              "      <th></th>\n",
              "      <th>Genero</th>\n",
              "      <th>Aniversario</th>\n",
              "      <th>Estado Civil</th>\n",
              "      <th>Pontaçao</th>\n",
              "    </tr>\n",
              "    <tr>\n",
              "      <th>Nomes</th>\n",
              "      <th></th>\n",
              "      <th></th>\n",
              "      <th></th>\n",
              "      <th></th>\n",
              "    </tr>\n",
              "  </thead>\n",
              "  <tbody>\n",
              "    <tr>\n",
              "      <th>Vitoria</th>\n",
              "      <td>f</td>\n",
              "      <td>2001</td>\n",
              "      <td>yes</td>\n",
              "      <td>20</td>\n",
              "    </tr>\n",
              "    <tr>\n",
              "      <th>Arthur</th>\n",
              "      <td>m</td>\n",
              "      <td>1980</td>\n",
              "      <td>yes</td>\n",
              "      <td>15</td>\n",
              "    </tr>\n",
              "    <tr>\n",
              "      <th>Felipe</th>\n",
              "      <td>m</td>\n",
              "      <td>1999</td>\n",
              "      <td>NONE</td>\n",
              "      <td>17</td>\n",
              "    </tr>\n",
              "    <tr>\n",
              "      <th>Beatriz</th>\n",
              "      <td>f</td>\n",
              "      <td>NONE</td>\n",
              "      <td>no</td>\n",
              "      <td>16</td>\n",
              "    </tr>\n",
              "    <tr>\n",
              "      <th>Giovanni</th>\n",
              "      <td>m</td>\n",
              "      <td>1997</td>\n",
              "      <td>NONE</td>\n",
              "      <td>18</td>\n",
              "    </tr>\n",
              "    <tr>\n",
              "      <th>Guilherme</th>\n",
              "      <td>m</td>\n",
              "      <td>2001</td>\n",
              "      <td>no</td>\n",
              "      <td>10</td>\n",
              "    </tr>\n",
              "    <tr>\n",
              "      <th>Kaynan</th>\n",
              "      <td>m</td>\n",
              "      <td>2002</td>\n",
              "      <td>não</td>\n",
              "      <td>19</td>\n",
              "    </tr>\n",
              "  </tbody>\n",
              "</table>\n",
              "</div>\n",
              "    <div class=\"colab-df-buttons\">\n",
              "\n",
              "  <div class=\"colab-df-container\">\n",
              "    <button class=\"colab-df-convert\" onclick=\"convertToInteractive('df-34ee24e5-06a0-4129-9e7f-52e87afd52ca')\"\n",
              "            title=\"Convert this dataframe to an interactive table.\"\n",
              "            style=\"display:none;\">\n",
              "\n",
              "  <svg xmlns=\"http://www.w3.org/2000/svg\" height=\"24px\" viewBox=\"0 -960 960 960\">\n",
              "    <path d=\"M120-120v-720h720v720H120Zm60-500h600v-160H180v160Zm220 220h160v-160H400v160Zm0 220h160v-160H400v160ZM180-400h160v-160H180v160Zm440 0h160v-160H620v160ZM180-180h160v-160H180v160Zm440 0h160v-160H620v160Z\"/>\n",
              "  </svg>\n",
              "    </button>\n",
              "\n",
              "  <style>\n",
              "    .colab-df-container {\n",
              "      display:flex;\n",
              "      gap: 12px;\n",
              "    }\n",
              "\n",
              "    .colab-df-convert {\n",
              "      background-color: #E8F0FE;\n",
              "      border: none;\n",
              "      border-radius: 50%;\n",
              "      cursor: pointer;\n",
              "      display: none;\n",
              "      fill: #1967D2;\n",
              "      height: 32px;\n",
              "      padding: 0 0 0 0;\n",
              "      width: 32px;\n",
              "    }\n",
              "\n",
              "    .colab-df-convert:hover {\n",
              "      background-color: #E2EBFA;\n",
              "      box-shadow: 0px 1px 2px rgba(60, 64, 67, 0.3), 0px 1px 3px 1px rgba(60, 64, 67, 0.15);\n",
              "      fill: #174EA6;\n",
              "    }\n",
              "\n",
              "    .colab-df-buttons div {\n",
              "      margin-bottom: 4px;\n",
              "    }\n",
              "\n",
              "    [theme=dark] .colab-df-convert {\n",
              "      background-color: #3B4455;\n",
              "      fill: #D2E3FC;\n",
              "    }\n",
              "\n",
              "    [theme=dark] .colab-df-convert:hover {\n",
              "      background-color: #434B5C;\n",
              "      box-shadow: 0px 1px 3px 1px rgba(0, 0, 0, 0.15);\n",
              "      filter: drop-shadow(0px 1px 2px rgba(0, 0, 0, 0.3));\n",
              "      fill: #FFFFFF;\n",
              "    }\n",
              "  </style>\n",
              "\n",
              "    <script>\n",
              "      const buttonEl =\n",
              "        document.querySelector('#df-34ee24e5-06a0-4129-9e7f-52e87afd52ca button.colab-df-convert');\n",
              "      buttonEl.style.display =\n",
              "        google.colab.kernel.accessAllowed ? 'block' : 'none';\n",
              "\n",
              "      async function convertToInteractive(key) {\n",
              "        const element = document.querySelector('#df-34ee24e5-06a0-4129-9e7f-52e87afd52ca');\n",
              "        const dataTable =\n",
              "          await google.colab.kernel.invokeFunction('convertToInteractive',\n",
              "                                                    [key], {});\n",
              "        if (!dataTable) return;\n",
              "\n",
              "        const docLinkHtml = 'Like what you see? Visit the ' +\n",
              "          '<a target=\"_blank\" href=https://colab.research.google.com/notebooks/data_table.ipynb>data table notebook</a>'\n",
              "          + ' to learn more about interactive tables.';\n",
              "        element.innerHTML = '';\n",
              "        dataTable['output_type'] = 'display_data';\n",
              "        await google.colab.output.renderOutput(dataTable, element);\n",
              "        const docLink = document.createElement('div');\n",
              "        docLink.innerHTML = docLinkHtml;\n",
              "        element.appendChild(docLink);\n",
              "      }\n",
              "    </script>\n",
              "  </div>\n",
              "\n",
              "\n",
              "<div id=\"df-eaf94ca2-4b69-453e-9810-f7ca13c12078\">\n",
              "  <button class=\"colab-df-quickchart\" onclick=\"quickchart('df-eaf94ca2-4b69-453e-9810-f7ca13c12078')\"\n",
              "            title=\"Suggest charts.\"\n",
              "            style=\"display:none;\">\n",
              "\n",
              "<svg xmlns=\"http://www.w3.org/2000/svg\" height=\"24px\"viewBox=\"0 0 24 24\"\n",
              "     width=\"24px\">\n",
              "    <g>\n",
              "        <path d=\"M19 3H5c-1.1 0-2 .9-2 2v14c0 1.1.9 2 2 2h14c1.1 0 2-.9 2-2V5c0-1.1-.9-2-2-2zM9 17H7v-7h2v7zm4 0h-2V7h2v10zm4 0h-2v-4h2v4z\"/>\n",
              "    </g>\n",
              "</svg>\n",
              "  </button>\n",
              "\n",
              "<style>\n",
              "  .colab-df-quickchart {\n",
              "      --bg-color: #E8F0FE;\n",
              "      --fill-color: #1967D2;\n",
              "      --hover-bg-color: #E2EBFA;\n",
              "      --hover-fill-color: #174EA6;\n",
              "      --disabled-fill-color: #AAA;\n",
              "      --disabled-bg-color: #DDD;\n",
              "  }\n",
              "\n",
              "  [theme=dark] .colab-df-quickchart {\n",
              "      --bg-color: #3B4455;\n",
              "      --fill-color: #D2E3FC;\n",
              "      --hover-bg-color: #434B5C;\n",
              "      --hover-fill-color: #FFFFFF;\n",
              "      --disabled-bg-color: #3B4455;\n",
              "      --disabled-fill-color: #666;\n",
              "  }\n",
              "\n",
              "  .colab-df-quickchart {\n",
              "    background-color: var(--bg-color);\n",
              "    border: none;\n",
              "    border-radius: 50%;\n",
              "    cursor: pointer;\n",
              "    display: none;\n",
              "    fill: var(--fill-color);\n",
              "    height: 32px;\n",
              "    padding: 0;\n",
              "    width: 32px;\n",
              "  }\n",
              "\n",
              "  .colab-df-quickchart:hover {\n",
              "    background-color: var(--hover-bg-color);\n",
              "    box-shadow: 0 1px 2px rgba(60, 64, 67, 0.3), 0 1px 3px 1px rgba(60, 64, 67, 0.15);\n",
              "    fill: var(--button-hover-fill-color);\n",
              "  }\n",
              "\n",
              "  .colab-df-quickchart-complete:disabled,\n",
              "  .colab-df-quickchart-complete:disabled:hover {\n",
              "    background-color: var(--disabled-bg-color);\n",
              "    fill: var(--disabled-fill-color);\n",
              "    box-shadow: none;\n",
              "  }\n",
              "\n",
              "  .colab-df-spinner {\n",
              "    border: 2px solid var(--fill-color);\n",
              "    border-color: transparent;\n",
              "    border-bottom-color: var(--fill-color);\n",
              "    animation:\n",
              "      spin 1s steps(1) infinite;\n",
              "  }\n",
              "\n",
              "  @keyframes spin {\n",
              "    0% {\n",
              "      border-color: transparent;\n",
              "      border-bottom-color: var(--fill-color);\n",
              "      border-left-color: var(--fill-color);\n",
              "    }\n",
              "    20% {\n",
              "      border-color: transparent;\n",
              "      border-left-color: var(--fill-color);\n",
              "      border-top-color: var(--fill-color);\n",
              "    }\n",
              "    30% {\n",
              "      border-color: transparent;\n",
              "      border-left-color: var(--fill-color);\n",
              "      border-top-color: var(--fill-color);\n",
              "      border-right-color: var(--fill-color);\n",
              "    }\n",
              "    40% {\n",
              "      border-color: transparent;\n",
              "      border-right-color: var(--fill-color);\n",
              "      border-top-color: var(--fill-color);\n",
              "    }\n",
              "    60% {\n",
              "      border-color: transparent;\n",
              "      border-right-color: var(--fill-color);\n",
              "    }\n",
              "    80% {\n",
              "      border-color: transparent;\n",
              "      border-right-color: var(--fill-color);\n",
              "      border-bottom-color: var(--fill-color);\n",
              "    }\n",
              "    90% {\n",
              "      border-color: transparent;\n",
              "      border-bottom-color: var(--fill-color);\n",
              "    }\n",
              "  }\n",
              "</style>\n",
              "\n",
              "  <script>\n",
              "    async function quickchart(key) {\n",
              "      const quickchartButtonEl =\n",
              "        document.querySelector('#' + key + ' button');\n",
              "      quickchartButtonEl.disabled = true;  // To prevent multiple clicks.\n",
              "      quickchartButtonEl.classList.add('colab-df-spinner');\n",
              "      try {\n",
              "        const charts = await google.colab.kernel.invokeFunction(\n",
              "            'suggestCharts', [key], {});\n",
              "      } catch (error) {\n",
              "        console.error('Error during call to suggestCharts:', error);\n",
              "      }\n",
              "      quickchartButtonEl.classList.remove('colab-df-spinner');\n",
              "      quickchartButtonEl.classList.add('colab-df-quickchart-complete');\n",
              "    }\n",
              "    (() => {\n",
              "      let quickchartButtonEl =\n",
              "        document.querySelector('#df-eaf94ca2-4b69-453e-9810-f7ca13c12078 button');\n",
              "      quickchartButtonEl.style.display =\n",
              "        google.colab.kernel.accessAllowed ? 'block' : 'none';\n",
              "    })();\n",
              "  </script>\n",
              "</div>\n",
              "    </div>\n",
              "  </div>\n"
            ]
          },
          "metadata": {},
          "execution_count": 52
        }
      ]
    },
    {
      "cell_type": "code",
      "source": [
        "Dados = pd.read_csv(\"csv_file_2.csv\",index_col='Nomes')"
      ],
      "metadata": {
        "id": "a8_FwtXclyQs"
      },
      "execution_count": 53,
      "outputs": []
    },
    {
      "cell_type": "code",
      "source": [
        "Dados.iloc[1]"
      ],
      "metadata": {
        "id": "5mBuhN9Zl6aj",
        "outputId": "24c7abee-3842-4afb-da6e-081b032db8f8",
        "colab": {
          "base_uri": "https://localhost:8080/"
        }
      },
      "execution_count": 54,
      "outputs": [
        {
          "output_type": "execute_result",
          "data": {
            "text/plain": [
              "Genero             m\n",
              "Aniversario     1980\n",
              "Estado Civil     yes\n",
              "Pontaçao          15\n",
              "Name: Arthur, dtype: object"
            ]
          },
          "metadata": {},
          "execution_count": 54
        }
      ]
    },
    {
      "cell_type": "code",
      "source": [
        "Dados.loc[\"Kaynan\"]"
      ],
      "metadata": {
        "id": "CIY7270XlOCB",
        "colab": {
          "base_uri": "https://localhost:8080/"
        },
        "outputId": "1b04c833-b9ff-44c4-c0c4-8d5c0f814031"
      },
      "execution_count": 55,
      "outputs": [
        {
          "output_type": "execute_result",
          "data": {
            "text/plain": [
              "Genero             m\n",
              "Aniversario     2002\n",
              "Estado Civil     não\n",
              "Pontaçao          19\n",
              "Name: Kaynan, dtype: object"
            ]
          },
          "metadata": {},
          "execution_count": 55
        }
      ]
    },
    {
      "cell_type": "markdown",
      "source": [
        "<hr>"
      ],
      "metadata": {
        "id": "do2pfvfpx2tL"
      }
    },
    {
      "cell_type": "code",
      "source": [
        "classroom.to_csv(\"csv_file.csv\")\n",
        "pd.read_csv(\"csv_file.csv\", index_col='Unnamed: 0')"
      ],
      "metadata": {
        "colab": {
          "base_uri": "https://localhost:8080/",
          "height": 0
        },
        "id": "J5KpwdvLxJ6-",
        "outputId": "f788e218-0825-4914-9e13-c4b780fff1ce"
      },
      "execution_count": 56,
      "outputs": [
        {
          "output_type": "execute_result",
          "data": {
            "text/plain": [
              "       Nomes Genero Aniversario Estado Civil  Pontaçao\n",
              "0    Vitoria      f        2001          yes        20\n",
              "1     Arthur      m        1980          yes        15\n",
              "2     Felipe      m        1999         NONE        17\n",
              "3    Beatriz      f        NONE           no        16\n",
              "4   Giovanni      m        1997         NONE        18\n",
              "5  Guilherme      m        2001           no        10\n",
              "6     Kaynan      m        2002          não        19"
            ],
            "text/html": [
              "\n",
              "  <div id=\"df-9276abcb-d82b-4229-9b23-4aecc2f4eaea\" class=\"colab-df-container\">\n",
              "    <div>\n",
              "<style scoped>\n",
              "    .dataframe tbody tr th:only-of-type {\n",
              "        vertical-align: middle;\n",
              "    }\n",
              "\n",
              "    .dataframe tbody tr th {\n",
              "        vertical-align: top;\n",
              "    }\n",
              "\n",
              "    .dataframe thead th {\n",
              "        text-align: right;\n",
              "    }\n",
              "</style>\n",
              "<table border=\"1\" class=\"dataframe\">\n",
              "  <thead>\n",
              "    <tr style=\"text-align: right;\">\n",
              "      <th></th>\n",
              "      <th>Nomes</th>\n",
              "      <th>Genero</th>\n",
              "      <th>Aniversario</th>\n",
              "      <th>Estado Civil</th>\n",
              "      <th>Pontaçao</th>\n",
              "    </tr>\n",
              "  </thead>\n",
              "  <tbody>\n",
              "    <tr>\n",
              "      <th>0</th>\n",
              "      <td>Vitoria</td>\n",
              "      <td>f</td>\n",
              "      <td>2001</td>\n",
              "      <td>yes</td>\n",
              "      <td>20</td>\n",
              "    </tr>\n",
              "    <tr>\n",
              "      <th>1</th>\n",
              "      <td>Arthur</td>\n",
              "      <td>m</td>\n",
              "      <td>1980</td>\n",
              "      <td>yes</td>\n",
              "      <td>15</td>\n",
              "    </tr>\n",
              "    <tr>\n",
              "      <th>2</th>\n",
              "      <td>Felipe</td>\n",
              "      <td>m</td>\n",
              "      <td>1999</td>\n",
              "      <td>NONE</td>\n",
              "      <td>17</td>\n",
              "    </tr>\n",
              "    <tr>\n",
              "      <th>3</th>\n",
              "      <td>Beatriz</td>\n",
              "      <td>f</td>\n",
              "      <td>NONE</td>\n",
              "      <td>no</td>\n",
              "      <td>16</td>\n",
              "    </tr>\n",
              "    <tr>\n",
              "      <th>4</th>\n",
              "      <td>Giovanni</td>\n",
              "      <td>m</td>\n",
              "      <td>1997</td>\n",
              "      <td>NONE</td>\n",
              "      <td>18</td>\n",
              "    </tr>\n",
              "    <tr>\n",
              "      <th>5</th>\n",
              "      <td>Guilherme</td>\n",
              "      <td>m</td>\n",
              "      <td>2001</td>\n",
              "      <td>no</td>\n",
              "      <td>10</td>\n",
              "    </tr>\n",
              "    <tr>\n",
              "      <th>6</th>\n",
              "      <td>Kaynan</td>\n",
              "      <td>m</td>\n",
              "      <td>2002</td>\n",
              "      <td>não</td>\n",
              "      <td>19</td>\n",
              "    </tr>\n",
              "  </tbody>\n",
              "</table>\n",
              "</div>\n",
              "    <div class=\"colab-df-buttons\">\n",
              "\n",
              "  <div class=\"colab-df-container\">\n",
              "    <button class=\"colab-df-convert\" onclick=\"convertToInteractive('df-9276abcb-d82b-4229-9b23-4aecc2f4eaea')\"\n",
              "            title=\"Convert this dataframe to an interactive table.\"\n",
              "            style=\"display:none;\">\n",
              "\n",
              "  <svg xmlns=\"http://www.w3.org/2000/svg\" height=\"24px\" viewBox=\"0 -960 960 960\">\n",
              "    <path d=\"M120-120v-720h720v720H120Zm60-500h600v-160H180v160Zm220 220h160v-160H400v160Zm0 220h160v-160H400v160ZM180-400h160v-160H180v160Zm440 0h160v-160H620v160ZM180-180h160v-160H180v160Zm440 0h160v-160H620v160Z\"/>\n",
              "  </svg>\n",
              "    </button>\n",
              "\n",
              "  <style>\n",
              "    .colab-df-container {\n",
              "      display:flex;\n",
              "      gap: 12px;\n",
              "    }\n",
              "\n",
              "    .colab-df-convert {\n",
              "      background-color: #E8F0FE;\n",
              "      border: none;\n",
              "      border-radius: 50%;\n",
              "      cursor: pointer;\n",
              "      display: none;\n",
              "      fill: #1967D2;\n",
              "      height: 32px;\n",
              "      padding: 0 0 0 0;\n",
              "      width: 32px;\n",
              "    }\n",
              "\n",
              "    .colab-df-convert:hover {\n",
              "      background-color: #E2EBFA;\n",
              "      box-shadow: 0px 1px 2px rgba(60, 64, 67, 0.3), 0px 1px 3px 1px rgba(60, 64, 67, 0.15);\n",
              "      fill: #174EA6;\n",
              "    }\n",
              "\n",
              "    .colab-df-buttons div {\n",
              "      margin-bottom: 4px;\n",
              "    }\n",
              "\n",
              "    [theme=dark] .colab-df-convert {\n",
              "      background-color: #3B4455;\n",
              "      fill: #D2E3FC;\n",
              "    }\n",
              "\n",
              "    [theme=dark] .colab-df-convert:hover {\n",
              "      background-color: #434B5C;\n",
              "      box-shadow: 0px 1px 3px 1px rgba(0, 0, 0, 0.15);\n",
              "      filter: drop-shadow(0px 1px 2px rgba(0, 0, 0, 0.3));\n",
              "      fill: #FFFFFF;\n",
              "    }\n",
              "  </style>\n",
              "\n",
              "    <script>\n",
              "      const buttonEl =\n",
              "        document.querySelector('#df-9276abcb-d82b-4229-9b23-4aecc2f4eaea button.colab-df-convert');\n",
              "      buttonEl.style.display =\n",
              "        google.colab.kernel.accessAllowed ? 'block' : 'none';\n",
              "\n",
              "      async function convertToInteractive(key) {\n",
              "        const element = document.querySelector('#df-9276abcb-d82b-4229-9b23-4aecc2f4eaea');\n",
              "        const dataTable =\n",
              "          await google.colab.kernel.invokeFunction('convertToInteractive',\n",
              "                                                    [key], {});\n",
              "        if (!dataTable) return;\n",
              "\n",
              "        const docLinkHtml = 'Like what you see? Visit the ' +\n",
              "          '<a target=\"_blank\" href=https://colab.research.google.com/notebooks/data_table.ipynb>data table notebook</a>'\n",
              "          + ' to learn more about interactive tables.';\n",
              "        element.innerHTML = '';\n",
              "        dataTable['output_type'] = 'display_data';\n",
              "        await google.colab.output.renderOutput(dataTable, element);\n",
              "        const docLink = document.createElement('div');\n",
              "        docLink.innerHTML = docLinkHtml;\n",
              "        element.appendChild(docLink);\n",
              "      }\n",
              "    </script>\n",
              "  </div>\n",
              "\n",
              "\n",
              "<div id=\"df-222c2540-fd52-40f6-9a8f-b7378fb6ace9\">\n",
              "  <button class=\"colab-df-quickchart\" onclick=\"quickchart('df-222c2540-fd52-40f6-9a8f-b7378fb6ace9')\"\n",
              "            title=\"Suggest charts.\"\n",
              "            style=\"display:none;\">\n",
              "\n",
              "<svg xmlns=\"http://www.w3.org/2000/svg\" height=\"24px\"viewBox=\"0 0 24 24\"\n",
              "     width=\"24px\">\n",
              "    <g>\n",
              "        <path d=\"M19 3H5c-1.1 0-2 .9-2 2v14c0 1.1.9 2 2 2h14c1.1 0 2-.9 2-2V5c0-1.1-.9-2-2-2zM9 17H7v-7h2v7zm4 0h-2V7h2v10zm4 0h-2v-4h2v4z\"/>\n",
              "    </g>\n",
              "</svg>\n",
              "  </button>\n",
              "\n",
              "<style>\n",
              "  .colab-df-quickchart {\n",
              "      --bg-color: #E8F0FE;\n",
              "      --fill-color: #1967D2;\n",
              "      --hover-bg-color: #E2EBFA;\n",
              "      --hover-fill-color: #174EA6;\n",
              "      --disabled-fill-color: #AAA;\n",
              "      --disabled-bg-color: #DDD;\n",
              "  }\n",
              "\n",
              "  [theme=dark] .colab-df-quickchart {\n",
              "      --bg-color: #3B4455;\n",
              "      --fill-color: #D2E3FC;\n",
              "      --hover-bg-color: #434B5C;\n",
              "      --hover-fill-color: #FFFFFF;\n",
              "      --disabled-bg-color: #3B4455;\n",
              "      --disabled-fill-color: #666;\n",
              "  }\n",
              "\n",
              "  .colab-df-quickchart {\n",
              "    background-color: var(--bg-color);\n",
              "    border: none;\n",
              "    border-radius: 50%;\n",
              "    cursor: pointer;\n",
              "    display: none;\n",
              "    fill: var(--fill-color);\n",
              "    height: 32px;\n",
              "    padding: 0;\n",
              "    width: 32px;\n",
              "  }\n",
              "\n",
              "  .colab-df-quickchart:hover {\n",
              "    background-color: var(--hover-bg-color);\n",
              "    box-shadow: 0 1px 2px rgba(60, 64, 67, 0.3), 0 1px 3px 1px rgba(60, 64, 67, 0.15);\n",
              "    fill: var(--button-hover-fill-color);\n",
              "  }\n",
              "\n",
              "  .colab-df-quickchart-complete:disabled,\n",
              "  .colab-df-quickchart-complete:disabled:hover {\n",
              "    background-color: var(--disabled-bg-color);\n",
              "    fill: var(--disabled-fill-color);\n",
              "    box-shadow: none;\n",
              "  }\n",
              "\n",
              "  .colab-df-spinner {\n",
              "    border: 2px solid var(--fill-color);\n",
              "    border-color: transparent;\n",
              "    border-bottom-color: var(--fill-color);\n",
              "    animation:\n",
              "      spin 1s steps(1) infinite;\n",
              "  }\n",
              "\n",
              "  @keyframes spin {\n",
              "    0% {\n",
              "      border-color: transparent;\n",
              "      border-bottom-color: var(--fill-color);\n",
              "      border-left-color: var(--fill-color);\n",
              "    }\n",
              "    20% {\n",
              "      border-color: transparent;\n",
              "      border-left-color: var(--fill-color);\n",
              "      border-top-color: var(--fill-color);\n",
              "    }\n",
              "    30% {\n",
              "      border-color: transparent;\n",
              "      border-left-color: var(--fill-color);\n",
              "      border-top-color: var(--fill-color);\n",
              "      border-right-color: var(--fill-color);\n",
              "    }\n",
              "    40% {\n",
              "      border-color: transparent;\n",
              "      border-right-color: var(--fill-color);\n",
              "      border-top-color: var(--fill-color);\n",
              "    }\n",
              "    60% {\n",
              "      border-color: transparent;\n",
              "      border-right-color: var(--fill-color);\n",
              "    }\n",
              "    80% {\n",
              "      border-color: transparent;\n",
              "      border-right-color: var(--fill-color);\n",
              "      border-bottom-color: var(--fill-color);\n",
              "    }\n",
              "    90% {\n",
              "      border-color: transparent;\n",
              "      border-bottom-color: var(--fill-color);\n",
              "    }\n",
              "  }\n",
              "</style>\n",
              "\n",
              "  <script>\n",
              "    async function quickchart(key) {\n",
              "      const quickchartButtonEl =\n",
              "        document.querySelector('#' + key + ' button');\n",
              "      quickchartButtonEl.disabled = true;  // To prevent multiple clicks.\n",
              "      quickchartButtonEl.classList.add('colab-df-spinner');\n",
              "      try {\n",
              "        const charts = await google.colab.kernel.invokeFunction(\n",
              "            'suggestCharts', [key], {});\n",
              "      } catch (error) {\n",
              "        console.error('Error during call to suggestCharts:', error);\n",
              "      }\n",
              "      quickchartButtonEl.classList.remove('colab-df-spinner');\n",
              "      quickchartButtonEl.classList.add('colab-df-quickchart-complete');\n",
              "    }\n",
              "    (() => {\n",
              "      let quickchartButtonEl =\n",
              "        document.querySelector('#df-222c2540-fd52-40f6-9a8f-b7378fb6ace9 button');\n",
              "      quickchartButtonEl.style.display =\n",
              "        google.colab.kernel.accessAllowed ? 'block' : 'none';\n",
              "    })();\n",
              "  </script>\n",
              "</div>\n",
              "    </div>\n",
              "  </div>\n"
            ]
          },
          "metadata": {},
          "execution_count": 56
        }
      ]
    },
    {
      "cell_type": "code",
      "source": [
        "# ou\n",
        "classroom.to_csv(\"csv_file.csv\" , index=None)\n",
        "pd.read_csv(\"csv_file.csv\")"
      ],
      "metadata": {
        "colab": {
          "base_uri": "https://localhost:8080/",
          "height": 0
        },
        "id": "LzDAxhCJxtSX",
        "outputId": "dc50b4ef-789e-4206-b9ff-4ff5ca3f784f"
      },
      "execution_count": 57,
      "outputs": [
        {
          "output_type": "execute_result",
          "data": {
            "text/plain": [
              "       Nomes Genero Aniversario Estado Civil  Pontaçao\n",
              "0    Vitoria      f        2001          yes        20\n",
              "1     Arthur      m        1980          yes        15\n",
              "2     Felipe      m        1999         NONE        17\n",
              "3    Beatriz      f        NONE           no        16\n",
              "4   Giovanni      m        1997         NONE        18\n",
              "5  Guilherme      m        2001           no        10\n",
              "6     Kaynan      m        2002          não        19"
            ],
            "text/html": [
              "\n",
              "  <div id=\"df-f3f1bdac-7c2b-4893-b826-2bef441f9408\" class=\"colab-df-container\">\n",
              "    <div>\n",
              "<style scoped>\n",
              "    .dataframe tbody tr th:only-of-type {\n",
              "        vertical-align: middle;\n",
              "    }\n",
              "\n",
              "    .dataframe tbody tr th {\n",
              "        vertical-align: top;\n",
              "    }\n",
              "\n",
              "    .dataframe thead th {\n",
              "        text-align: right;\n",
              "    }\n",
              "</style>\n",
              "<table border=\"1\" class=\"dataframe\">\n",
              "  <thead>\n",
              "    <tr style=\"text-align: right;\">\n",
              "      <th></th>\n",
              "      <th>Nomes</th>\n",
              "      <th>Genero</th>\n",
              "      <th>Aniversario</th>\n",
              "      <th>Estado Civil</th>\n",
              "      <th>Pontaçao</th>\n",
              "    </tr>\n",
              "  </thead>\n",
              "  <tbody>\n",
              "    <tr>\n",
              "      <th>0</th>\n",
              "      <td>Vitoria</td>\n",
              "      <td>f</td>\n",
              "      <td>2001</td>\n",
              "      <td>yes</td>\n",
              "      <td>20</td>\n",
              "    </tr>\n",
              "    <tr>\n",
              "      <th>1</th>\n",
              "      <td>Arthur</td>\n",
              "      <td>m</td>\n",
              "      <td>1980</td>\n",
              "      <td>yes</td>\n",
              "      <td>15</td>\n",
              "    </tr>\n",
              "    <tr>\n",
              "      <th>2</th>\n",
              "      <td>Felipe</td>\n",
              "      <td>m</td>\n",
              "      <td>1999</td>\n",
              "      <td>NONE</td>\n",
              "      <td>17</td>\n",
              "    </tr>\n",
              "    <tr>\n",
              "      <th>3</th>\n",
              "      <td>Beatriz</td>\n",
              "      <td>f</td>\n",
              "      <td>NONE</td>\n",
              "      <td>no</td>\n",
              "      <td>16</td>\n",
              "    </tr>\n",
              "    <tr>\n",
              "      <th>4</th>\n",
              "      <td>Giovanni</td>\n",
              "      <td>m</td>\n",
              "      <td>1997</td>\n",
              "      <td>NONE</td>\n",
              "      <td>18</td>\n",
              "    </tr>\n",
              "    <tr>\n",
              "      <th>5</th>\n",
              "      <td>Guilherme</td>\n",
              "      <td>m</td>\n",
              "      <td>2001</td>\n",
              "      <td>no</td>\n",
              "      <td>10</td>\n",
              "    </tr>\n",
              "    <tr>\n",
              "      <th>6</th>\n",
              "      <td>Kaynan</td>\n",
              "      <td>m</td>\n",
              "      <td>2002</td>\n",
              "      <td>não</td>\n",
              "      <td>19</td>\n",
              "    </tr>\n",
              "  </tbody>\n",
              "</table>\n",
              "</div>\n",
              "    <div class=\"colab-df-buttons\">\n",
              "\n",
              "  <div class=\"colab-df-container\">\n",
              "    <button class=\"colab-df-convert\" onclick=\"convertToInteractive('df-f3f1bdac-7c2b-4893-b826-2bef441f9408')\"\n",
              "            title=\"Convert this dataframe to an interactive table.\"\n",
              "            style=\"display:none;\">\n",
              "\n",
              "  <svg xmlns=\"http://www.w3.org/2000/svg\" height=\"24px\" viewBox=\"0 -960 960 960\">\n",
              "    <path d=\"M120-120v-720h720v720H120Zm60-500h600v-160H180v160Zm220 220h160v-160H400v160Zm0 220h160v-160H400v160ZM180-400h160v-160H180v160Zm440 0h160v-160H620v160ZM180-180h160v-160H180v160Zm440 0h160v-160H620v160Z\"/>\n",
              "  </svg>\n",
              "    </button>\n",
              "\n",
              "  <style>\n",
              "    .colab-df-container {\n",
              "      display:flex;\n",
              "      gap: 12px;\n",
              "    }\n",
              "\n",
              "    .colab-df-convert {\n",
              "      background-color: #E8F0FE;\n",
              "      border: none;\n",
              "      border-radius: 50%;\n",
              "      cursor: pointer;\n",
              "      display: none;\n",
              "      fill: #1967D2;\n",
              "      height: 32px;\n",
              "      padding: 0 0 0 0;\n",
              "      width: 32px;\n",
              "    }\n",
              "\n",
              "    .colab-df-convert:hover {\n",
              "      background-color: #E2EBFA;\n",
              "      box-shadow: 0px 1px 2px rgba(60, 64, 67, 0.3), 0px 1px 3px 1px rgba(60, 64, 67, 0.15);\n",
              "      fill: #174EA6;\n",
              "    }\n",
              "\n",
              "    .colab-df-buttons div {\n",
              "      margin-bottom: 4px;\n",
              "    }\n",
              "\n",
              "    [theme=dark] .colab-df-convert {\n",
              "      background-color: #3B4455;\n",
              "      fill: #D2E3FC;\n",
              "    }\n",
              "\n",
              "    [theme=dark] .colab-df-convert:hover {\n",
              "      background-color: #434B5C;\n",
              "      box-shadow: 0px 1px 3px 1px rgba(0, 0, 0, 0.15);\n",
              "      filter: drop-shadow(0px 1px 2px rgba(0, 0, 0, 0.3));\n",
              "      fill: #FFFFFF;\n",
              "    }\n",
              "  </style>\n",
              "\n",
              "    <script>\n",
              "      const buttonEl =\n",
              "        document.querySelector('#df-f3f1bdac-7c2b-4893-b826-2bef441f9408 button.colab-df-convert');\n",
              "      buttonEl.style.display =\n",
              "        google.colab.kernel.accessAllowed ? 'block' : 'none';\n",
              "\n",
              "      async function convertToInteractive(key) {\n",
              "        const element = document.querySelector('#df-f3f1bdac-7c2b-4893-b826-2bef441f9408');\n",
              "        const dataTable =\n",
              "          await google.colab.kernel.invokeFunction('convertToInteractive',\n",
              "                                                    [key], {});\n",
              "        if (!dataTable) return;\n",
              "\n",
              "        const docLinkHtml = 'Like what you see? Visit the ' +\n",
              "          '<a target=\"_blank\" href=https://colab.research.google.com/notebooks/data_table.ipynb>data table notebook</a>'\n",
              "          + ' to learn more about interactive tables.';\n",
              "        element.innerHTML = '';\n",
              "        dataTable['output_type'] = 'display_data';\n",
              "        await google.colab.output.renderOutput(dataTable, element);\n",
              "        const docLink = document.createElement('div');\n",
              "        docLink.innerHTML = docLinkHtml;\n",
              "        element.appendChild(docLink);\n",
              "      }\n",
              "    </script>\n",
              "  </div>\n",
              "\n",
              "\n",
              "<div id=\"df-8afe17b3-008b-4405-95a6-a97030fdfe36\">\n",
              "  <button class=\"colab-df-quickchart\" onclick=\"quickchart('df-8afe17b3-008b-4405-95a6-a97030fdfe36')\"\n",
              "            title=\"Suggest charts.\"\n",
              "            style=\"display:none;\">\n",
              "\n",
              "<svg xmlns=\"http://www.w3.org/2000/svg\" height=\"24px\"viewBox=\"0 0 24 24\"\n",
              "     width=\"24px\">\n",
              "    <g>\n",
              "        <path d=\"M19 3H5c-1.1 0-2 .9-2 2v14c0 1.1.9 2 2 2h14c1.1 0 2-.9 2-2V5c0-1.1-.9-2-2-2zM9 17H7v-7h2v7zm4 0h-2V7h2v10zm4 0h-2v-4h2v4z\"/>\n",
              "    </g>\n",
              "</svg>\n",
              "  </button>\n",
              "\n",
              "<style>\n",
              "  .colab-df-quickchart {\n",
              "      --bg-color: #E8F0FE;\n",
              "      --fill-color: #1967D2;\n",
              "      --hover-bg-color: #E2EBFA;\n",
              "      --hover-fill-color: #174EA6;\n",
              "      --disabled-fill-color: #AAA;\n",
              "      --disabled-bg-color: #DDD;\n",
              "  }\n",
              "\n",
              "  [theme=dark] .colab-df-quickchart {\n",
              "      --bg-color: #3B4455;\n",
              "      --fill-color: #D2E3FC;\n",
              "      --hover-bg-color: #434B5C;\n",
              "      --hover-fill-color: #FFFFFF;\n",
              "      --disabled-bg-color: #3B4455;\n",
              "      --disabled-fill-color: #666;\n",
              "  }\n",
              "\n",
              "  .colab-df-quickchart {\n",
              "    background-color: var(--bg-color);\n",
              "    border: none;\n",
              "    border-radius: 50%;\n",
              "    cursor: pointer;\n",
              "    display: none;\n",
              "    fill: var(--fill-color);\n",
              "    height: 32px;\n",
              "    padding: 0;\n",
              "    width: 32px;\n",
              "  }\n",
              "\n",
              "  .colab-df-quickchart:hover {\n",
              "    background-color: var(--hover-bg-color);\n",
              "    box-shadow: 0 1px 2px rgba(60, 64, 67, 0.3), 0 1px 3px 1px rgba(60, 64, 67, 0.15);\n",
              "    fill: var(--button-hover-fill-color);\n",
              "  }\n",
              "\n",
              "  .colab-df-quickchart-complete:disabled,\n",
              "  .colab-df-quickchart-complete:disabled:hover {\n",
              "    background-color: var(--disabled-bg-color);\n",
              "    fill: var(--disabled-fill-color);\n",
              "    box-shadow: none;\n",
              "  }\n",
              "\n",
              "  .colab-df-spinner {\n",
              "    border: 2px solid var(--fill-color);\n",
              "    border-color: transparent;\n",
              "    border-bottom-color: var(--fill-color);\n",
              "    animation:\n",
              "      spin 1s steps(1) infinite;\n",
              "  }\n",
              "\n",
              "  @keyframes spin {\n",
              "    0% {\n",
              "      border-color: transparent;\n",
              "      border-bottom-color: var(--fill-color);\n",
              "      border-left-color: var(--fill-color);\n",
              "    }\n",
              "    20% {\n",
              "      border-color: transparent;\n",
              "      border-left-color: var(--fill-color);\n",
              "      border-top-color: var(--fill-color);\n",
              "    }\n",
              "    30% {\n",
              "      border-color: transparent;\n",
              "      border-left-color: var(--fill-color);\n",
              "      border-top-color: var(--fill-color);\n",
              "      border-right-color: var(--fill-color);\n",
              "    }\n",
              "    40% {\n",
              "      border-color: transparent;\n",
              "      border-right-color: var(--fill-color);\n",
              "      border-top-color: var(--fill-color);\n",
              "    }\n",
              "    60% {\n",
              "      border-color: transparent;\n",
              "      border-right-color: var(--fill-color);\n",
              "    }\n",
              "    80% {\n",
              "      border-color: transparent;\n",
              "      border-right-color: var(--fill-color);\n",
              "      border-bottom-color: var(--fill-color);\n",
              "    }\n",
              "    90% {\n",
              "      border-color: transparent;\n",
              "      border-bottom-color: var(--fill-color);\n",
              "    }\n",
              "  }\n",
              "</style>\n",
              "\n",
              "  <script>\n",
              "    async function quickchart(key) {\n",
              "      const quickchartButtonEl =\n",
              "        document.querySelector('#' + key + ' button');\n",
              "      quickchartButtonEl.disabled = true;  // To prevent multiple clicks.\n",
              "      quickchartButtonEl.classList.add('colab-df-spinner');\n",
              "      try {\n",
              "        const charts = await google.colab.kernel.invokeFunction(\n",
              "            'suggestCharts', [key], {});\n",
              "      } catch (error) {\n",
              "        console.error('Error during call to suggestCharts:', error);\n",
              "      }\n",
              "      quickchartButtonEl.classList.remove('colab-df-spinner');\n",
              "      quickchartButtonEl.classList.add('colab-df-quickchart-complete');\n",
              "    }\n",
              "    (() => {\n",
              "      let quickchartButtonEl =\n",
              "        document.querySelector('#df-8afe17b3-008b-4405-95a6-a97030fdfe36 button');\n",
              "      quickchartButtonEl.style.display =\n",
              "        google.colab.kernel.accessAllowed ? 'block' : 'none';\n",
              "    })();\n",
              "  </script>\n",
              "</div>\n",
              "    </div>\n",
              "  </div>\n"
            ]
          },
          "metadata": {},
          "execution_count": 57
        }
      ]
    },
    {
      "cell_type": "markdown",
      "source": [
        "<hr>\n"
      ],
      "metadata": {
        "id": "92dNilmYxyt6"
      }
    },
    {
      "cell_type": "code",
      "execution_count": 58,
      "metadata": {
        "id": "NZlqaYUhs3f7"
      },
      "outputs": [],
      "source": [
        "classroom.to_csv(\"csv_file.csv\", encoding='utf-8',sep='\\t', index=None) #, encoding='utf-8' --> para ler melhor #sep (separador) es \\t se nao falar es ((,))"
      ]
    },
    {
      "cell_type": "code",
      "execution_count": 59,
      "metadata": {
        "colab": {
          "base_uri": "https://localhost:8080/",
          "height": 0
        },
        "id": "M7UYNAGws3f8",
        "outputId": "5ef5191d-1531-4bfc-d0e8-18e064ea22db"
      },
      "outputs": [
        {
          "output_type": "execute_result",
          "data": {
            "text/plain": [
              "       Nomes Genero Aniversario Estado Civil  Pontaçao\n",
              "0    Vitoria      f        2001          yes        20\n",
              "1     Arthur      m        1980          yes        15\n",
              "2     Felipe      m        1999         NONE        17\n",
              "3    Beatriz      f        NONE           no        16\n",
              "4   Giovanni      m        1997         NONE        18\n",
              "5  Guilherme      m        2001           no        10\n",
              "6     Kaynan      m        2002          não        19"
            ],
            "text/html": [
              "\n",
              "  <div id=\"df-99c7d713-e6a2-404a-b791-3ddd5cc309c6\" class=\"colab-df-container\">\n",
              "    <div>\n",
              "<style scoped>\n",
              "    .dataframe tbody tr th:only-of-type {\n",
              "        vertical-align: middle;\n",
              "    }\n",
              "\n",
              "    .dataframe tbody tr th {\n",
              "        vertical-align: top;\n",
              "    }\n",
              "\n",
              "    .dataframe thead th {\n",
              "        text-align: right;\n",
              "    }\n",
              "</style>\n",
              "<table border=\"1\" class=\"dataframe\">\n",
              "  <thead>\n",
              "    <tr style=\"text-align: right;\">\n",
              "      <th></th>\n",
              "      <th>Nomes</th>\n",
              "      <th>Genero</th>\n",
              "      <th>Aniversario</th>\n",
              "      <th>Estado Civil</th>\n",
              "      <th>Pontaçao</th>\n",
              "    </tr>\n",
              "  </thead>\n",
              "  <tbody>\n",
              "    <tr>\n",
              "      <th>0</th>\n",
              "      <td>Vitoria</td>\n",
              "      <td>f</td>\n",
              "      <td>2001</td>\n",
              "      <td>yes</td>\n",
              "      <td>20</td>\n",
              "    </tr>\n",
              "    <tr>\n",
              "      <th>1</th>\n",
              "      <td>Arthur</td>\n",
              "      <td>m</td>\n",
              "      <td>1980</td>\n",
              "      <td>yes</td>\n",
              "      <td>15</td>\n",
              "    </tr>\n",
              "    <tr>\n",
              "      <th>2</th>\n",
              "      <td>Felipe</td>\n",
              "      <td>m</td>\n",
              "      <td>1999</td>\n",
              "      <td>NONE</td>\n",
              "      <td>17</td>\n",
              "    </tr>\n",
              "    <tr>\n",
              "      <th>3</th>\n",
              "      <td>Beatriz</td>\n",
              "      <td>f</td>\n",
              "      <td>NONE</td>\n",
              "      <td>no</td>\n",
              "      <td>16</td>\n",
              "    </tr>\n",
              "    <tr>\n",
              "      <th>4</th>\n",
              "      <td>Giovanni</td>\n",
              "      <td>m</td>\n",
              "      <td>1997</td>\n",
              "      <td>NONE</td>\n",
              "      <td>18</td>\n",
              "    </tr>\n",
              "    <tr>\n",
              "      <th>5</th>\n",
              "      <td>Guilherme</td>\n",
              "      <td>m</td>\n",
              "      <td>2001</td>\n",
              "      <td>no</td>\n",
              "      <td>10</td>\n",
              "    </tr>\n",
              "    <tr>\n",
              "      <th>6</th>\n",
              "      <td>Kaynan</td>\n",
              "      <td>m</td>\n",
              "      <td>2002</td>\n",
              "      <td>não</td>\n",
              "      <td>19</td>\n",
              "    </tr>\n",
              "  </tbody>\n",
              "</table>\n",
              "</div>\n",
              "    <div class=\"colab-df-buttons\">\n",
              "\n",
              "  <div class=\"colab-df-container\">\n",
              "    <button class=\"colab-df-convert\" onclick=\"convertToInteractive('df-99c7d713-e6a2-404a-b791-3ddd5cc309c6')\"\n",
              "            title=\"Convert this dataframe to an interactive table.\"\n",
              "            style=\"display:none;\">\n",
              "\n",
              "  <svg xmlns=\"http://www.w3.org/2000/svg\" height=\"24px\" viewBox=\"0 -960 960 960\">\n",
              "    <path d=\"M120-120v-720h720v720H120Zm60-500h600v-160H180v160Zm220 220h160v-160H400v160Zm0 220h160v-160H400v160ZM180-400h160v-160H180v160Zm440 0h160v-160H620v160ZM180-180h160v-160H180v160Zm440 0h160v-160H620v160Z\"/>\n",
              "  </svg>\n",
              "    </button>\n",
              "\n",
              "  <style>\n",
              "    .colab-df-container {\n",
              "      display:flex;\n",
              "      gap: 12px;\n",
              "    }\n",
              "\n",
              "    .colab-df-convert {\n",
              "      background-color: #E8F0FE;\n",
              "      border: none;\n",
              "      border-radius: 50%;\n",
              "      cursor: pointer;\n",
              "      display: none;\n",
              "      fill: #1967D2;\n",
              "      height: 32px;\n",
              "      padding: 0 0 0 0;\n",
              "      width: 32px;\n",
              "    }\n",
              "\n",
              "    .colab-df-convert:hover {\n",
              "      background-color: #E2EBFA;\n",
              "      box-shadow: 0px 1px 2px rgba(60, 64, 67, 0.3), 0px 1px 3px 1px rgba(60, 64, 67, 0.15);\n",
              "      fill: #174EA6;\n",
              "    }\n",
              "\n",
              "    .colab-df-buttons div {\n",
              "      margin-bottom: 4px;\n",
              "    }\n",
              "\n",
              "    [theme=dark] .colab-df-convert {\n",
              "      background-color: #3B4455;\n",
              "      fill: #D2E3FC;\n",
              "    }\n",
              "\n",
              "    [theme=dark] .colab-df-convert:hover {\n",
              "      background-color: #434B5C;\n",
              "      box-shadow: 0px 1px 3px 1px rgba(0, 0, 0, 0.15);\n",
              "      filter: drop-shadow(0px 1px 2px rgba(0, 0, 0, 0.3));\n",
              "      fill: #FFFFFF;\n",
              "    }\n",
              "  </style>\n",
              "\n",
              "    <script>\n",
              "      const buttonEl =\n",
              "        document.querySelector('#df-99c7d713-e6a2-404a-b791-3ddd5cc309c6 button.colab-df-convert');\n",
              "      buttonEl.style.display =\n",
              "        google.colab.kernel.accessAllowed ? 'block' : 'none';\n",
              "\n",
              "      async function convertToInteractive(key) {\n",
              "        const element = document.querySelector('#df-99c7d713-e6a2-404a-b791-3ddd5cc309c6');\n",
              "        const dataTable =\n",
              "          await google.colab.kernel.invokeFunction('convertToInteractive',\n",
              "                                                    [key], {});\n",
              "        if (!dataTable) return;\n",
              "\n",
              "        const docLinkHtml = 'Like what you see? Visit the ' +\n",
              "          '<a target=\"_blank\" href=https://colab.research.google.com/notebooks/data_table.ipynb>data table notebook</a>'\n",
              "          + ' to learn more about interactive tables.';\n",
              "        element.innerHTML = '';\n",
              "        dataTable['output_type'] = 'display_data';\n",
              "        await google.colab.output.renderOutput(dataTable, element);\n",
              "        const docLink = document.createElement('div');\n",
              "        docLink.innerHTML = docLinkHtml;\n",
              "        element.appendChild(docLink);\n",
              "      }\n",
              "    </script>\n",
              "  </div>\n",
              "\n",
              "\n",
              "<div id=\"df-4a712013-c358-4cd7-9077-32cc6cb74bf4\">\n",
              "  <button class=\"colab-df-quickchart\" onclick=\"quickchart('df-4a712013-c358-4cd7-9077-32cc6cb74bf4')\"\n",
              "            title=\"Suggest charts.\"\n",
              "            style=\"display:none;\">\n",
              "\n",
              "<svg xmlns=\"http://www.w3.org/2000/svg\" height=\"24px\"viewBox=\"0 0 24 24\"\n",
              "     width=\"24px\">\n",
              "    <g>\n",
              "        <path d=\"M19 3H5c-1.1 0-2 .9-2 2v14c0 1.1.9 2 2 2h14c1.1 0 2-.9 2-2V5c0-1.1-.9-2-2-2zM9 17H7v-7h2v7zm4 0h-2V7h2v10zm4 0h-2v-4h2v4z\"/>\n",
              "    </g>\n",
              "</svg>\n",
              "  </button>\n",
              "\n",
              "<style>\n",
              "  .colab-df-quickchart {\n",
              "      --bg-color: #E8F0FE;\n",
              "      --fill-color: #1967D2;\n",
              "      --hover-bg-color: #E2EBFA;\n",
              "      --hover-fill-color: #174EA6;\n",
              "      --disabled-fill-color: #AAA;\n",
              "      --disabled-bg-color: #DDD;\n",
              "  }\n",
              "\n",
              "  [theme=dark] .colab-df-quickchart {\n",
              "      --bg-color: #3B4455;\n",
              "      --fill-color: #D2E3FC;\n",
              "      --hover-bg-color: #434B5C;\n",
              "      --hover-fill-color: #FFFFFF;\n",
              "      --disabled-bg-color: #3B4455;\n",
              "      --disabled-fill-color: #666;\n",
              "  }\n",
              "\n",
              "  .colab-df-quickchart {\n",
              "    background-color: var(--bg-color);\n",
              "    border: none;\n",
              "    border-radius: 50%;\n",
              "    cursor: pointer;\n",
              "    display: none;\n",
              "    fill: var(--fill-color);\n",
              "    height: 32px;\n",
              "    padding: 0;\n",
              "    width: 32px;\n",
              "  }\n",
              "\n",
              "  .colab-df-quickchart:hover {\n",
              "    background-color: var(--hover-bg-color);\n",
              "    box-shadow: 0 1px 2px rgba(60, 64, 67, 0.3), 0 1px 3px 1px rgba(60, 64, 67, 0.15);\n",
              "    fill: var(--button-hover-fill-color);\n",
              "  }\n",
              "\n",
              "  .colab-df-quickchart-complete:disabled,\n",
              "  .colab-df-quickchart-complete:disabled:hover {\n",
              "    background-color: var(--disabled-bg-color);\n",
              "    fill: var(--disabled-fill-color);\n",
              "    box-shadow: none;\n",
              "  }\n",
              "\n",
              "  .colab-df-spinner {\n",
              "    border: 2px solid var(--fill-color);\n",
              "    border-color: transparent;\n",
              "    border-bottom-color: var(--fill-color);\n",
              "    animation:\n",
              "      spin 1s steps(1) infinite;\n",
              "  }\n",
              "\n",
              "  @keyframes spin {\n",
              "    0% {\n",
              "      border-color: transparent;\n",
              "      border-bottom-color: var(--fill-color);\n",
              "      border-left-color: var(--fill-color);\n",
              "    }\n",
              "    20% {\n",
              "      border-color: transparent;\n",
              "      border-left-color: var(--fill-color);\n",
              "      border-top-color: var(--fill-color);\n",
              "    }\n",
              "    30% {\n",
              "      border-color: transparent;\n",
              "      border-left-color: var(--fill-color);\n",
              "      border-top-color: var(--fill-color);\n",
              "      border-right-color: var(--fill-color);\n",
              "    }\n",
              "    40% {\n",
              "      border-color: transparent;\n",
              "      border-right-color: var(--fill-color);\n",
              "      border-top-color: var(--fill-color);\n",
              "    }\n",
              "    60% {\n",
              "      border-color: transparent;\n",
              "      border-right-color: var(--fill-color);\n",
              "    }\n",
              "    80% {\n",
              "      border-color: transparent;\n",
              "      border-right-color: var(--fill-color);\n",
              "      border-bottom-color: var(--fill-color);\n",
              "    }\n",
              "    90% {\n",
              "      border-color: transparent;\n",
              "      border-bottom-color: var(--fill-color);\n",
              "    }\n",
              "  }\n",
              "</style>\n",
              "\n",
              "  <script>\n",
              "    async function quickchart(key) {\n",
              "      const quickchartButtonEl =\n",
              "        document.querySelector('#' + key + ' button');\n",
              "      quickchartButtonEl.disabled = true;  // To prevent multiple clicks.\n",
              "      quickchartButtonEl.classList.add('colab-df-spinner');\n",
              "      try {\n",
              "        const charts = await google.colab.kernel.invokeFunction(\n",
              "            'suggestCharts', [key], {});\n",
              "      } catch (error) {\n",
              "        console.error('Error during call to suggestCharts:', error);\n",
              "      }\n",
              "      quickchartButtonEl.classList.remove('colab-df-spinner');\n",
              "      quickchartButtonEl.classList.add('colab-df-quickchart-complete');\n",
              "    }\n",
              "    (() => {\n",
              "      let quickchartButtonEl =\n",
              "        document.querySelector('#df-4a712013-c358-4cd7-9077-32cc6cb74bf4 button');\n",
              "      quickchartButtonEl.style.display =\n",
              "        google.colab.kernel.accessAllowed ? 'block' : 'none';\n",
              "    })();\n",
              "  </script>\n",
              "</div>\n",
              "    </div>\n",
              "  </div>\n"
            ]
          },
          "metadata": {},
          "execution_count": 59
        }
      ],
      "source": [
        "pd.read_csv(\"csv_file.csv\",sep='\\t', encoding='utf-8'  )"
      ]
    },
    {
      "cell_type": "code",
      "source": [
        "classroom.to_csv(\"csv_file.csv\",header=None ) #para nao ter header\n",
        "pd.read_csv(\"csv_file.csv\")"
      ],
      "metadata": {
        "id": "sT7vJ0u0twBy",
        "colab": {
          "base_uri": "https://localhost:8080/",
          "height": 0
        },
        "outputId": "a3d3be14-3aaf-4687-d613-778091b91823"
      },
      "execution_count": 60,
      "outputs": [
        {
          "output_type": "execute_result",
          "data": {
            "text/plain": [
              "   0    Vitoria  f  2001   yes  20\n",
              "0  1     Arthur  m  1980   yes  15\n",
              "1  2     Felipe  m  1999  NONE  17\n",
              "2  3    Beatriz  f  NONE    no  16\n",
              "3  4   Giovanni  m  1997  NONE  18\n",
              "4  5  Guilherme  m  2001    no  10\n",
              "5  6     Kaynan  m  2002   não  19"
            ],
            "text/html": [
              "\n",
              "  <div id=\"df-064246ee-c17c-4f3d-93b9-56ea658740a2\" class=\"colab-df-container\">\n",
              "    <div>\n",
              "<style scoped>\n",
              "    .dataframe tbody tr th:only-of-type {\n",
              "        vertical-align: middle;\n",
              "    }\n",
              "\n",
              "    .dataframe tbody tr th {\n",
              "        vertical-align: top;\n",
              "    }\n",
              "\n",
              "    .dataframe thead th {\n",
              "        text-align: right;\n",
              "    }\n",
              "</style>\n",
              "<table border=\"1\" class=\"dataframe\">\n",
              "  <thead>\n",
              "    <tr style=\"text-align: right;\">\n",
              "      <th></th>\n",
              "      <th>0</th>\n",
              "      <th>Vitoria</th>\n",
              "      <th>f</th>\n",
              "      <th>2001</th>\n",
              "      <th>yes</th>\n",
              "      <th>20</th>\n",
              "    </tr>\n",
              "  </thead>\n",
              "  <tbody>\n",
              "    <tr>\n",
              "      <th>0</th>\n",
              "      <td>1</td>\n",
              "      <td>Arthur</td>\n",
              "      <td>m</td>\n",
              "      <td>1980</td>\n",
              "      <td>yes</td>\n",
              "      <td>15</td>\n",
              "    </tr>\n",
              "    <tr>\n",
              "      <th>1</th>\n",
              "      <td>2</td>\n",
              "      <td>Felipe</td>\n",
              "      <td>m</td>\n",
              "      <td>1999</td>\n",
              "      <td>NONE</td>\n",
              "      <td>17</td>\n",
              "    </tr>\n",
              "    <tr>\n",
              "      <th>2</th>\n",
              "      <td>3</td>\n",
              "      <td>Beatriz</td>\n",
              "      <td>f</td>\n",
              "      <td>NONE</td>\n",
              "      <td>no</td>\n",
              "      <td>16</td>\n",
              "    </tr>\n",
              "    <tr>\n",
              "      <th>3</th>\n",
              "      <td>4</td>\n",
              "      <td>Giovanni</td>\n",
              "      <td>m</td>\n",
              "      <td>1997</td>\n",
              "      <td>NONE</td>\n",
              "      <td>18</td>\n",
              "    </tr>\n",
              "    <tr>\n",
              "      <th>4</th>\n",
              "      <td>5</td>\n",
              "      <td>Guilherme</td>\n",
              "      <td>m</td>\n",
              "      <td>2001</td>\n",
              "      <td>no</td>\n",
              "      <td>10</td>\n",
              "    </tr>\n",
              "    <tr>\n",
              "      <th>5</th>\n",
              "      <td>6</td>\n",
              "      <td>Kaynan</td>\n",
              "      <td>m</td>\n",
              "      <td>2002</td>\n",
              "      <td>não</td>\n",
              "      <td>19</td>\n",
              "    </tr>\n",
              "  </tbody>\n",
              "</table>\n",
              "</div>\n",
              "    <div class=\"colab-df-buttons\">\n",
              "\n",
              "  <div class=\"colab-df-container\">\n",
              "    <button class=\"colab-df-convert\" onclick=\"convertToInteractive('df-064246ee-c17c-4f3d-93b9-56ea658740a2')\"\n",
              "            title=\"Convert this dataframe to an interactive table.\"\n",
              "            style=\"display:none;\">\n",
              "\n",
              "  <svg xmlns=\"http://www.w3.org/2000/svg\" height=\"24px\" viewBox=\"0 -960 960 960\">\n",
              "    <path d=\"M120-120v-720h720v720H120Zm60-500h600v-160H180v160Zm220 220h160v-160H400v160Zm0 220h160v-160H400v160ZM180-400h160v-160H180v160Zm440 0h160v-160H620v160ZM180-180h160v-160H180v160Zm440 0h160v-160H620v160Z\"/>\n",
              "  </svg>\n",
              "    </button>\n",
              "\n",
              "  <style>\n",
              "    .colab-df-container {\n",
              "      display:flex;\n",
              "      gap: 12px;\n",
              "    }\n",
              "\n",
              "    .colab-df-convert {\n",
              "      background-color: #E8F0FE;\n",
              "      border: none;\n",
              "      border-radius: 50%;\n",
              "      cursor: pointer;\n",
              "      display: none;\n",
              "      fill: #1967D2;\n",
              "      height: 32px;\n",
              "      padding: 0 0 0 0;\n",
              "      width: 32px;\n",
              "    }\n",
              "\n",
              "    .colab-df-convert:hover {\n",
              "      background-color: #E2EBFA;\n",
              "      box-shadow: 0px 1px 2px rgba(60, 64, 67, 0.3), 0px 1px 3px 1px rgba(60, 64, 67, 0.15);\n",
              "      fill: #174EA6;\n",
              "    }\n",
              "\n",
              "    .colab-df-buttons div {\n",
              "      margin-bottom: 4px;\n",
              "    }\n",
              "\n",
              "    [theme=dark] .colab-df-convert {\n",
              "      background-color: #3B4455;\n",
              "      fill: #D2E3FC;\n",
              "    }\n",
              "\n",
              "    [theme=dark] .colab-df-convert:hover {\n",
              "      background-color: #434B5C;\n",
              "      box-shadow: 0px 1px 3px 1px rgba(0, 0, 0, 0.15);\n",
              "      filter: drop-shadow(0px 1px 2px rgba(0, 0, 0, 0.3));\n",
              "      fill: #FFFFFF;\n",
              "    }\n",
              "  </style>\n",
              "\n",
              "    <script>\n",
              "      const buttonEl =\n",
              "        document.querySelector('#df-064246ee-c17c-4f3d-93b9-56ea658740a2 button.colab-df-convert');\n",
              "      buttonEl.style.display =\n",
              "        google.colab.kernel.accessAllowed ? 'block' : 'none';\n",
              "\n",
              "      async function convertToInteractive(key) {\n",
              "        const element = document.querySelector('#df-064246ee-c17c-4f3d-93b9-56ea658740a2');\n",
              "        const dataTable =\n",
              "          await google.colab.kernel.invokeFunction('convertToInteractive',\n",
              "                                                    [key], {});\n",
              "        if (!dataTable) return;\n",
              "\n",
              "        const docLinkHtml = 'Like what you see? Visit the ' +\n",
              "          '<a target=\"_blank\" href=https://colab.research.google.com/notebooks/data_table.ipynb>data table notebook</a>'\n",
              "          + ' to learn more about interactive tables.';\n",
              "        element.innerHTML = '';\n",
              "        dataTable['output_type'] = 'display_data';\n",
              "        await google.colab.output.renderOutput(dataTable, element);\n",
              "        const docLink = document.createElement('div');\n",
              "        docLink.innerHTML = docLinkHtml;\n",
              "        element.appendChild(docLink);\n",
              "      }\n",
              "    </script>\n",
              "  </div>\n",
              "\n",
              "\n",
              "<div id=\"df-28960d45-c112-474b-9c92-d222cc9e8aa6\">\n",
              "  <button class=\"colab-df-quickchart\" onclick=\"quickchart('df-28960d45-c112-474b-9c92-d222cc9e8aa6')\"\n",
              "            title=\"Suggest charts.\"\n",
              "            style=\"display:none;\">\n",
              "\n",
              "<svg xmlns=\"http://www.w3.org/2000/svg\" height=\"24px\"viewBox=\"0 0 24 24\"\n",
              "     width=\"24px\">\n",
              "    <g>\n",
              "        <path d=\"M19 3H5c-1.1 0-2 .9-2 2v14c0 1.1.9 2 2 2h14c1.1 0 2-.9 2-2V5c0-1.1-.9-2-2-2zM9 17H7v-7h2v7zm4 0h-2V7h2v10zm4 0h-2v-4h2v4z\"/>\n",
              "    </g>\n",
              "</svg>\n",
              "  </button>\n",
              "\n",
              "<style>\n",
              "  .colab-df-quickchart {\n",
              "      --bg-color: #E8F0FE;\n",
              "      --fill-color: #1967D2;\n",
              "      --hover-bg-color: #E2EBFA;\n",
              "      --hover-fill-color: #174EA6;\n",
              "      --disabled-fill-color: #AAA;\n",
              "      --disabled-bg-color: #DDD;\n",
              "  }\n",
              "\n",
              "  [theme=dark] .colab-df-quickchart {\n",
              "      --bg-color: #3B4455;\n",
              "      --fill-color: #D2E3FC;\n",
              "      --hover-bg-color: #434B5C;\n",
              "      --hover-fill-color: #FFFFFF;\n",
              "      --disabled-bg-color: #3B4455;\n",
              "      --disabled-fill-color: #666;\n",
              "  }\n",
              "\n",
              "  .colab-df-quickchart {\n",
              "    background-color: var(--bg-color);\n",
              "    border: none;\n",
              "    border-radius: 50%;\n",
              "    cursor: pointer;\n",
              "    display: none;\n",
              "    fill: var(--fill-color);\n",
              "    height: 32px;\n",
              "    padding: 0;\n",
              "    width: 32px;\n",
              "  }\n",
              "\n",
              "  .colab-df-quickchart:hover {\n",
              "    background-color: var(--hover-bg-color);\n",
              "    box-shadow: 0 1px 2px rgba(60, 64, 67, 0.3), 0 1px 3px 1px rgba(60, 64, 67, 0.15);\n",
              "    fill: var(--button-hover-fill-color);\n",
              "  }\n",
              "\n",
              "  .colab-df-quickchart-complete:disabled,\n",
              "  .colab-df-quickchart-complete:disabled:hover {\n",
              "    background-color: var(--disabled-bg-color);\n",
              "    fill: var(--disabled-fill-color);\n",
              "    box-shadow: none;\n",
              "  }\n",
              "\n",
              "  .colab-df-spinner {\n",
              "    border: 2px solid var(--fill-color);\n",
              "    border-color: transparent;\n",
              "    border-bottom-color: var(--fill-color);\n",
              "    animation:\n",
              "      spin 1s steps(1) infinite;\n",
              "  }\n",
              "\n",
              "  @keyframes spin {\n",
              "    0% {\n",
              "      border-color: transparent;\n",
              "      border-bottom-color: var(--fill-color);\n",
              "      border-left-color: var(--fill-color);\n",
              "    }\n",
              "    20% {\n",
              "      border-color: transparent;\n",
              "      border-left-color: var(--fill-color);\n",
              "      border-top-color: var(--fill-color);\n",
              "    }\n",
              "    30% {\n",
              "      border-color: transparent;\n",
              "      border-left-color: var(--fill-color);\n",
              "      border-top-color: var(--fill-color);\n",
              "      border-right-color: var(--fill-color);\n",
              "    }\n",
              "    40% {\n",
              "      border-color: transparent;\n",
              "      border-right-color: var(--fill-color);\n",
              "      border-top-color: var(--fill-color);\n",
              "    }\n",
              "    60% {\n",
              "      border-color: transparent;\n",
              "      border-right-color: var(--fill-color);\n",
              "    }\n",
              "    80% {\n",
              "      border-color: transparent;\n",
              "      border-right-color: var(--fill-color);\n",
              "      border-bottom-color: var(--fill-color);\n",
              "    }\n",
              "    90% {\n",
              "      border-color: transparent;\n",
              "      border-bottom-color: var(--fill-color);\n",
              "    }\n",
              "  }\n",
              "</style>\n",
              "\n",
              "  <script>\n",
              "    async function quickchart(key) {\n",
              "      const quickchartButtonEl =\n",
              "        document.querySelector('#' + key + ' button');\n",
              "      quickchartButtonEl.disabled = true;  // To prevent multiple clicks.\n",
              "      quickchartButtonEl.classList.add('colab-df-spinner');\n",
              "      try {\n",
              "        const charts = await google.colab.kernel.invokeFunction(\n",
              "            'suggestCharts', [key], {});\n",
              "      } catch (error) {\n",
              "        console.error('Error during call to suggestCharts:', error);\n",
              "      }\n",
              "      quickchartButtonEl.classList.remove('colab-df-spinner');\n",
              "      quickchartButtonEl.classList.add('colab-df-quickchart-complete');\n",
              "    }\n",
              "    (() => {\n",
              "      let quickchartButtonEl =\n",
              "        document.querySelector('#df-28960d45-c112-474b-9c92-d222cc9e8aa6 button');\n",
              "      quickchartButtonEl.style.display =\n",
              "        google.colab.kernel.accessAllowed ? 'block' : 'none';\n",
              "    })();\n",
              "  </script>\n",
              "</div>\n",
              "    </div>\n",
              "  </div>\n"
            ]
          },
          "metadata": {},
          "execution_count": 60
        }
      ]
    },
    {
      "cell_type": "code",
      "source": [
        "classroom.to_csv(\"csv_file.csv\",header=None ) #para nao ter header\n",
        "pd.read_csv(\"csv_file.csv\", header=None)\n"
      ],
      "metadata": {
        "colab": {
          "base_uri": "https://localhost:8080/",
          "height": 0
        },
        "id": "zOR28BnNyf17",
        "outputId": "60919d45-dc01-4d45-8e57-8ba8c1dbf263"
      },
      "execution_count": 61,
      "outputs": [
        {
          "output_type": "execute_result",
          "data": {
            "text/plain": [
              "   0          1  2     3     4   5\n",
              "0  0    Vitoria  f  2001   yes  20\n",
              "1  1     Arthur  m  1980   yes  15\n",
              "2  2     Felipe  m  1999  NONE  17\n",
              "3  3    Beatriz  f  NONE    no  16\n",
              "4  4   Giovanni  m  1997  NONE  18\n",
              "5  5  Guilherme  m  2001    no  10\n",
              "6  6     Kaynan  m  2002   não  19"
            ],
            "text/html": [
              "\n",
              "  <div id=\"df-086ddd3e-f44a-46d7-b82c-b52240ec5b24\" class=\"colab-df-container\">\n",
              "    <div>\n",
              "<style scoped>\n",
              "    .dataframe tbody tr th:only-of-type {\n",
              "        vertical-align: middle;\n",
              "    }\n",
              "\n",
              "    .dataframe tbody tr th {\n",
              "        vertical-align: top;\n",
              "    }\n",
              "\n",
              "    .dataframe thead th {\n",
              "        text-align: right;\n",
              "    }\n",
              "</style>\n",
              "<table border=\"1\" class=\"dataframe\">\n",
              "  <thead>\n",
              "    <tr style=\"text-align: right;\">\n",
              "      <th></th>\n",
              "      <th>0</th>\n",
              "      <th>1</th>\n",
              "      <th>2</th>\n",
              "      <th>3</th>\n",
              "      <th>4</th>\n",
              "      <th>5</th>\n",
              "    </tr>\n",
              "  </thead>\n",
              "  <tbody>\n",
              "    <tr>\n",
              "      <th>0</th>\n",
              "      <td>0</td>\n",
              "      <td>Vitoria</td>\n",
              "      <td>f</td>\n",
              "      <td>2001</td>\n",
              "      <td>yes</td>\n",
              "      <td>20</td>\n",
              "    </tr>\n",
              "    <tr>\n",
              "      <th>1</th>\n",
              "      <td>1</td>\n",
              "      <td>Arthur</td>\n",
              "      <td>m</td>\n",
              "      <td>1980</td>\n",
              "      <td>yes</td>\n",
              "      <td>15</td>\n",
              "    </tr>\n",
              "    <tr>\n",
              "      <th>2</th>\n",
              "      <td>2</td>\n",
              "      <td>Felipe</td>\n",
              "      <td>m</td>\n",
              "      <td>1999</td>\n",
              "      <td>NONE</td>\n",
              "      <td>17</td>\n",
              "    </tr>\n",
              "    <tr>\n",
              "      <th>3</th>\n",
              "      <td>3</td>\n",
              "      <td>Beatriz</td>\n",
              "      <td>f</td>\n",
              "      <td>NONE</td>\n",
              "      <td>no</td>\n",
              "      <td>16</td>\n",
              "    </tr>\n",
              "    <tr>\n",
              "      <th>4</th>\n",
              "      <td>4</td>\n",
              "      <td>Giovanni</td>\n",
              "      <td>m</td>\n",
              "      <td>1997</td>\n",
              "      <td>NONE</td>\n",
              "      <td>18</td>\n",
              "    </tr>\n",
              "    <tr>\n",
              "      <th>5</th>\n",
              "      <td>5</td>\n",
              "      <td>Guilherme</td>\n",
              "      <td>m</td>\n",
              "      <td>2001</td>\n",
              "      <td>no</td>\n",
              "      <td>10</td>\n",
              "    </tr>\n",
              "    <tr>\n",
              "      <th>6</th>\n",
              "      <td>6</td>\n",
              "      <td>Kaynan</td>\n",
              "      <td>m</td>\n",
              "      <td>2002</td>\n",
              "      <td>não</td>\n",
              "      <td>19</td>\n",
              "    </tr>\n",
              "  </tbody>\n",
              "</table>\n",
              "</div>\n",
              "    <div class=\"colab-df-buttons\">\n",
              "\n",
              "  <div class=\"colab-df-container\">\n",
              "    <button class=\"colab-df-convert\" onclick=\"convertToInteractive('df-086ddd3e-f44a-46d7-b82c-b52240ec5b24')\"\n",
              "            title=\"Convert this dataframe to an interactive table.\"\n",
              "            style=\"display:none;\">\n",
              "\n",
              "  <svg xmlns=\"http://www.w3.org/2000/svg\" height=\"24px\" viewBox=\"0 -960 960 960\">\n",
              "    <path d=\"M120-120v-720h720v720H120Zm60-500h600v-160H180v160Zm220 220h160v-160H400v160Zm0 220h160v-160H400v160ZM180-400h160v-160H180v160Zm440 0h160v-160H620v160ZM180-180h160v-160H180v160Zm440 0h160v-160H620v160Z\"/>\n",
              "  </svg>\n",
              "    </button>\n",
              "\n",
              "  <style>\n",
              "    .colab-df-container {\n",
              "      display:flex;\n",
              "      gap: 12px;\n",
              "    }\n",
              "\n",
              "    .colab-df-convert {\n",
              "      background-color: #E8F0FE;\n",
              "      border: none;\n",
              "      border-radius: 50%;\n",
              "      cursor: pointer;\n",
              "      display: none;\n",
              "      fill: #1967D2;\n",
              "      height: 32px;\n",
              "      padding: 0 0 0 0;\n",
              "      width: 32px;\n",
              "    }\n",
              "\n",
              "    .colab-df-convert:hover {\n",
              "      background-color: #E2EBFA;\n",
              "      box-shadow: 0px 1px 2px rgba(60, 64, 67, 0.3), 0px 1px 3px 1px rgba(60, 64, 67, 0.15);\n",
              "      fill: #174EA6;\n",
              "    }\n",
              "\n",
              "    .colab-df-buttons div {\n",
              "      margin-bottom: 4px;\n",
              "    }\n",
              "\n",
              "    [theme=dark] .colab-df-convert {\n",
              "      background-color: #3B4455;\n",
              "      fill: #D2E3FC;\n",
              "    }\n",
              "\n",
              "    [theme=dark] .colab-df-convert:hover {\n",
              "      background-color: #434B5C;\n",
              "      box-shadow: 0px 1px 3px 1px rgba(0, 0, 0, 0.15);\n",
              "      filter: drop-shadow(0px 1px 2px rgba(0, 0, 0, 0.3));\n",
              "      fill: #FFFFFF;\n",
              "    }\n",
              "  </style>\n",
              "\n",
              "    <script>\n",
              "      const buttonEl =\n",
              "        document.querySelector('#df-086ddd3e-f44a-46d7-b82c-b52240ec5b24 button.colab-df-convert');\n",
              "      buttonEl.style.display =\n",
              "        google.colab.kernel.accessAllowed ? 'block' : 'none';\n",
              "\n",
              "      async function convertToInteractive(key) {\n",
              "        const element = document.querySelector('#df-086ddd3e-f44a-46d7-b82c-b52240ec5b24');\n",
              "        const dataTable =\n",
              "          await google.colab.kernel.invokeFunction('convertToInteractive',\n",
              "                                                    [key], {});\n",
              "        if (!dataTable) return;\n",
              "\n",
              "        const docLinkHtml = 'Like what you see? Visit the ' +\n",
              "          '<a target=\"_blank\" href=https://colab.research.google.com/notebooks/data_table.ipynb>data table notebook</a>'\n",
              "          + ' to learn more about interactive tables.';\n",
              "        element.innerHTML = '';\n",
              "        dataTable['output_type'] = 'display_data';\n",
              "        await google.colab.output.renderOutput(dataTable, element);\n",
              "        const docLink = document.createElement('div');\n",
              "        docLink.innerHTML = docLinkHtml;\n",
              "        element.appendChild(docLink);\n",
              "      }\n",
              "    </script>\n",
              "  </div>\n",
              "\n",
              "\n",
              "<div id=\"df-6d811d2e-8f80-402f-801a-99f0e596d009\">\n",
              "  <button class=\"colab-df-quickchart\" onclick=\"quickchart('df-6d811d2e-8f80-402f-801a-99f0e596d009')\"\n",
              "            title=\"Suggest charts.\"\n",
              "            style=\"display:none;\">\n",
              "\n",
              "<svg xmlns=\"http://www.w3.org/2000/svg\" height=\"24px\"viewBox=\"0 0 24 24\"\n",
              "     width=\"24px\">\n",
              "    <g>\n",
              "        <path d=\"M19 3H5c-1.1 0-2 .9-2 2v14c0 1.1.9 2 2 2h14c1.1 0 2-.9 2-2V5c0-1.1-.9-2-2-2zM9 17H7v-7h2v7zm4 0h-2V7h2v10zm4 0h-2v-4h2v4z\"/>\n",
              "    </g>\n",
              "</svg>\n",
              "  </button>\n",
              "\n",
              "<style>\n",
              "  .colab-df-quickchart {\n",
              "      --bg-color: #E8F0FE;\n",
              "      --fill-color: #1967D2;\n",
              "      --hover-bg-color: #E2EBFA;\n",
              "      --hover-fill-color: #174EA6;\n",
              "      --disabled-fill-color: #AAA;\n",
              "      --disabled-bg-color: #DDD;\n",
              "  }\n",
              "\n",
              "  [theme=dark] .colab-df-quickchart {\n",
              "      --bg-color: #3B4455;\n",
              "      --fill-color: #D2E3FC;\n",
              "      --hover-bg-color: #434B5C;\n",
              "      --hover-fill-color: #FFFFFF;\n",
              "      --disabled-bg-color: #3B4455;\n",
              "      --disabled-fill-color: #666;\n",
              "  }\n",
              "\n",
              "  .colab-df-quickchart {\n",
              "    background-color: var(--bg-color);\n",
              "    border: none;\n",
              "    border-radius: 50%;\n",
              "    cursor: pointer;\n",
              "    display: none;\n",
              "    fill: var(--fill-color);\n",
              "    height: 32px;\n",
              "    padding: 0;\n",
              "    width: 32px;\n",
              "  }\n",
              "\n",
              "  .colab-df-quickchart:hover {\n",
              "    background-color: var(--hover-bg-color);\n",
              "    box-shadow: 0 1px 2px rgba(60, 64, 67, 0.3), 0 1px 3px 1px rgba(60, 64, 67, 0.15);\n",
              "    fill: var(--button-hover-fill-color);\n",
              "  }\n",
              "\n",
              "  .colab-df-quickchart-complete:disabled,\n",
              "  .colab-df-quickchart-complete:disabled:hover {\n",
              "    background-color: var(--disabled-bg-color);\n",
              "    fill: var(--disabled-fill-color);\n",
              "    box-shadow: none;\n",
              "  }\n",
              "\n",
              "  .colab-df-spinner {\n",
              "    border: 2px solid var(--fill-color);\n",
              "    border-color: transparent;\n",
              "    border-bottom-color: var(--fill-color);\n",
              "    animation:\n",
              "      spin 1s steps(1) infinite;\n",
              "  }\n",
              "\n",
              "  @keyframes spin {\n",
              "    0% {\n",
              "      border-color: transparent;\n",
              "      border-bottom-color: var(--fill-color);\n",
              "      border-left-color: var(--fill-color);\n",
              "    }\n",
              "    20% {\n",
              "      border-color: transparent;\n",
              "      border-left-color: var(--fill-color);\n",
              "      border-top-color: var(--fill-color);\n",
              "    }\n",
              "    30% {\n",
              "      border-color: transparent;\n",
              "      border-left-color: var(--fill-color);\n",
              "      border-top-color: var(--fill-color);\n",
              "      border-right-color: var(--fill-color);\n",
              "    }\n",
              "    40% {\n",
              "      border-color: transparent;\n",
              "      border-right-color: var(--fill-color);\n",
              "      border-top-color: var(--fill-color);\n",
              "    }\n",
              "    60% {\n",
              "      border-color: transparent;\n",
              "      border-right-color: var(--fill-color);\n",
              "    }\n",
              "    80% {\n",
              "      border-color: transparent;\n",
              "      border-right-color: var(--fill-color);\n",
              "      border-bottom-color: var(--fill-color);\n",
              "    }\n",
              "    90% {\n",
              "      border-color: transparent;\n",
              "      border-bottom-color: var(--fill-color);\n",
              "    }\n",
              "  }\n",
              "</style>\n",
              "\n",
              "  <script>\n",
              "    async function quickchart(key) {\n",
              "      const quickchartButtonEl =\n",
              "        document.querySelector('#' + key + ' button');\n",
              "      quickchartButtonEl.disabled = true;  // To prevent multiple clicks.\n",
              "      quickchartButtonEl.classList.add('colab-df-spinner');\n",
              "      try {\n",
              "        const charts = await google.colab.kernel.invokeFunction(\n",
              "            'suggestCharts', [key], {});\n",
              "      } catch (error) {\n",
              "        console.error('Error during call to suggestCharts:', error);\n",
              "      }\n",
              "      quickchartButtonEl.classList.remove('colab-df-spinner');\n",
              "      quickchartButtonEl.classList.add('colab-df-quickchart-complete');\n",
              "    }\n",
              "    (() => {\n",
              "      let quickchartButtonEl =\n",
              "        document.querySelector('#df-6d811d2e-8f80-402f-801a-99f0e596d009 button');\n",
              "      quickchartButtonEl.style.display =\n",
              "        google.colab.kernel.accessAllowed ? 'block' : 'none';\n",
              "    })();\n",
              "  </script>\n",
              "</div>\n",
              "    </div>\n",
              "  </div>\n"
            ]
          },
          "metadata": {},
          "execution_count": 61
        }
      ]
    },
    {
      "cell_type": "markdown",
      "source": [
        "# FileHandeling\n",
        "## Monitores:\n",
        "\n",
        "1.     [Arthur Arash](https://www.linkedin.com/in/arthur-arash-briceno-heidari/)\n",
        "3.   [Kaynan Souza](https://www.linkedin.com/in/kaynan-macedo-de-souza-9a3260231/)\n",
        "\n",
        "\n",
        "\n",
        "\n"
      ],
      "metadata": {
        "id": "zhgLyw5ERv-0"
      }
    },
    {
      "cell_type": "markdown",
      "source": [
        "<h3>\n",
        "To open the file in write mode: mode='w' <br>\n",
        "To open the file in append mode: mode='a'<br>\n",
        "To open the file in binary read mode: mode='rb'<br>\n",
        "To open the file in read and write mode: mode='r+'<br>\n",
        "To open the file in write and read mode: mode='w+'<br>\n",
        "To open the file in exclusive creation mode: mode='x'\n",
        "</h3>\n",
        "<h6>\n",
        "f = open <mark>(file=\"D:\\\\Arthur\\\\files\\\\txt_file.txt\", mode='w')</mark> #para escrever ((Write))\n",
        "f.write('HELLO WORLD')\n",
        "f.close()\n",
        "</h6>\n",
        "\n"
      ],
      "metadata": {
        "id": "TwubDqtan4Z5"
      }
    },
    {
      "cell_type": "code",
      "execution_count": 62,
      "metadata": {
        "id": "MOzF9f43mxZ0"
      },
      "outputs": [],
      "source": [
        "#f = open(\"D:\\\\Arthur\\\\files\\\\txt_file.txt\", 'w') \\\\ para escrever o indereco do lugar o pode escrever no inicio r\"indereso normal \\ ajdnasnda\\\"\n",
        "f = open(\"Arthur.txt\", 'w') #para escrever ((Write))\n",
        "f.write('HELLO WORLD')\n",
        "f.close()"
      ]
    },
    {
      "cell_type": "code",
      "execution_count": 63,
      "metadata": {
        "id": "mi70FH6imxZ3"
      },
      "outputs": [],
      "source": [
        "\n",
        "#para na escrever \\\\  da para escrever r '' assim\n",
        "f = open(r\"D:\\Arthur\\files\\txt_file.txt\", 'w') #para escrever ((Write))\n",
        "f.write('HELLO WORLD')\n",
        "f.close()"
      ]
    },
    {
      "cell_type": "code",
      "execution_count": 64,
      "metadata": {
        "id": "W0_klLPJmxZ4"
      },
      "outputs": [],
      "source": [
        "f = open(\"D:\\\\Arthur\\\\files\\\\txt_file.txt\", 'a') #para adicionar ((append))\n",
        "f.write('\\nAdicionar Uma Nova Linha ((Append))')\n",
        "f.close()"
      ]
    },
    {
      "cell_type": "code",
      "execution_count": 65,
      "metadata": {
        "id": "QXXNP0_1mxZ4"
      },
      "outputs": [],
      "source": [
        "f = open(\"D:\\\\Arthur\\\\files\\\\txt_file.txt\", 'wb') #par escrever em bit ((write in bit))"
      ]
    },
    {
      "cell_type": "code",
      "source": [
        "#comando do Linux\n",
        "!mkdir sample"
      ],
      "metadata": {
        "id": "e4hM0K0afcs5"
      },
      "execution_count": 66,
      "outputs": []
    },
    {
      "cell_type": "code",
      "execution_count": 67,
      "metadata": {
        "id": "J0BcUBd5mxZ5"
      },
      "outputs": [],
      "source": [
        "with open(\"sample/Kaynan.csv\", 'w') as f: #Para entrar no arqivo\n",
        "    f.write('Python Intermediario ')"
      ]
    },
    {
      "cell_type": "code",
      "execution_count": 68,
      "metadata": {
        "id": "hn8PYjLWmxZ6"
      },
      "outputs": [],
      "source": [
        "with open(file=\"ArthurKaynan.txt\", mode='w', encoding='utf-8') as f:  #para aceitar tudo  entender melhor\n",
        "    for i in range(200):\n",
        "        f.write('آرتور_کاینان' + str(i+1) + '\\n')"
      ]
    },
    {
      "cell_type": "code",
      "source": [
        "with open(file=\"Vitor.text\", mode=\"w\") as happy:\n",
        "  for i in range(50):\n",
        "    if i%2==0:\n",
        "      happy.write(f\"{i+1}. Sim\\n\")\n",
        "    else:\n",
        "      happy.write(f\"{i+1}. Não\\n\")"
      ],
      "metadata": {
        "id": "-6G260PUMj-2"
      },
      "execution_count": 69,
      "outputs": []
    },
    {
      "cell_type": "code",
      "source": [
        "with open(file=\"Vitor.text\", mode='r', encoding='utf-8') as kk:\n",
        "    kkk = kk.read()"
      ],
      "metadata": {
        "id": "2vRGUws8Noti"
      },
      "execution_count": 70,
      "outputs": []
    },
    {
      "cell_type": "code",
      "source": [
        "kkk"
      ],
      "metadata": {
        "colab": {
          "base_uri": "https://localhost:8080/",
          "height": 0
        },
        "id": "6x1wYZ3tNss9",
        "outputId": "f62c6732-94fa-4693-8b55-b84b87a8e256"
      },
      "execution_count": 71,
      "outputs": [
        {
          "output_type": "execute_result",
          "data": {
            "text/plain": [
              "'1. Sim\\n2. Não\\n3. Sim\\n4. Não\\n5. Sim\\n6. Não\\n7. Sim\\n8. Não\\n9. Sim\\n10. Não\\n11. Sim\\n12. Não\\n13. Sim\\n14. Não\\n15. Sim\\n16. Não\\n17. Sim\\n18. Não\\n19. Sim\\n20. Não\\n21. Sim\\n22. Não\\n23. Sim\\n24. Não\\n25. Sim\\n26. Não\\n27. Sim\\n28. Não\\n29. Sim\\n30. Não\\n31. Sim\\n32. Não\\n33. Sim\\n34. Não\\n35. Sim\\n36. Não\\n37. Sim\\n38. Não\\n39. Sim\\n40. Não\\n41. Sim\\n42. Não\\n43. Sim\\n44. Não\\n45. Sim\\n46. Não\\n47. Sim\\n48. Não\\n49. Sim\\n50. Não\\n'"
            ],
            "application/vnd.google.colaboratory.intrinsic+json": {
              "type": "string"
            }
          },
          "metadata": {},
          "execution_count": 71
        }
      ]
    },
    {
      "cell_type": "code",
      "source": [
        "print(kkk)"
      ],
      "metadata": {
        "id": "zqPg1OETNoll",
        "colab": {
          "base_uri": "https://localhost:8080/"
        },
        "outputId": "4c655955-6033-4011-f01a-bad9feb5cde7"
      },
      "execution_count": 72,
      "outputs": [
        {
          "output_type": "stream",
          "name": "stdout",
          "text": [
            "1. Sim\n",
            "2. Não\n",
            "3. Sim\n",
            "4. Não\n",
            "5. Sim\n",
            "6. Não\n",
            "7. Sim\n",
            "8. Não\n",
            "9. Sim\n",
            "10. Não\n",
            "11. Sim\n",
            "12. Não\n",
            "13. Sim\n",
            "14. Não\n",
            "15. Sim\n",
            "16. Não\n",
            "17. Sim\n",
            "18. Não\n",
            "19. Sim\n",
            "20. Não\n",
            "21. Sim\n",
            "22. Não\n",
            "23. Sim\n",
            "24. Não\n",
            "25. Sim\n",
            "26. Não\n",
            "27. Sim\n",
            "28. Não\n",
            "29. Sim\n",
            "30. Não\n",
            "31. Sim\n",
            "32. Não\n",
            "33. Sim\n",
            "34. Não\n",
            "35. Sim\n",
            "36. Não\n",
            "37. Sim\n",
            "38. Não\n",
            "39. Sim\n",
            "40. Não\n",
            "41. Sim\n",
            "42. Não\n",
            "43. Sim\n",
            "44. Não\n",
            "45. Sim\n",
            "46. Não\n",
            "47. Sim\n",
            "48. Não\n",
            "49. Sim\n",
            "50. Não\n",
            "\n"
          ]
        }
      ]
    },
    {
      "cell_type": "code",
      "source": [
        "salvar_direto = open(\"Vitor.text\", 'r')\n",
        "print(salvar_direto)\n",
        "salvar_direto"
      ],
      "metadata": {
        "colab": {
          "base_uri": "https://localhost:8080/"
        },
        "id": "YPGTpHRbOBke",
        "outputId": "ba77f752-dd4d-42c3-c2d2-7544517edc61"
      },
      "execution_count": 73,
      "outputs": [
        {
          "output_type": "stream",
          "name": "stdout",
          "text": [
            "<_io.TextIOWrapper name='Vitor.text' mode='r' encoding='UTF-8'>\n"
          ]
        },
        {
          "output_type": "execute_result",
          "data": {
            "text/plain": [
              "<_io.TextIOWrapper name='Vitor.text' mode='r' encoding='UTF-8'>"
            ]
          },
          "metadata": {},
          "execution_count": 73
        }
      ]
    },
    {
      "cell_type": "code",
      "source": [
        "print(salvar_direto.readline()) #print(salvar_direto.readlines())"
      ],
      "metadata": {
        "colab": {
          "base_uri": "https://localhost:8080/"
        },
        "id": "DuA89mY_Oqjx",
        "outputId": "46ca7317-030e-442a-fc40-de6a7bdeb583"
      },
      "execution_count": 74,
      "outputs": [
        {
          "output_type": "stream",
          "name": "stdout",
          "text": [
            "1. Sim\n",
            "\n"
          ]
        }
      ]
    },
    {
      "cell_type": "code",
      "execution_count": 75,
      "metadata": {
        "id": "4XIuMfsEmxZ7"
      },
      "outputs": [],
      "source": [
        "with open(file=\"ArthurKaynan.txt\", mode='r', encoding='utf-8') as f:\n",
        "    output = f.read()"
      ]
    },
    {
      "cell_type": "code",
      "execution_count": 76,
      "metadata": {
        "scrolled": true,
        "colab": {
          "base_uri": "https://localhost:8080/",
          "height": 0
        },
        "id": "M7c8kWn5mxZ8",
        "outputId": "f3848874-59a8-4854-e71a-1c8e60ac9454"
      },
      "outputs": [
        {
          "output_type": "execute_result",
          "data": {
            "text/plain": [
              "'آرتور_کاینان1\\nآرتور_کاینان2\\nآرتور_کاینان3\\nآرتور_کاینان4\\nآرتور_کاینان5\\nآرتور_کاینان6\\nآرتور_کاینان7\\nآرتور_کاینان8\\nآرتور_کاینان9\\nآرتور_کاینان10\\nآرتور_کاینان11\\nآرتور_کاینان12\\nآرتور_کاینان13\\nآرتور_کاینان14\\nآرتور_کاینان15\\nآرتور_کاینان16\\nآرتور_کاینان17\\nآرتور_کاینان18\\nآرتور_کاینان19\\nآرتور_کاینان20\\nآرتور_کاینان21\\nآرتور_کاینان22\\nآرتور_کاینان23\\nآرتور_کاینان24\\nآرتور_کاینان25\\nآرتور_کاینان26\\nآرتور_کاینان27\\nآرتور_کاینان28\\nآرتور_کاینان29\\nآرتور_کاینان30\\nآرتور_کاینان31\\nآرتور_کاینان32\\nآرتور_کاینان33\\nآرتور_کاینان34\\nآرتور_کاینان35\\nآرتور_کاینان36\\nآرتور_کاینان37\\nآرتور_کاینان38\\nآرتور_کاینان39\\nآرتور_کاینان40\\nآرتور_کاینان41\\nآرتور_کاینان42\\nآرتور_کاینان43\\nآرتور_کاینان44\\nآرتور_کاینان45\\nآرتور_کاینان46\\nآرتور_کاینان47\\nآرتور_کاینان48\\nآرتور_کاینان49\\nآرتور_کاینان50\\nآرتور_کاینان51\\nآرتور_کاینان52\\nآرتور_کاینان53\\nآرتور_کاینان54\\nآرتور_کاینان55\\nآرتور_کاینان56\\nآرتور_کاینان57\\nآرتور_کاینان58\\nآرتور_کاینان59\\nآرتور_کاینان60\\nآرتور_کاینان61\\nآرتور_کاینان62\\nآرتور_کاینان63\\nآرتور_کاینان64\\nآرتور_کاینان65\\nآرتور_کاینان66\\nآرتور_کاینان67\\nآرتور_کاینان68\\nآرتور_کاینان69\\nآرتور_کاینان70\\nآرتور_کاینان71\\nآرتور_کاینان72\\nآرتور_کاینان73\\nآرتور_کاینان74\\nآرتور_کاینان75\\nآرتور_کاینان76\\nآرتور_کاینان77\\nآرتور_کاینان78\\nآرتور_کاینان79\\nآرتور_کاینان80\\nآرتور_کاینان81\\nآرتور_کاینان82\\nآرتور_کاینان83\\nآرتور_کاینان84\\nآرتور_کاینان85\\nآرتور_کاینان86\\nآرتور_کاینان87\\nآرتور_کاینان88\\nآرتور_کاینان89\\nآرتور_کاینان90\\nآرتور_کاینان91\\nآرتور_کاینان92\\nآرتور_کاینان93\\nآرتور_کاینان94\\nآرتور_کاینان95\\nآرتور_کاینان96\\nآرتور_کاینان97\\nآرتور_کاینان98\\nآرتور_کاینان99\\nآرتور_کاینان100\\nآرتور_کاینان101\\nآرتور_کاینان102\\nآرتور_کاینان103\\nآرتور_کاینان104\\nآرتور_کاینان105\\nآرتور_کاینان106\\nآرتور_کاینان107\\nآرتور_کاینان108\\nآرتور_کاینان109\\nآرتور_کاینان110\\nآرتور_کاینان111\\nآرتور_کاینان112\\nآرتور_کاینان113\\nآرتور_کاینان114\\nآرتور_کاینان115\\nآرتور_کاینان116\\nآرتور_کاینان117\\nآرتور_کاینان118\\nآرتور_کاینان119\\nآرتور_کاینان120\\nآرتور_کاینان121\\nآرتور_کاینان122\\nآرتور_کاینان123\\nآرتور_کاینان124\\nآرتور_کاینان125\\nآرتور_کاینان126\\nآرتور_کاینان127\\nآرتور_کاینان128\\nآرتور_کاینان129\\nآرتور_کاینان130\\nآرتور_کاینان131\\nآرتور_کاینان132\\nآرتور_کاینان133\\nآرتور_کاینان134\\nآرتور_کاینان135\\nآرتور_کاینان136\\nآرتور_کاینان137\\nآرتور_کاینان138\\nآرتور_کاینان139\\nآرتور_کاینان140\\nآرتور_کاینان141\\nآرتور_کاینان142\\nآرتور_کاینان143\\nآرتور_کاینان144\\nآرتور_کاینان145\\nآرتور_کاینان146\\nآرتور_کاینان147\\nآرتور_کاینان148\\nآرتور_کاینان149\\nآرتور_کاینان150\\nآرتور_کاینان151\\nآرتور_کاینان152\\nآرتور_کاینان153\\nآرتور_کاینان154\\nآرتور_کاینان155\\nآرتور_کاینان156\\nآرتور_کاینان157\\nآرتور_کاینان158\\nآرتور_کاینان159\\nآرتور_کاینان160\\nآرتور_کاینان161\\nآرتور_کاینان162\\nآرتور_کاینان163\\nآرتور_کاینان164\\nآرتور_کاینان165\\nآرتور_کاینان166\\nآرتور_کاینان167\\nآرتور_کاینان168\\nآرتور_کاینان169\\nآرتور_کاینان170\\nآرتور_کاینان171\\nآرتور_کاینان172\\nآرتور_کاینان173\\nآرتور_کاینان174\\nآرتور_کاینان175\\nآرتور_کاینان176\\nآرتور_کاینان177\\nآرتور_کاینان178\\nآرتور_کاینان179\\nآرتور_کاینان180\\nآرتور_کاینان181\\nآرتور_کاینان182\\nآرتور_کاینان183\\nآرتور_کاینان184\\nآرتور_کاینان185\\nآرتور_کاینان186\\nآرتور_کاینان187\\nآرتور_کاینان188\\nآرتور_کاینان189\\nآرتور_کاینان190\\nآرتور_کاینان191\\nآرتور_کاینان192\\nآرتور_کاینان193\\nآرتور_کاینان194\\nآرتور_کاینان195\\nآرتور_کاینان196\\nآرتور_کاینان197\\nآرتور_کاینان198\\nآرتور_کاینان199\\nآرتور_کاینان200\\n'"
            ],
            "application/vnd.google.colaboratory.intrinsic+json": {
              "type": "string"
            }
          },
          "metadata": {},
          "execution_count": 76
        }
      ],
      "source": [
        "output"
      ]
    },
    {
      "cell_type": "code",
      "execution_count": 77,
      "metadata": {
        "id": "q4deTJp9mxZ9",
        "colab": {
          "base_uri": "https://localhost:8080/"
        },
        "outputId": "9e5f9298-a3cb-49c3-c769-fc8981558747"
      },
      "outputs": [
        {
          "output_type": "stream",
          "name": "stdout",
          "text": [
            "آرتور_کاینان1\n",
            "آرتور_کاینان2\n",
            "آرتور_کاینان3\n",
            "آرتور_کاینان4\n",
            "آرتور_کاینان5\n",
            "آرتور_کاینان6\n",
            "آرتور_کاینان7\n",
            "آرتور_کاینان8\n",
            "آرتور_کاینان9\n",
            "آرتور_کاینان10\n",
            "آرتور_کاینان11\n",
            "آرتور_کاینان12\n",
            "آرتور_کاینان13\n",
            "آرتور_کاینان14\n",
            "آرتور_کاینان15\n",
            "آرتور_کاینان16\n",
            "آرتور_کاینان17\n",
            "آرتور_کاینان18\n",
            "آرتور_کاینان19\n",
            "آرتور_کاینان20\n",
            "آرتور_کاینان21\n",
            "آرتور_کاینان22\n",
            "آرتور_کاینان23\n",
            "آرتور_کاینان24\n",
            "آرتور_کاینان25\n",
            "آرتور_کاینان26\n",
            "آرتور_کاینان27\n",
            "آرتور_کاینان28\n",
            "آرتور_کاینان29\n",
            "آرتور_کاینان30\n",
            "آرتور_کاینان31\n",
            "آرتور_کاینان32\n",
            "آرتور_کاینان33\n",
            "آرتور_کاینان34\n",
            "آرتور_کاینان35\n",
            "آرتور_کاینان36\n",
            "آرتور_کاینان37\n",
            "آرتور_کاینان38\n",
            "آرتور_کاینان39\n",
            "آرتور_کاینان40\n",
            "آرتور_کاینان41\n",
            "آرتور_کاینان42\n",
            "آرتور_کاینان43\n",
            "آرتور_کاینان44\n",
            "آرتور_کاینان45\n",
            "آرتور_کاینان46\n",
            "آرتور_کاینان47\n",
            "آرتور_کاینان48\n",
            "آرتور_کاینان49\n",
            "آرتور_کاینان50\n",
            "آرتور_کاینان51\n",
            "آرتور_کاینان52\n",
            "آرتور_کاینان53\n",
            "آرتور_کاینان54\n",
            "آرتور_کاینان55\n",
            "آرتور_کاینان56\n",
            "آرتور_کاینان57\n",
            "آرتور_کاینان58\n",
            "آرتور_کاینان59\n",
            "آرتور_کاینان60\n",
            "آرتور_کاینان61\n",
            "آرتور_کاینان62\n",
            "آرتور_کاینان63\n",
            "آرتور_کاینان64\n",
            "آرتور_کاینان65\n",
            "آرتور_کاینان66\n",
            "آرتور_کاینان67\n",
            "آرتور_کاینان68\n",
            "آرتور_کاینان69\n",
            "آرتور_کاینان70\n",
            "آرتور_کاینان71\n",
            "آرتور_کاینان72\n",
            "آرتور_کاینان73\n",
            "آرتور_کاینان74\n",
            "آرتور_کاینان75\n",
            "آرتور_کاینان76\n",
            "آرتور_کاینان77\n",
            "آرتور_کاینان78\n",
            "آرتور_کاینان79\n",
            "آرتور_کاینان80\n",
            "آرتور_کاینان81\n",
            "آرتور_کاینان82\n",
            "آرتور_کاینان83\n",
            "آرتور_کاینان84\n",
            "آرتور_کاینان85\n",
            "آرتور_کاینان86\n",
            "آرتور_کاینان87\n",
            "آرتور_کاینان88\n",
            "آرتور_کاینان89\n",
            "آرتور_کاینان90\n",
            "آرتور_کاینان91\n",
            "آرتور_کاینان92\n",
            "آرتور_کاینان93\n",
            "آرتور_کاینان94\n",
            "آرتور_کاینان95\n",
            "آرتور_کاینان96\n",
            "آرتور_کاینان97\n",
            "آرتور_کاینان98\n",
            "آرتور_کاینان99\n",
            "آرتور_کاینان100\n",
            "آرتور_کاینان101\n",
            "آرتور_کاینان102\n",
            "آرتور_کاینان103\n",
            "آرتور_کاینان104\n",
            "آرتور_کاینان105\n",
            "آرتور_کاینان106\n",
            "آرتور_کاینان107\n",
            "آرتور_کاینان108\n",
            "آرتور_کاینان109\n",
            "آرتور_کاینان110\n",
            "آرتور_کاینان111\n",
            "آرتور_کاینان112\n",
            "آرتور_کاینان113\n",
            "آرتور_کاینان114\n",
            "آرتور_کاینان115\n",
            "آرتور_کاینان116\n",
            "آرتور_کاینان117\n",
            "آرتور_کاینان118\n",
            "آرتور_کاینان119\n",
            "آرتور_کاینان120\n",
            "آرتور_کاینان121\n",
            "آرتور_کاینان122\n",
            "آرتور_کاینان123\n",
            "آرتور_کاینان124\n",
            "آرتور_کاینان125\n",
            "آرتور_کاینان126\n",
            "آرتور_کاینان127\n",
            "آرتور_کاینان128\n",
            "آرتور_کاینان129\n",
            "آرتور_کاینان130\n",
            "آرتور_کاینان131\n",
            "آرتور_کاینان132\n",
            "آرتور_کاینان133\n",
            "آرتور_کاینان134\n",
            "آرتور_کاینان135\n",
            "آرتور_کاینان136\n",
            "آرتور_کاینان137\n",
            "آرتور_کاینان138\n",
            "آرتور_کاینان139\n",
            "آرتور_کاینان140\n",
            "آرتور_کاینان141\n",
            "آرتور_کاینان142\n",
            "آرتور_کاینان143\n",
            "آرتور_کاینان144\n",
            "آرتور_کاینان145\n",
            "آرتور_کاینان146\n",
            "آرتور_کاینان147\n",
            "آرتور_کاینان148\n",
            "آرتور_کاینان149\n",
            "آرتور_کاینان150\n",
            "آرتور_کاینان151\n",
            "آرتور_کاینان152\n",
            "آرتور_کاینان153\n",
            "آرتور_کاینان154\n",
            "آرتور_کاینان155\n",
            "آرتور_کاینان156\n",
            "آرتور_کاینان157\n",
            "آرتور_کاینان158\n",
            "آرتور_کاینان159\n",
            "آرتور_کاینان160\n",
            "آرتور_کاینان161\n",
            "آرتور_کاینان162\n",
            "آرتور_کاینان163\n",
            "آرتور_کاینان164\n",
            "آرتور_کاینان165\n",
            "آرتور_کاینان166\n",
            "آرتور_کاینان167\n",
            "آرتور_کاینان168\n",
            "آرتور_کاینان169\n",
            "آرتور_کاینان170\n",
            "آرتور_کاینان171\n",
            "آرتور_کاینان172\n",
            "آرتور_کاینان173\n",
            "آرتور_کاینان174\n",
            "آرتور_کاینان175\n",
            "آرتور_کاینان176\n",
            "آرتور_کاینان177\n",
            "آرتور_کاینان178\n",
            "آرتور_کاینان179\n",
            "آرتور_کاینان180\n",
            "آرتور_کاینان181\n",
            "آرتور_کاینان182\n",
            "آرتور_کاینان183\n",
            "آرتور_کاینان184\n",
            "آرتور_کاینان185\n",
            "آرتور_کاینان186\n",
            "آرتور_کاینان187\n",
            "آرتور_کاینان188\n",
            "آرتور_کاینان189\n",
            "آرتور_کاینان190\n",
            "آرتور_کاینان191\n",
            "آرتور_کاینان192\n",
            "آرتور_کاینان193\n",
            "آرتور_کاینان194\n",
            "آرتور_کاینان195\n",
            "آرتور_کاینان196\n",
            "آرتور_کاینان197\n",
            "آرتور_کاینان198\n",
            "آرتور_کاینان199\n",
            "آرتور_کاینان200\n",
            "\n"
          ]
        }
      ],
      "source": [
        "print(output)"
      ]
    },
    {
      "cell_type": "code",
      "execution_count": 78,
      "metadata": {
        "id": "dpt1bKhamxZ-"
      },
      "outputs": [],
      "source": [
        "f = open(file=\"ArthurKaynan.txt\", mode='r', encoding='utf-8')"
      ]
    },
    {
      "cell_type": "code",
      "execution_count": 79,
      "metadata": {
        "colab": {
          "base_uri": "https://localhost:8080/",
          "height": 0
        },
        "id": "Tns0NpXfmxZ_",
        "outputId": "6eb14195-6e11-472e-d048-9fff44c85b1b"
      },
      "outputs": [
        {
          "output_type": "execute_result",
          "data": {
            "text/plain": [
              "'آرتور_کاینان1\\n'"
            ],
            "application/vnd.google.colaboratory.intrinsic+json": {
              "type": "string"
            }
          },
          "metadata": {},
          "execution_count": 79
        }
      ],
      "source": [
        "f.readline()"
      ]
    },
    {
      "cell_type": "code",
      "execution_count": 80,
      "metadata": {
        "id": "bFKqQm04mxZ_"
      },
      "outputs": [],
      "source": [
        "with open(file=\"ArthurKaynan.txt\", mode='r', encoding='utf-8') as f:\n",
        "    output1 = f.readlines()"
      ]
    },
    {
      "cell_type": "code",
      "execution_count": 81,
      "metadata": {
        "id": "d5eNpNuBmxZ_",
        "colab": {
          "base_uri": "https://localhost:8080/"
        },
        "outputId": "ce13ecd6-658f-421e-f3dc-ccfe88e619fd"
      },
      "outputs": [
        {
          "output_type": "execute_result",
          "data": {
            "text/plain": [
              "['آرتور_کاینان1\\n',\n",
              " 'آرتور_کاینان2\\n',\n",
              " 'آرتور_کاینان3\\n',\n",
              " 'آرتور_کاینان4\\n',\n",
              " 'آرتور_کاینان5\\n',\n",
              " 'آرتور_کاینان6\\n',\n",
              " 'آرتور_کاینان7\\n',\n",
              " 'آرتور_کاینان8\\n',\n",
              " 'آرتور_کاینان9\\n',\n",
              " 'آرتور_کاینان10\\n',\n",
              " 'آرتور_کاینان11\\n',\n",
              " 'آرتور_کاینان12\\n',\n",
              " 'آرتور_کاینان13\\n',\n",
              " 'آرتور_کاینان14\\n',\n",
              " 'آرتور_کاینان15\\n',\n",
              " 'آرتور_کاینان16\\n',\n",
              " 'آرتور_کاینان17\\n',\n",
              " 'آرتور_کاینان18\\n',\n",
              " 'آرتور_کاینان19\\n',\n",
              " 'آرتور_کاینان20\\n',\n",
              " 'آرتور_کاینان21\\n',\n",
              " 'آرتور_کاینان22\\n',\n",
              " 'آرتور_کاینان23\\n',\n",
              " 'آرتور_کاینان24\\n',\n",
              " 'آرتور_کاینان25\\n',\n",
              " 'آرتور_کاینان26\\n',\n",
              " 'آرتور_کاینان27\\n',\n",
              " 'آرتور_کاینان28\\n',\n",
              " 'آرتور_کاینان29\\n',\n",
              " 'آرتور_کاینان30\\n',\n",
              " 'آرتور_کاینان31\\n',\n",
              " 'آرتور_کاینان32\\n',\n",
              " 'آرتور_کاینان33\\n',\n",
              " 'آرتور_کاینان34\\n',\n",
              " 'آرتور_کاینان35\\n',\n",
              " 'آرتور_کاینان36\\n',\n",
              " 'آرتور_کاینان37\\n',\n",
              " 'آرتور_کاینان38\\n',\n",
              " 'آرتور_کاینان39\\n',\n",
              " 'آرتور_کاینان40\\n',\n",
              " 'آرتور_کاینان41\\n',\n",
              " 'آرتور_کاینان42\\n',\n",
              " 'آرتور_کاینان43\\n',\n",
              " 'آرتور_کاینان44\\n',\n",
              " 'آرتور_کاینان45\\n',\n",
              " 'آرتور_کاینان46\\n',\n",
              " 'آرتور_کاینان47\\n',\n",
              " 'آرتور_کاینان48\\n',\n",
              " 'آرتور_کاینان49\\n',\n",
              " 'آرتور_کاینان50\\n',\n",
              " 'آرتور_کاینان51\\n',\n",
              " 'آرتور_کاینان52\\n',\n",
              " 'آرتور_کاینان53\\n',\n",
              " 'آرتور_کاینان54\\n',\n",
              " 'آرتور_کاینان55\\n',\n",
              " 'آرتور_کاینان56\\n',\n",
              " 'آرتور_کاینان57\\n',\n",
              " 'آرتور_کاینان58\\n',\n",
              " 'آرتور_کاینان59\\n',\n",
              " 'آرتور_کاینان60\\n',\n",
              " 'آرتور_کاینان61\\n',\n",
              " 'آرتور_کاینان62\\n',\n",
              " 'آرتور_کاینان63\\n',\n",
              " 'آرتور_کاینان64\\n',\n",
              " 'آرتور_کاینان65\\n',\n",
              " 'آرتور_کاینان66\\n',\n",
              " 'آرتور_کاینان67\\n',\n",
              " 'آرتور_کاینان68\\n',\n",
              " 'آرتور_کاینان69\\n',\n",
              " 'آرتور_کاینان70\\n',\n",
              " 'آرتور_کاینان71\\n',\n",
              " 'آرتور_کاینان72\\n',\n",
              " 'آرتور_کاینان73\\n',\n",
              " 'آرتور_کاینان74\\n',\n",
              " 'آرتور_کاینان75\\n',\n",
              " 'آرتور_کاینان76\\n',\n",
              " 'آرتور_کاینان77\\n',\n",
              " 'آرتور_کاینان78\\n',\n",
              " 'آرتور_کاینان79\\n',\n",
              " 'آرتور_کاینان80\\n',\n",
              " 'آرتور_کاینان81\\n',\n",
              " 'آرتور_کاینان82\\n',\n",
              " 'آرتور_کاینان83\\n',\n",
              " 'آرتور_کاینان84\\n',\n",
              " 'آرتور_کاینان85\\n',\n",
              " 'آرتور_کاینان86\\n',\n",
              " 'آرتور_کاینان87\\n',\n",
              " 'آرتور_کاینان88\\n',\n",
              " 'آرتور_کاینان89\\n',\n",
              " 'آرتور_کاینان90\\n',\n",
              " 'آرتور_کاینان91\\n',\n",
              " 'آرتور_کاینان92\\n',\n",
              " 'آرتور_کاینان93\\n',\n",
              " 'آرتور_کاینان94\\n',\n",
              " 'آرتور_کاینان95\\n',\n",
              " 'آرتور_کاینان96\\n',\n",
              " 'آرتور_کاینان97\\n',\n",
              " 'آرتور_کاینان98\\n',\n",
              " 'آرتور_کاینان99\\n',\n",
              " 'آرتور_کاینان100\\n',\n",
              " 'آرتور_کاینان101\\n',\n",
              " 'آرتور_کاینان102\\n',\n",
              " 'آرتور_کاینان103\\n',\n",
              " 'آرتور_کاینان104\\n',\n",
              " 'آرتور_کاینان105\\n',\n",
              " 'آرتور_کاینان106\\n',\n",
              " 'آرتور_کاینان107\\n',\n",
              " 'آرتور_کاینان108\\n',\n",
              " 'آرتور_کاینان109\\n',\n",
              " 'آرتور_کاینان110\\n',\n",
              " 'آرتور_کاینان111\\n',\n",
              " 'آرتور_کاینان112\\n',\n",
              " 'آرتور_کاینان113\\n',\n",
              " 'آرتور_کاینان114\\n',\n",
              " 'آرتور_کاینان115\\n',\n",
              " 'آرتور_کاینان116\\n',\n",
              " 'آرتور_کاینان117\\n',\n",
              " 'آرتور_کاینان118\\n',\n",
              " 'آرتور_کاینان119\\n',\n",
              " 'آرتور_کاینان120\\n',\n",
              " 'آرتور_کاینان121\\n',\n",
              " 'آرتور_کاینان122\\n',\n",
              " 'آرتور_کاینان123\\n',\n",
              " 'آرتور_کاینان124\\n',\n",
              " 'آرتور_کاینان125\\n',\n",
              " 'آرتور_کاینان126\\n',\n",
              " 'آرتور_کاینان127\\n',\n",
              " 'آرتور_کاینان128\\n',\n",
              " 'آرتور_کاینان129\\n',\n",
              " 'آرتور_کاینان130\\n',\n",
              " 'آرتور_کاینان131\\n',\n",
              " 'آرتور_کاینان132\\n',\n",
              " 'آرتور_کاینان133\\n',\n",
              " 'آرتور_کاینان134\\n',\n",
              " 'آرتور_کاینان135\\n',\n",
              " 'آرتور_کاینان136\\n',\n",
              " 'آرتور_کاینان137\\n',\n",
              " 'آرتور_کاینان138\\n',\n",
              " 'آرتور_کاینان139\\n',\n",
              " 'آرتور_کاینان140\\n',\n",
              " 'آرتور_کاینان141\\n',\n",
              " 'آرتور_کاینان142\\n',\n",
              " 'آرتور_کاینان143\\n',\n",
              " 'آرتور_کاینان144\\n',\n",
              " 'آرتور_کاینان145\\n',\n",
              " 'آرتور_کاینان146\\n',\n",
              " 'آرتور_کاینان147\\n',\n",
              " 'آرتور_کاینان148\\n',\n",
              " 'آرتور_کاینان149\\n',\n",
              " 'آرتور_کاینان150\\n',\n",
              " 'آرتور_کاینان151\\n',\n",
              " 'آرتور_کاینان152\\n',\n",
              " 'آرتور_کاینان153\\n',\n",
              " 'آرتور_کاینان154\\n',\n",
              " 'آرتور_کاینان155\\n',\n",
              " 'آرتور_کاینان156\\n',\n",
              " 'آرتور_کاینان157\\n',\n",
              " 'آرتور_کاینان158\\n',\n",
              " 'آرتور_کاینان159\\n',\n",
              " 'آرتور_کاینان160\\n',\n",
              " 'آرتور_کاینان161\\n',\n",
              " 'آرتور_کاینان162\\n',\n",
              " 'آرتور_کاینان163\\n',\n",
              " 'آرتور_کاینان164\\n',\n",
              " 'آرتور_کاینان165\\n',\n",
              " 'آرتور_کاینان166\\n',\n",
              " 'آرتور_کاینان167\\n',\n",
              " 'آرتور_کاینان168\\n',\n",
              " 'آرتور_کاینان169\\n',\n",
              " 'آرتور_کاینان170\\n',\n",
              " 'آرتور_کاینان171\\n',\n",
              " 'آرتور_کاینان172\\n',\n",
              " 'آرتور_کاینان173\\n',\n",
              " 'آرتور_کاینان174\\n',\n",
              " 'آرتور_کاینان175\\n',\n",
              " 'آرتور_کاینان176\\n',\n",
              " 'آرتور_کاینان177\\n',\n",
              " 'آرتور_کاینان178\\n',\n",
              " 'آرتور_کاینان179\\n',\n",
              " 'آرتور_کاینان180\\n',\n",
              " 'آرتور_کاینان181\\n',\n",
              " 'آرتور_کاینان182\\n',\n",
              " 'آرتور_کاینان183\\n',\n",
              " 'آرتور_کاینان184\\n',\n",
              " 'آرتور_کاینان185\\n',\n",
              " 'آرتور_کاینان186\\n',\n",
              " 'آرتور_کاینان187\\n',\n",
              " 'آرتور_کاینان188\\n',\n",
              " 'آرتور_کاینان189\\n',\n",
              " 'آرتور_کاینان190\\n',\n",
              " 'آرتور_کاینان191\\n',\n",
              " 'آرتور_کاینان192\\n',\n",
              " 'آرتور_کاینان193\\n',\n",
              " 'آرتور_کاینان194\\n',\n",
              " 'آرتور_کاینان195\\n',\n",
              " 'آرتور_کاینان196\\n',\n",
              " 'آرتور_کاینان197\\n',\n",
              " 'آرتور_کاینان198\\n',\n",
              " 'آرتور_کاینان199\\n',\n",
              " 'آرتور_کاینان200\\n']"
            ]
          },
          "metadata": {},
          "execution_count": 81
        }
      ],
      "source": [
        "output1"
      ]
    },
    {
      "cell_type": "code",
      "execution_count": 82,
      "metadata": {
        "colab": {
          "base_uri": "https://localhost:8080/"
        },
        "id": "SaMp28XtmxaA",
        "outputId": "4d8551ca-229a-4b5a-a04f-6e09d3f1431f"
      },
      "outputs": [
        {
          "output_type": "execute_result",
          "data": {
            "text/plain": [
              "list"
            ]
          },
          "metadata": {},
          "execution_count": 82
        }
      ],
      "source": [
        "type(output1)"
      ]
    },
    {
      "cell_type": "code",
      "execution_count": 83,
      "metadata": {
        "colab": {
          "base_uri": "https://localhost:8080/"
        },
        "id": "w5UJ9zBTmxaA",
        "outputId": "ff42227d-d3e8-41c6-c9b5-4e41f2866be8"
      },
      "outputs": [
        {
          "output_type": "execute_result",
          "data": {
            "text/plain": [
              "200"
            ]
          },
          "metadata": {},
          "execution_count": 83
        }
      ],
      "source": [
        "len(output1)"
      ]
    },
    {
      "cell_type": "markdown",
      "metadata": {
        "id": "9vqFB2ynuBIM"
      },
      "source": [
        "# json\n",
        "## Monitores:\n",
        "\n",
        "1.     [Arthur Arash](https://www.linkedin.com/in/arthur-arash-briceno-heidari/)\n",
        "3.   [Kaynan Souza](https://www.linkedin.com/in/kaynan-macedo-de-souza-9a3260231/)"
      ]
    },
    {
      "cell_type": "code",
      "execution_count": 84,
      "metadata": {
        "id": "eR7Nk92EuBIR"
      },
      "outputs": [],
      "source": [
        "import json"
      ]
    },
    {
      "cell_type": "code",
      "execution_count": 85,
      "metadata": {
        "id": "ZaHTwtByuBIT"
      },
      "outputs": [],
      "source": [
        "classroom = {\n",
        "            'name' : ['Ali', 'Arthur', 'Vitoria', 'Patricia', 'maryam', 'zahra'],\n",
        "            'score' : [12, 15, 18, 16, 14, 20],\n",
        "            'birthday' : ['1375', '1374', '1375', 'NONE' , '1376', '1373'],\n",
        "            'married' : ['yes', 'yes', 'NONE', 'no', 'NONE', 'no'],\n",
        "            'gender' : ['m', 'm', 'f', 'f', 'f', 'f']\n",
        "}\n",
        "#criamos um dictionario"
      ]
    },
    {
      "cell_type": "code",
      "execution_count": 86,
      "metadata": {
        "colab": {
          "base_uri": "https://localhost:8080/"
        },
        "id": "742sq302uBIU",
        "outputId": "029c995e-997e-49f2-c7a8-9ea5f0bb2d5e"
      },
      "outputs": [
        {
          "output_type": "execute_result",
          "data": {
            "text/plain": [
              "{'name': ['Ali', 'Arthur', 'Vitoria', 'Patricia', 'maryam', 'zahra'],\n",
              " 'score': [12, 15, 18, 16, 14, 20],\n",
              " 'birthday': ['1375', '1374', '1375', 'NONE', '1376', '1373'],\n",
              " 'married': ['yes', 'yes', 'NONE', 'no', 'NONE', 'no'],\n",
              " 'gender': ['m', 'm', 'f', 'f', 'f', 'f']}"
            ]
          },
          "metadata": {},
          "execution_count": 86
        }
      ],
      "source": [
        "classroom"
      ]
    },
    {
      "cell_type": "code",
      "source": [
        "from google.colab import drive\n",
        "drive.mount('/content/drive')"
      ],
      "metadata": {
        "colab": {
          "base_uri": "https://localhost:8080/",
          "height": 339
        },
        "id": "BCfEtRH5v0kM",
        "outputId": "07b0b2f4-0534-4173-f6a3-5f7c55098b36"
      },
      "execution_count": 87,
      "outputs": [
        {
          "output_type": "error",
          "ename": "MessageError",
          "evalue": "ignored",
          "traceback": [
            "\u001b[0;31m---------------------------------------------------------------------------\u001b[0m",
            "\u001b[0;31mMessageError\u001b[0m                              Traceback (most recent call last)",
            "\u001b[0;32m<ipython-input-87-d5df0069828e>\u001b[0m in \u001b[0;36m<cell line: 2>\u001b[0;34m()\u001b[0m\n\u001b[1;32m      1\u001b[0m \u001b[0;32mfrom\u001b[0m \u001b[0mgoogle\u001b[0m\u001b[0;34m.\u001b[0m\u001b[0mcolab\u001b[0m \u001b[0;32mimport\u001b[0m \u001b[0mdrive\u001b[0m\u001b[0;34m\u001b[0m\u001b[0;34m\u001b[0m\u001b[0m\n\u001b[0;32m----> 2\u001b[0;31m \u001b[0mdrive\u001b[0m\u001b[0;34m.\u001b[0m\u001b[0mmount\u001b[0m\u001b[0;34m(\u001b[0m\u001b[0;34m'/content/drive'\u001b[0m\u001b[0;34m)\u001b[0m\u001b[0;34m\u001b[0m\u001b[0;34m\u001b[0m\u001b[0m\n\u001b[0m",
            "\u001b[0;32m/usr/local/lib/python3.10/dist-packages/google/colab/drive.py\u001b[0m in \u001b[0;36mmount\u001b[0;34m(mountpoint, force_remount, timeout_ms, readonly)\u001b[0m\n\u001b[1;32m    101\u001b[0m \u001b[0;32mdef\u001b[0m \u001b[0mmount\u001b[0m\u001b[0;34m(\u001b[0m\u001b[0mmountpoint\u001b[0m\u001b[0;34m,\u001b[0m \u001b[0mforce_remount\u001b[0m\u001b[0;34m=\u001b[0m\u001b[0;32mFalse\u001b[0m\u001b[0;34m,\u001b[0m \u001b[0mtimeout_ms\u001b[0m\u001b[0;34m=\u001b[0m\u001b[0;36m120000\u001b[0m\u001b[0;34m,\u001b[0m \u001b[0mreadonly\u001b[0m\u001b[0;34m=\u001b[0m\u001b[0;32mFalse\u001b[0m\u001b[0;34m)\u001b[0m\u001b[0;34m:\u001b[0m\u001b[0;34m\u001b[0m\u001b[0;34m\u001b[0m\u001b[0m\n\u001b[1;32m    102\u001b[0m   \u001b[0;34m\"\"\"Mount your Google Drive at the specified mountpoint path.\"\"\"\u001b[0m\u001b[0;34m\u001b[0m\u001b[0;34m\u001b[0m\u001b[0m\n\u001b[0;32m--> 103\u001b[0;31m   return _mount(\n\u001b[0m\u001b[1;32m    104\u001b[0m       \u001b[0mmountpoint\u001b[0m\u001b[0;34m,\u001b[0m\u001b[0;34m\u001b[0m\u001b[0;34m\u001b[0m\u001b[0m\n\u001b[1;32m    105\u001b[0m       \u001b[0mforce_remount\u001b[0m\u001b[0;34m=\u001b[0m\u001b[0mforce_remount\u001b[0m\u001b[0;34m,\u001b[0m\u001b[0;34m\u001b[0m\u001b[0;34m\u001b[0m\u001b[0m\n",
            "\u001b[0;32m/usr/local/lib/python3.10/dist-packages/google/colab/drive.py\u001b[0m in \u001b[0;36m_mount\u001b[0;34m(mountpoint, force_remount, timeout_ms, ephemeral, readonly)\u001b[0m\n\u001b[1;32m    130\u001b[0m   )\n\u001b[1;32m    131\u001b[0m   \u001b[0;32mif\u001b[0m \u001b[0mephemeral\u001b[0m\u001b[0;34m:\u001b[0m\u001b[0;34m\u001b[0m\u001b[0;34m\u001b[0m\u001b[0m\n\u001b[0;32m--> 132\u001b[0;31m     _message.blocking_request(\n\u001b[0m\u001b[1;32m    133\u001b[0m         \u001b[0;34m'request_auth'\u001b[0m\u001b[0;34m,\u001b[0m \u001b[0mrequest\u001b[0m\u001b[0;34m=\u001b[0m\u001b[0;34m{\u001b[0m\u001b[0;34m'authType'\u001b[0m\u001b[0;34m:\u001b[0m \u001b[0;34m'dfs_ephemeral'\u001b[0m\u001b[0;34m}\u001b[0m\u001b[0;34m,\u001b[0m \u001b[0mtimeout_sec\u001b[0m\u001b[0;34m=\u001b[0m\u001b[0;32mNone\u001b[0m\u001b[0;34m\u001b[0m\u001b[0;34m\u001b[0m\u001b[0m\n\u001b[1;32m    134\u001b[0m     )\n",
            "\u001b[0;32m/usr/local/lib/python3.10/dist-packages/google/colab/_message.py\u001b[0m in \u001b[0;36mblocking_request\u001b[0;34m(request_type, request, timeout_sec, parent)\u001b[0m\n\u001b[1;32m    174\u001b[0m       \u001b[0mrequest_type\u001b[0m\u001b[0;34m,\u001b[0m \u001b[0mrequest\u001b[0m\u001b[0;34m,\u001b[0m \u001b[0mparent\u001b[0m\u001b[0;34m=\u001b[0m\u001b[0mparent\u001b[0m\u001b[0;34m,\u001b[0m \u001b[0mexpect_reply\u001b[0m\u001b[0;34m=\u001b[0m\u001b[0;32mTrue\u001b[0m\u001b[0;34m\u001b[0m\u001b[0;34m\u001b[0m\u001b[0m\n\u001b[1;32m    175\u001b[0m   )\n\u001b[0;32m--> 176\u001b[0;31m   \u001b[0;32mreturn\u001b[0m \u001b[0mread_reply_from_input\u001b[0m\u001b[0;34m(\u001b[0m\u001b[0mrequest_id\u001b[0m\u001b[0;34m,\u001b[0m \u001b[0mtimeout_sec\u001b[0m\u001b[0;34m)\u001b[0m\u001b[0;34m\u001b[0m\u001b[0;34m\u001b[0m\u001b[0m\n\u001b[0m",
            "\u001b[0;32m/usr/local/lib/python3.10/dist-packages/google/colab/_message.py\u001b[0m in \u001b[0;36mread_reply_from_input\u001b[0;34m(message_id, timeout_sec)\u001b[0m\n\u001b[1;32m    101\u001b[0m     ):\n\u001b[1;32m    102\u001b[0m       \u001b[0;32mif\u001b[0m \u001b[0;34m'error'\u001b[0m \u001b[0;32min\u001b[0m \u001b[0mreply\u001b[0m\u001b[0;34m:\u001b[0m\u001b[0;34m\u001b[0m\u001b[0;34m\u001b[0m\u001b[0m\n\u001b[0;32m--> 103\u001b[0;31m         \u001b[0;32mraise\u001b[0m \u001b[0mMessageError\u001b[0m\u001b[0;34m(\u001b[0m\u001b[0mreply\u001b[0m\u001b[0;34m[\u001b[0m\u001b[0;34m'error'\u001b[0m\u001b[0;34m]\u001b[0m\u001b[0;34m)\u001b[0m\u001b[0;34m\u001b[0m\u001b[0;34m\u001b[0m\u001b[0m\n\u001b[0m\u001b[1;32m    104\u001b[0m       \u001b[0;32mreturn\u001b[0m \u001b[0mreply\u001b[0m\u001b[0;34m.\u001b[0m\u001b[0mget\u001b[0m\u001b[0;34m(\u001b[0m\u001b[0;34m'data'\u001b[0m\u001b[0;34m,\u001b[0m \u001b[0;32mNone\u001b[0m\u001b[0;34m)\u001b[0m\u001b[0;34m\u001b[0m\u001b[0;34m\u001b[0m\u001b[0m\n\u001b[1;32m    105\u001b[0m \u001b[0;34m\u001b[0m\u001b[0m\n",
            "\u001b[0;31mMessageError\u001b[0m: Error: credential propagation was unsuccessful"
          ]
        }
      ]
    },
    {
      "cell_type": "code",
      "execution_count": 88,
      "metadata": {
        "id": "wXfhg5isuBIV",
        "colab": {
          "base_uri": "https://localhost:8080/",
          "height": 176
        },
        "outputId": "30df4e74-58f0-4ec3-8443-4f3b1af07deb"
      },
      "outputs": [
        {
          "output_type": "error",
          "ename": "FileNotFoundError",
          "evalue": "ignored",
          "traceback": [
            "\u001b[0;31m---------------------------------------------------------------------------\u001b[0m",
            "\u001b[0;31mFileNotFoundError\u001b[0m                         Traceback (most recent call last)",
            "\u001b[0;32m<ipython-input-88-fec2f5c1306f>\u001b[0m in \u001b[0;36m<cell line: 1>\u001b[0;34m()\u001b[0m\n\u001b[0;32m----> 1\u001b[0;31m \u001b[0mf\u001b[0m \u001b[0;34m=\u001b[0m \u001b[0mopen\u001b[0m\u001b[0;34m(\u001b[0m\u001b[0mfile\u001b[0m \u001b[0;34m=\u001b[0m \u001b[0;34m\"drive/MyDrive/TXT_C_J/json_file.json\"\u001b[0m\u001b[0;34m,\u001b[0m \u001b[0mmode\u001b[0m\u001b[0;34m=\u001b[0m\u001b[0;34m'w'\u001b[0m\u001b[0;34m)\u001b[0m\u001b[0;34m\u001b[0m\u001b[0;34m\u001b[0m\u001b[0m\n\u001b[0m",
            "\u001b[0;31mFileNotFoundError\u001b[0m: [Errno 2] No such file or directory: 'drive/MyDrive/TXT_C_J/json_file.json'"
          ]
        }
      ],
      "source": [
        "f = open(file = \"drive/MyDrive/TXT_C_J/json_file.json\", mode='w')"
      ]
    },
    {
      "cell_type": "code",
      "execution_count": null,
      "metadata": {
        "id": "NSPcv4ZVuBIW"
      },
      "outputs": [],
      "source": [
        "json.dump(classroom, f) #obj =  classroom // fp= f que abrimos"
      ]
    },
    {
      "cell_type": "code",
      "execution_count": null,
      "metadata": {
        "id": "avyElSGGuBIW"
      },
      "outputs": [],
      "source": [
        "f.close()"
      ]
    },
    {
      "cell_type": "code",
      "execution_count": null,
      "metadata": {
        "id": "jqJqyuAtuBIX"
      },
      "outputs": [],
      "source": [
        "with open(file = \"D:\\\\faradars\\\\files\\\\json_file.json\", mode='w') as f:\n",
        "    json.dump(classroom, f)"
      ]
    },
    {
      "cell_type": "code",
      "execution_count": null,
      "metadata": {
        "id": "6CadJNX-uBIY"
      },
      "outputs": [],
      "source": [
        "with open(file = \"D:\\\\faradars\\\\files\\\\json_file.json\", mode='r') as f:\n",
        "    classroom1 = json.load(f)\n",
        "    #para ler \\READ usamos .load(nome do FP)"
      ]
    },
    {
      "cell_type": "code",
      "execution_count": null,
      "metadata": {
        "id": "58q9JtC4uBIZ"
      },
      "outputs": [],
      "source": [
        "classroom1"
      ]
    }
  ],
  "metadata": {
    "kernelspec": {
      "display_name": "Python 3",
      "language": "python",
      "name": "python3"
    },
    "language_info": {
      "codemirror_mode": {
        "name": "ipython",
        "version": 3
      },
      "file_extension": ".py",
      "mimetype": "text/x-python",
      "name": "python",
      "nbconvert_exporter": "python",
      "pygments_lexer": "ipython3",
      "version": "3.7.4"
    },
    "colab": {
      "provenance": []
    }
  },
  "nbformat": 4,
  "nbformat_minor": 0
}
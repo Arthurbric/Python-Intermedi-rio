{
  "nbformat": 4,
  "nbformat_minor": 0,
  "metadata": {
    "colab": {
      "provenance": []
    },
    "kernelspec": {
      "name": "python3",
      "display_name": "Python 3"
    },
    "language_info": {
      "name": "python"
    }
  },
  "cells": [
    {
      "cell_type": "markdown",
      "source": [
        "# Monitores:\n",
        "\n",
        "\n",
        "1.   [Arthur Arash](https://www.linkedin.com/in/arthur-arash-briceno-heidari/)\n",
        "2.   [Kaynan Souza](https://www.linkedin.com/in/kaynan-macedo-de-souza-9a3260231/)\n",
        "\n",
        "\n",
        "\n",
        "\n"
      ],
      "metadata": {
        "id": "kyQ8Z4FTVEzZ"
      }
    },
    {
      "cell_type": "markdown",
      "source": [
        "# Data Types   \n",
        "\n",
        "*    int\n",
        "*    float\n",
        "*    str\n",
        "*    complex\n",
        "*    bool\n"
      ],
      "metadata": {
        "id": "J6M5JFMlDCMc"
      }
    },
    {
      "cell_type": "code",
      "source": [
        "i = 5\n",
        "print(type(i))      # <class 'int'>"
      ],
      "metadata": {
        "colab": {
          "base_uri": "https://localhost:8080/"
        },
        "id": "zekZWi6ZCVBM",
        "outputId": "25f94174-314b-43ad-cec5-e62e9867353c"
      },
      "execution_count": null,
      "outputs": [
        {
          "output_type": "stream",
          "name": "stdout",
          "text": [
            "<class 'int'>\n"
          ]
        }
      ]
    },
    {
      "cell_type": "code",
      "source": [
        "f = 3.6\n",
        "print(type(f))      # <class 'float'>"
      ],
      "metadata": {
        "colab": {
          "base_uri": "https://localhost:8080/"
        },
        "id": "iK9dpWfzCZUG",
        "outputId": "9ea607b1-2395-47ec-ab50-f8569c5ab5fe"
      },
      "execution_count": null,
      "outputs": [
        {
          "output_type": "stream",
          "name": "stdout",
          "text": [
            "<class 'float'>\n"
          ]
        }
      ]
    },
    {
      "cell_type": "code",
      "source": [
        "s = \"Python\"\n",
        "print(type(s))      # <class 'str'>"
      ],
      "metadata": {
        "colab": {
          "base_uri": "https://localhost:8080/"
        },
        "id": "WwptdgM0CaKW",
        "outputId": "e3a469df-276c-40f2-9d83-0c8ab888de40"
      },
      "execution_count": null,
      "outputs": [
        {
          "output_type": "stream",
          "name": "stdout",
          "text": [
            "<class 'str'>\n"
          ]
        }
      ]
    },
    {
      "cell_type": "code",
      "source": [
        "c = 2 + 7j\n",
        "print(type(c))      # <class 'complex'>"
      ],
      "metadata": {
        "colab": {
          "base_uri": "https://localhost:8080/"
        },
        "id": "1ZCNYwVuCcGF",
        "outputId": "20cc5107-e76b-4f56-d4fb-694c2d667673"
      },
      "execution_count": null,
      "outputs": [
        {
          "output_type": "stream",
          "name": "stdout",
          "text": [
            "<class 'complex'>\n"
          ]
        }
      ]
    },
    {
      "cell_type": "code",
      "source": [
        "b = True\n",
        "print(type(b))      # <class 'bool'>"
      ],
      "metadata": {
        "colab": {
          "base_uri": "https://localhost:8080/"
        },
        "id": "lVoz41ohCqiO",
        "outputId": "dc148a73-9f71-408a-806f-0ee8a6730f61"
      },
      "execution_count": null,
      "outputs": [
        {
          "output_type": "stream",
          "name": "stdout",
          "text": [
            "<class 'bool'>\n"
          ]
        }
      ]
    },
    {
      "cell_type": "code",
      "source": [
        "#'--variable names---'\n",
        "print('a2'.isidentifier())      # True\n",
        "print('2a'.isidentifier())      # False\n",
        "print('_myvar'.isidentifier())  # True\n",
        "print('my_var'.isidentifier())  # True\n",
        "print('my$'.isidentifier())     # False"
      ],
      "metadata": {
        "colab": {
          "base_uri": "https://localhost:8080/"
        },
        "id": "eXnEt8gUCvbP",
        "outputId": "c8d8e716-4869-464d-c963-2064268ec22b"
      },
      "execution_count": null,
      "outputs": [
        {
          "output_type": "stream",
          "name": "stdout",
          "text": [
            "True\n",
            "False\n",
            "True\n",
            "True\n",
            "False\n"
          ]
        }
      ]
    },
    {
      "cell_type": "code",
      "source": [
        "from keyword import iskeyword\n",
        "print( iskeyword('if'))         # True"
      ],
      "metadata": {
        "colab": {
          "base_uri": "https://localhost:8080/"
        },
        "id": "ByxOBvcxC2xn",
        "outputId": "0908ffb3-ac22-4ff2-ba1b-63b969fc8b74"
      },
      "execution_count": null,
      "outputs": [
        {
          "output_type": "stream",
          "name": "stdout",
          "text": [
            "True\n"
          ]
        }
      ]
    },
    {
      "cell_type": "markdown",
      "source": [
        "## ---Python Casting---"
      ],
      "metadata": {
        "id": "KGleHOxTXWiV"
      }
    },
    {
      "cell_type": "code",
      "source": [
        "i = 4\n",
        "print(float(i))     # 4.0"
      ],
      "metadata": {
        "id": "cKigfw0-XGw9"
      },
      "execution_count": null,
      "outputs": []
    },
    {
      "cell_type": "code",
      "source": [
        "s ='15'\n",
        "print(int(s) + 1)   # 16"
      ],
      "metadata": {
        "id": "WYhs1SSAXH6I"
      },
      "execution_count": null,
      "outputs": []
    },
    {
      "cell_type": "markdown",
      "source": [
        "## swaping"
      ],
      "metadata": {
        "id": "OuCodKoHXL6i"
      }
    },
    {
      "cell_type": "code",
      "source": [
        "x = 4\n",
        "y = 8\n",
        "y, x = x, y         # assign y value to x and x value to y #swaping\n",
        "print(x)            # 8\n",
        "print(y)            # 4"
      ],
      "metadata": {
        "id": "BpLRtDraXJ2F"
      },
      "execution_count": null,
      "outputs": []
    },
    {
      "cell_type": "code",
      "source": [
        "a = 1\n",
        "b = 2\n",
        "a, b = b, a + b\n",
        "print(a)           # ?\n",
        "print(b)           # ?"
      ],
      "metadata": {
        "id": "WObPChVPDaU5",
        "colab": {
          "base_uri": "https://localhost:8080/"
        },
        "outputId": "f50f0006-fea4-4fa6-ed38-1fd1f37c9a9e"
      },
      "execution_count": null,
      "outputs": [
        {
          "output_type": "stream",
          "name": "stdout",
          "text": [
            "2\n",
            "3\n"
          ]
        }
      ]
    },
    {
      "cell_type": "markdown",
      "source": [
        "# Operators :\n",
        "\n",
        "\n",
        "\n",
        "\n",
        "> <b>Arithmetic : +,-,*,/,%,**,//  <br>\n",
        ">    Assignment : =,+=,-=,*= ,/= ,%= ,//= ,**= <br>\n",
        ">    Comparison : ==,!=,>,<,>=,<=<br>\n",
        ">    Logical    : and, or, not<br>\n",
        ">    Membership : in , not in<br>\n",
        ">    Bitwise    :  &, |, ^, ~, <<, >><br>\n",
        "\n"
      ],
      "metadata": {
        "id": "LFyfpzlGE2lW"
      }
    },
    {
      "cell_type": "code",
      "source": [
        "print(17 // 2)         # 8\n",
        "print(17 % 2)          # 1\n",
        "print(3 ** 2)          # 9"
      ],
      "metadata": {
        "id": "U69xt06dXdc0"
      },
      "execution_count": null,
      "outputs": []
    },
    {
      "cell_type": "code",
      "source": [
        "y = 4\n",
        "y //= 2               # y = y // 2\n",
        "print(y)              # 2"
      ],
      "metadata": {
        "id": "PDIfZ8yBXfV8"
      },
      "execution_count": null,
      "outputs": []
    },
    {
      "cell_type": "code",
      "source": [
        "print('------')\n",
        "\n",
        "print(2 != 3)                       # True\n",
        "\n",
        "print('------')\n",
        "\n",
        "print(1<3 and 4>5)                  # False\n",
        "\n",
        "print('------')"
      ],
      "metadata": {
        "id": "fKDi3REDXjXd"
      },
      "execution_count": null,
      "outputs": []
    },
    {
      "cell_type": "code",
      "source": [
        "a = 15\n",
        "print(bin(a))                       # 0b1111\n",
        "b = 9\n",
        "print(bin(b))                       # 0b1001\n",
        "c = a | b\n",
        "print(bin(c))                       # 0b1111"
      ],
      "metadata": {
        "id": "2547Wap9XlKN"
      },
      "execution_count": null,
      "outputs": []
    },
    {
      "cell_type": "markdown",
      "source": [
        "## math"
      ],
      "metadata": {
        "id": "8b_5KiOMXqyD"
      }
    },
    {
      "cell_type": "code",
      "source": [
        "import math\n",
        "print( math.sqrt(16))      # 4.0\n",
        "print( math.trunc(4.3))    # 4\n",
        "print( math.factorial(3))  # 6\n",
        "print( math.log2(16))      # 4.0\n",
        "print( math.fmod(17,2))    # 1.0\n",
        "print( math.fabs(-5))      # 5.0\n",
        "print( math.pow(2,4))      # 16.0\n",
        "print( math.pi)            # 3.141592653589793"
      ],
      "metadata": {
        "id": "uBPeEpDNXnuW"
      },
      "execution_count": null,
      "outputs": []
    },
    {
      "cell_type": "markdown",
      "source": [
        "## random"
      ],
      "metadata": {
        "id": "oX156oUFXyx0"
      }
    },
    {
      "cell_type": "code",
      "source": [
        "import random\n",
        "print( random.randint(1, 10))\n",
        "print( random.choice([1,10]))\n",
        "\n",
        "print('# datetime #')\n",
        "import datetime\n",
        "now = datetime.datetime.now()\n",
        "print(now)                 # 2020-05-20 03:20:13.384938"
      ],
      "metadata": {
        "id": "MgDMEIP0E1dW"
      },
      "execution_count": null,
      "outputs": []
    },
    {
      "cell_type": "markdown",
      "source": [
        "# Control statements:\n",
        "*    if\n",
        "*  elif\n",
        "*  else"
      ],
      "metadata": {
        "id": "Gu-pI5ew5wTU"
      }
    },
    {
      "cell_type": "code",
      "source": [
        "import math\n",
        "n = -9\n",
        "if n < 0 :\n",
        "   n = abs(n)\n",
        "\n",
        "print(math.sqrt(n))        # 3.0"
      ],
      "metadata": {
        "id": "D6n565q5X4Rd"
      },
      "execution_count": null,
      "outputs": []
    },
    {
      "cell_type": "code",
      "source": [
        "a = 9\n",
        "if a % 2 == 1:\n",
        "    print('impar')            #evevn\n",
        "else:\n",
        "    print('Par')         # odd"
      ],
      "metadata": {
        "id": "2PJUtwwaX5vO"
      },
      "execution_count": null,
      "outputs": []
    },
    {
      "cell_type": "markdown",
      "source": [
        "## conditional expression"
      ],
      "metadata": {
        "id": "x3of6uIAYNHd"
      }
    },
    {
      "cell_type": "markdown",
      "source": [
        "//em C99 (C)\n",
        "\n",
        "```\n",
        "#include <stdio.h>\n",
        "void main()\n",
        "{  \n",
        "(condição) ? <comandos>   :  <comandos>    ;\n",
        "}\n",
        "\n",
        "```\n"
      ],
      "metadata": {
        "id": "Lmgi-3YET3nE"
      }
    },
    {
      "cell_type": "markdown",
      "source": [
        "\n",
        "//em python\n",
        "```\n",
        "< comandos do if > if < condição > else  < comandos do else >\n",
        "```\n",
        "\n"
      ],
      "metadata": {
        "id": "rTj9pS8CUbKC"
      }
    },
    {
      "cell_type": "code",
      "source": [
        "arthurVaidarAula = True"
      ],
      "metadata": {
        "id": "WqEB-RhwVt7y"
      },
      "execution_count": null,
      "outputs": []
    },
    {
      "cell_type": "code",
      "source": [
        "print(\"Arthur Vai dar aula\") if arthurVaidarAula else print(\" Kaynan Vai dar aula\")"
      ],
      "metadata": {
        "colab": {
          "base_uri": "https://localhost:8080/"
        },
        "id": "uZojA3SLVPbE",
        "outputId": "220e83c3-8366-4327-df22-0936def68c0c"
      },
      "execution_count": null,
      "outputs": [
        {
          "output_type": "stream",
          "name": "stdout",
          "text": [
            "Arthur Vai dar aula\n"
          ]
        }
      ]
    },
    {
      "cell_type": "code",
      "source": [
        "a = 3\n",
        "b = 8\n",
        "\n",
        "if a < b:\n",
        "   m = a\n",
        "else:\n",
        "   m = b"
      ],
      "metadata": {
        "id": "lfE3rlwpYTYW"
      },
      "execution_count": null,
      "outputs": []
    },
    {
      "cell_type": "code",
      "source": [
        "print(m)"
      ],
      "metadata": {
        "colab": {
          "base_uri": "https://localhost:8080/"
        },
        "id": "Yst7Vsm0YU6W",
        "outputId": "b436593d-b42b-402a-e3dd-3f913752e2aa"
      },
      "execution_count": null,
      "outputs": [
        {
          "output_type": "stream",
          "name": "stdout",
          "text": [
            "3\n"
          ]
        }
      ]
    },
    {
      "cell_type": "code",
      "source": [
        "M = a if a < b else b\n",
        "print(M)                 # 3"
      ],
      "metadata": {
        "colab": {
          "base_uri": "https://localhost:8080/"
        },
        "id": "oc6S7zOMYRTm",
        "outputId": "e511bb55-08a8-499d-f336-5b996f57dbed"
      },
      "execution_count": null,
      "outputs": [
        {
          "output_type": "stream",
          "name": "stdout",
          "text": [
            "3\n"
          ]
        }
      ]
    },
    {
      "cell_type": "code",
      "source": [
        "print(a if a < b else b)"
      ],
      "metadata": {
        "colab": {
          "base_uri": "https://localhost:8080/"
        },
        "id": "QGXVhp-kYgSu",
        "outputId": "305f8aaa-8e08-4604-9f23-bc5457f508e5"
      },
      "execution_count": null,
      "outputs": [
        {
          "output_type": "stream",
          "name": "stdout",
          "text": [
            "3\n"
          ]
        }
      ]
    },
    {
      "cell_type": "code",
      "source": [
        "grade = 7\n",
        "s = 'fail' if grade < 10 else 'pass'\n",
        "print(s)                                # fail"
      ],
      "metadata": {
        "id": "r0nhHPLUYfWo"
      },
      "execution_count": null,
      "outputs": []
    },
    {
      "cell_type": "code",
      "source": [
        "today = 'holiday'\n",
        "b = 40\n",
        "\n",
        "if today == 'Holiday':\n",
        "   if b > 50:\n",
        "       print('Shopping')\n",
        "   else:\n",
        "       print('Watch TV')               # Watch TV\n",
        "else:\n",
        "    print('Normal working day')"
      ],
      "metadata": {
        "id": "iifRZPkZYqRm"
      },
      "execution_count": null,
      "outputs": []
    },
    {
      "cell_type": "code",
      "source": [
        "Nota = 8\n",
        "\n",
        "if Nota >= 9.0:\n",
        "    l = 'SS'\n",
        "else:\n",
        "  if Nota >= 7.0 :\n",
        "      l = 'MS'\n",
        "  else:\n",
        "       if Nota>= 5.0:\n",
        "           l = 'MM'\n",
        "       else :\n",
        "        if Nota>= 3.0:\n",
        "           l = 'MI'\n",
        "        else :\n",
        "          if Nota>= 1.0:\n",
        "            l = 'II'\n",
        "          else :\n",
        "            l = 'RI'\n",
        "\n",
        "\n",
        "print(l)         # MS"
      ],
      "metadata": {
        "colab": {
          "base_uri": "https://localhost:8080/"
        },
        "id": "0BL6bMd9Y1C2",
        "outputId": "3e071b58-006c-412f-8f7c-42a3247e468d"
      },
      "execution_count": null,
      "outputs": [
        {
          "output_type": "stream",
          "name": "stdout",
          "text": [
            "MS\n"
          ]
        }
      ]
    },
    {
      "cell_type": "code",
      "source": [
        "Nota = 0\n",
        "\n",
        "if Nota >= 9.0:\n",
        "    l = 'SS'\n",
        "elif Nota >= 7.0:\n",
        "      l = 'MS'\n",
        "elif Nota>= 5.0:\n",
        "    l = 'MM'\n",
        "elif Nota>= 3.0:\n",
        "    l = 'MI'\n",
        "elif Nota>= 1.0:\n",
        "    l = 'II'\n",
        "else :\n",
        "    l = 'RI'\n",
        "print(l)          #RI"
      ],
      "metadata": {
        "id": "fYze2K8k56-0",
        "colab": {
          "base_uri": "https://localhost:8080/"
        },
        "outputId": "52d7141f-ce87-44e6-e0ee-677efc4a6951"
      },
      "execution_count": null,
      "outputs": [
        {
          "output_type": "stream",
          "name": "stdout",
          "text": [
            "RI\n"
          ]
        }
      ]
    },
    {
      "cell_type": "markdown",
      "source": [
        "<pre>\n",
        "<b>\n",
        "  loop :\n",
        "          for\n",
        "          while\n",
        "\n",
        "</pre>"
      ],
      "metadata": {
        "id": "MaCpVwnMBKVr"
      }
    },
    {
      "cell_type": "code",
      "source": [
        "for i in range(3):\n",
        "    print(i , end = ' ')      # 0 1 2"
      ],
      "metadata": {
        "id": "GBYmL7hxaHLs",
        "colab": {
          "base_uri": "https://localhost:8080/"
        },
        "outputId": "cb8b47c6-bed5-4824-edca-f48b62377265"
      },
      "execution_count": null,
      "outputs": [
        {
          "output_type": "stream",
          "name": "stdout",
          "text": [
            "0 1 2 "
          ]
        }
      ]
    },
    {
      "cell_type": "code",
      "source": [
        "for _ in range(3):\n",
        "    print('hello')"
      ],
      "metadata": {
        "id": "8OWNgcolaIgM",
        "colab": {
          "base_uri": "https://localhost:8080/"
        },
        "outputId": "67a578bb-becd-4efa-f208-e42fc3492a87"
      },
      "execution_count": null,
      "outputs": [
        {
          "output_type": "stream",
          "name": "stdout",
          "text": [
            "hello\n",
            "hello\n",
            "hello\n"
          ]
        }
      ]
    },
    {
      "cell_type": "code",
      "source": [
        "for j in range(6,11,2):\n",
        "    print(j , end = ' ' )    # 6 8 10\n",
        "\n",
        "print('\\n------')"
      ],
      "metadata": {
        "id": "HGo1Ug6LaTIc"
      },
      "execution_count": null,
      "outputs": []
    },
    {
      "cell_type": "code",
      "source": [
        "for i in range(2,5):\n",
        "    for j in range(1,i):\n",
        "        print(j , end = ' ')\n",
        "    print()\n",
        "\n",
        "'''\n",
        "1\n",
        "1  2\n",
        "1  2  3\n",
        "'''"
      ],
      "metadata": {
        "id": "ZskUb6xhaNWz",
        "colab": {
          "base_uri": "https://localhost:8080/",
          "height": 87
        },
        "outputId": "7d6fa8ee-4c67-4aa1-f8de-168c2145cde2"
      },
      "execution_count": null,
      "outputs": [
        {
          "output_type": "stream",
          "name": "stdout",
          "text": [
            "1 \n",
            "1 2 \n",
            "1 2 3 \n"
          ]
        },
        {
          "output_type": "execute_result",
          "data": {
            "text/plain": [
              "'\\n1\\n1  2\\n1  2  3\\n'"
            ],
            "application/vnd.google.colaboratory.intrinsic+json": {
              "type": "string"
            }
          },
          "metadata": {},
          "execution_count": 11
        }
      ]
    },
    {
      "cell_type": "markdown",
      "source": [
        "## break"
      ],
      "metadata": {
        "id": "0Rqrdv8caYuN"
      }
    },
    {
      "cell_type": "code",
      "source": [
        "print('\\n # break #')\n",
        "\n",
        "for i in range(6):\n",
        "    if i == 4 :\n",
        "        break\n",
        "    else:\n",
        "        print(i,end=' ')   # 0 1 2 3"
      ],
      "metadata": {
        "id": "j6wCH7HjaYP3"
      },
      "execution_count": null,
      "outputs": []
    },
    {
      "cell_type": "markdown",
      "source": [
        "## continue"
      ],
      "metadata": {
        "id": "t04qEVY5aece"
      }
    },
    {
      "cell_type": "code",
      "source": [
        "for i in range(6):\n",
        "    if i == 4 :\n",
        "        continue\n",
        "\n",
        "    print(i, end = \" \")   # 0 1 2 3 5\n",
        "    print(\"rodou\")"
      ],
      "metadata": {
        "id": "bA2Hj1ivaZa1",
        "colab": {
          "base_uri": "https://localhost:8080/"
        },
        "outputId": "050f956c-c8a9-4726-d6f9-66ea7713b386"
      },
      "execution_count": null,
      "outputs": [
        {
          "output_type": "stream",
          "name": "stdout",
          "text": [
            "0 rodou\n",
            "1 rodou\n",
            "2 rodou\n",
            "3 rodou\n",
            "5 rodou\n"
          ]
        }
      ]
    },
    {
      "cell_type": "code",
      "source": [
        "i = 1\n",
        "while i <= 4:\n",
        "    print(i , end= ' ')    # 1 2 3 4\n",
        "    i += 1"
      ],
      "metadata": {
        "id": "-BKknpn5ajdR"
      },
      "execution_count": null,
      "outputs": []
    },
    {
      "cell_type": "code",
      "source": [
        "n = 9\n",
        "while n > 2:\n",
        "    n -= 1\n",
        "    if n == 4:\n",
        "        break\n",
        "    print(n , end = ' ')    # 8 7 6 5"
      ],
      "metadata": {
        "id": "khZYTYbCajTW"
      },
      "execution_count": null,
      "outputs": []
    },
    {
      "cell_type": "code",
      "source": [
        "n = 9\n",
        "while n > 2:\n",
        "    n -= 1\n",
        "    if n == 4:\n",
        "        continue\n",
        "    print(n , end = ' ')    # 8 7 6 5 3 2\n"
      ],
      "metadata": {
        "id": "BF1UqymbCCsf"
      },
      "execution_count": null,
      "outputs": []
    },
    {
      "cell_type": "markdown",
      "source": [
        "<b>\n",
        "<pre>\n",
        "\n",
        "  string\n",
        "          len , is..  ,find , count  , title , ljust , startswith , replcae ,\n",
        "          strip , split , join , format , ...\n",
        "\n",
        "\n",
        "</pre>"
      ],
      "metadata": {
        "id": "_ElctCUxB_iL"
      }
    },
    {
      "cell_type": "code",
      "source": [
        "print('\\n---String---')\n",
        "\n",
        "s = 'python'\n",
        "\n",
        "print(len(s))               # 6\n",
        "print( 'th' in s)           # True\n",
        "\n",
        "print(s.islower())          # True\n",
        "print(s.isalpha())          # True\n",
        "print(s.isdigit())          # False\n",
        "\n",
        "print(s.find('o'))          # 4\n",
        "print(s.count('o'))         # 1\n",
        "\n",
        "print(s.title())            # Python\n",
        "print(s.upper())            # PYTHON\n",
        "\n",
        "print(s.ljust(8,'+'))       # python++\n",
        "print(s.startswith('py'))   # True\n",
        "\n",
        "print(s.replace('thon','ramid'))   # pyramid"
      ],
      "metadata": {
        "colab": {
          "base_uri": "https://localhost:8080/"
        },
        "id": "NGGZh9ykatn-",
        "outputId": "3553ef1f-bcb3-4af5-fb11-8dbcebb66757"
      },
      "execution_count": null,
      "outputs": [
        {
          "output_type": "stream",
          "name": "stdout",
          "text": [
            "\n",
            "---String---\n",
            "6\n",
            "True\n",
            "True\n",
            "True\n",
            "False\n",
            "4\n",
            "1\n",
            "Python\n",
            "PYTHON\n",
            "python++\n",
            "True\n",
            "pyramid\n"
          ]
        }
      ]
    },
    {
      "cell_type": "code",
      "source": [
        "s = '$python$$'\n",
        "print(s.strip('$'))     # python"
      ],
      "metadata": {
        "id": "9ie6nZ42axwn"
      },
      "execution_count": null,
      "outputs": []
    },
    {
      "cell_type": "code",
      "source": [
        "s = 'Python created by Rossum'\n",
        "a = s.split(' ')\n",
        "print(a)            # ['Python', 'created', 'by', 'Rossum']"
      ],
      "metadata": {
        "id": "NCDUhx5mbBVC",
        "colab": {
          "base_uri": "https://localhost:8080/"
        },
        "outputId": "5d8982c8-44dc-447a-dbe1-94a48e285eb3"
      },
      "execution_count": null,
      "outputs": [
        {
          "output_type": "stream",
          "name": "stdout",
          "text": [
            "['Python', 'created', 'by', 'Rossum']\n"
          ]
        }
      ]
    },
    {
      "cell_type": "code",
      "source": [
        "b = ['Python', 'created', 'by', 'Rossum']\n",
        "c =' '.join(b)\n",
        "print(c)"
      ],
      "metadata": {
        "id": "e0YCIh7bbCk4",
        "colab": {
          "base_uri": "https://localhost:8080/"
        },
        "outputId": "3dea3e6e-7070-47e2-88d5-6f90b7691034"
      },
      "execution_count": null,
      "outputs": [
        {
          "output_type": "stream",
          "name": "stdout",
          "text": [
            "Python created by Rossum\n"
          ]
        }
      ]
    },
    {
      "cell_type": "code",
      "source": [
        "print('# format #')\n",
        "\n",
        "s = 'python'\n",
        "\n",
        "print(f'name : {s}')           # name : python\n",
        "print('name:{}'.format(s))     # name : python\n",
        "\n",
        "print('------')\n",
        "\n",
        "a = 'Arthur'\n",
        "b = 'Heydari'\n",
        "\n",
        "print('name:{0}   surname:{1}'.format(a, b))\n",
        "\n",
        "# name:Arthur   surname:Heydari\n",
        "\n",
        "print('------')\n",
        "\n",
        "print(f'name:{Arthur}   surname:{Heydari}')\n",
        "\n",
        "print('------')\n",
        "a = 15\n",
        "b = 17.9999\n",
        "\n",
        "print('{:d} {:.1f}'.format(a, b))    # 15  18.0\n",
        "\n",
        "print('------')"
      ],
      "metadata": {
        "id": "e1R9SQ_3Fs2b"
      },
      "execution_count": null,
      "outputs": []
    }
  ]
}
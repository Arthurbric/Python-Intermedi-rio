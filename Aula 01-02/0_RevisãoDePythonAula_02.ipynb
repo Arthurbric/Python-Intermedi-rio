{
  "nbformat": 4,
  "nbformat_minor": 0,
  "metadata": {
    "colab": {
      "provenance": []
    },
    "kernelspec": {
      "name": "python3",
      "display_name": "Python 3"
    },
    "language_info": {
      "name": "python"
    }
  },
  "cells": [
    {
      "cell_type": "markdown",
      "source": [
        "# Aula 02"
      ],
      "metadata": {
        "id": "YuF5boarr3rK"
      }
    },
    {
      "cell_type": "markdown",
      "source": [
        "## Monitores:\n",
        "\n",
        "\n",
        "1.   [Arthur Arash](https://www.linkedin.com/in/arthur-arash-briceno-heidari/)\n",
        "2.   [Kaynan Souza](https://www.linkedin.com/in/kaynan-macedo-de-souza-9a3260231/)\n",
        "\n",
        "\n",
        "\n",
        "\n"
      ],
      "metadata": {
        "id": "5f9XieJqtJQt"
      }
    },
    {
      "cell_type": "markdown",
      "source": [
        "<b>\n",
        "<pre>\n",
        "\n",
        "    list\n",
        "    'index' ,'count','insert','remove','pop','reverse' , 'sort' ,'extend'\n",
        "    , 'append','clear','copy',...\n",
        "\n",
        "\n",
        "</pre>"
      ],
      "metadata": {
        "id": "NUGMy3pqFpcY"
      }
    },
    {
      "cell_type": "code",
      "source": [
        "a = [8, 2, 12]\n",
        "\n",
        "print(type(a))      # <class 'list'>\n",
        "\n",
        "print(len(a))       # 3\n",
        "\n",
        "print(a.index(2))   # 1\n",
        "\n",
        "print(a[1])         # 2\n",
        "a[1] = 7            # list is mutable\n",
        "\n",
        "print('------')\n",
        "\n",
        "a = [13, 5, 30, 8, 6, 25]\n",
        "\n",
        "print(a[1:4])        # [5, 30, 8]\n",
        "print(a[0:3])        # [13, 5, 30]\n",
        "print(a[3:])         # [8, 6, 25]\n",
        "print(a[::-1])       # [25, 6, 8, 30, 5, 13]\n",
        "\n",
        "print(a[0:7:2])      # [13, 30, 6]\n",
        "\n",
        "print('------')\n",
        "\n",
        "child = ['Vini','Gio']\n",
        "for i in child:\n",
        "    print(i)\n",
        "\n",
        "# or\n",
        "for i in range(len(child)):\n",
        "    print(child[i])\n",
        "\n",
        "print('------')\n",
        "\n",
        "a = [3, 5]\n",
        "b = a*2\n",
        "print(b)           # [3, 5, 3, 5]\n",
        "\n",
        "print('------')\n",
        "\n",
        "a = [1, 2 , 3]\n",
        "b = ['a', 'b']\n",
        "c = a + b\n",
        "print(c)           # [1, 2, 3 ,'a', 'b']\n",
        "\n",
        "print('------')\n",
        "\n",
        "a = [15 , 5 , 67 , 3 ]\n",
        "\n",
        "print(max(a))     # 67\n",
        "print(min(a))     # 3\n",
        "print(sum(a))     # 90\n",
        "\n",
        "print(a.count(5)) # 1\n",
        "\n",
        "a.insert(2,8)\n",
        "print(a)          # [15, 5, 8, 67, 3]\n",
        "\n",
        "a.remove(67)\n",
        "print(a)          # [15, 5, 8, 3]\n",
        "\n",
        "print(a.pop())    # 3\n",
        "print(a)          # [15, 5, 8]\n",
        "\n",
        "print(a.pop(1))   # 5\n",
        "print(a)          # [15, 8]\n",
        "\n",
        "del a[1]\n",
        "print(a)          # [15]\n",
        "\n",
        "print('------')\n",
        "a = [3,7,5,4]\n",
        "a.reverse()\n",
        "print(a)          # [4,5,7,3]\n",
        "\n",
        "a.sort()\n",
        "print(a)          # [3,4,5,7]\n",
        "\n",
        "print('------')\n",
        "\n",
        "a = [1,2]\n",
        "a.append(9)\n",
        "print(a)          # [1, 2, 9]\n",
        "\n",
        "print('------')\n",
        "x = [1, 2]\n",
        "y = ['a','b']\n",
        "x.append(y)\n",
        "print(x)          # [1, 2, ['a','b']]\n",
        "print(len(x))     # 3\n",
        "print('------')\n",
        "\n",
        "x = [1, 2]\n",
        "y = ['a','b']\n",
        "x.extend(y)\n",
        "print(x)          # [1, 2,'a','b']\n",
        "print(len(x))     # 4\n",
        "\n",
        "print('------')\n",
        "\n",
        "a = [1, 2, 3, 4]\n",
        "a.clear()\n",
        "print(a)          # []\n",
        "print(len(a))     # 0\n",
        "\n",
        "print('------')\n",
        "\n",
        "a = [1,2]\n",
        "b = a.copy()\n",
        "print(b)         # [1, 2]\n",
        "\n",
        "print('------')\n",
        "\n",
        "a = []\n",
        "for i in range(3):\n",
        "    a.append(i)\n",
        "\n",
        "print(a)          # [0, 1, 2]\n",
        "\n",
        "# or\n",
        "a = [i for i in range(3)]\n",
        "print(a)          # [0, 1, 2]\n",
        "\n",
        "print('------')\n",
        "\n",
        "grade = [5, 18, 20, 4, 7]\n",
        "\n",
        "a = [i for i in grade if i > 10]\n",
        "print(a)                          # [18,20]\n",
        "\n",
        "print('------')\n"
      ],
      "metadata": {
        "id": "H3NhrGFAGEPG"
      },
      "execution_count": null,
      "outputs": []
    },
    {
      "cell_type": "markdown",
      "source": [
        "<b>\n",
        "<pre>\n",
        "\n",
        "    Tuple:\n",
        "    len , index, sum , min , max , count , ...\n",
        "\n",
        "</pre>"
      ],
      "metadata": {
        "id": "Mpa9A2CfF82l"
      }
    },
    {
      "cell_type": "code",
      "source": [
        "t = ('English', 'Art', 'Mathematics')\n",
        "\n",
        "print(type(t))   # <class 'tuple'>\n",
        "\n",
        "print(len(t))    # 3\n",
        "\n",
        "print(t[1])      # Art\n",
        "\n",
        "print(t[1:3])    # ('Art', 'Mathematics')\n",
        "\n",
        "print(t.index('Art'))      # 1\n",
        "\n",
        "print( 'Art' in t)         # True\n",
        "\n",
        "# t[0] = 'history'         # error : tuples are immutable\n",
        "\n",
        "print('------')\n",
        "\n",
        "t = (1, 7, 5)\n",
        "\n",
        "print(sum(t))      # 13\n",
        "print(max(t))      # 7\n",
        "print(min(t))      # 1\n",
        "\n",
        "print(t.count(9))  # 0\n",
        "\n",
        "print(tuple(reversed(t)))  # (7,5,1)\n",
        "\n",
        "print('------')\n",
        "\n",
        "t = (1, 2)\n",
        "a = list(t)\n",
        "a.append(3)\n",
        "t = tuple(a)\n",
        "print(t)           # (1, 2, 3)\n",
        "\n",
        "print('------')\n",
        "\n",
        "t = (14, 7, 3, 19)\n",
        "x = list(t)\n",
        "x.remove(3)\n",
        "t = tuple(x)\n",
        "print(t)          # (14, 7, 19)\n",
        "\n",
        "print('------')\n",
        "\n",
        "t = ('red', 8)\n",
        "x,y = t\n",
        "print(x)         # red\n",
        "print(y)         # 8\n",
        "\n",
        "print('------')\n",
        "\n",
        "a = (1, 2)\n",
        "b = ('x', 'y')\n",
        "\n",
        "c = zip(a,b)\n",
        "\n",
        "print(list(c))           # [(1, 'x'), (2, 'y')]\n",
        "\n",
        "# unzip\n",
        "x = [(1, 'x'), (2, 'y')]\n",
        "u = zip(*x)\n",
        "print(list(u))          # [(1, 2), ('x','y')]\n",
        "\n",
        "print('------')\n",
        "\n",
        "###################################################################"
      ],
      "metadata": {
        "id": "3Q0GvrYcGK6v"
      },
      "execution_count": null,
      "outputs": []
    },
    {
      "cell_type": "markdown",
      "source": [
        "<b>\n",
        "<pre>\n",
        "\n",
        "\n",
        "   dictionary:\n",
        "       len , get , keys , values , items , pop , popitems ,...\n",
        "\n",
        "\n",
        "</pre>"
      ],
      "metadata": {
        "id": "QGSXWyYmF9c3"
      }
    },
    {
      "cell_type": "code",
      "source": [
        "print('# dict #')\n",
        "\n",
        "\n",
        "d = {\n",
        "     'brand' : 'b' ,\n",
        "     'model' : 'm' ,\n",
        "     'color' : 'red' ,\n",
        "     'year'  : 2020\n",
        "     }\n",
        "\n",
        "# or\n",
        "# d = dict( brand = 'b' , model='m' , color = 'white' , 'year' = 2020)\n",
        "\n",
        "\n",
        "print('------')\n",
        "\n",
        "d = {'x': 14, 'y': 32, 'z': 11, 'w': 7}\n",
        "\n",
        "print(type(d))           # <class dict>\n",
        "\n",
        "print(len(d))            # 4\n",
        "\n",
        "print( d['y'])           # 32\n",
        "\n",
        "print(d.get('y'))        # 32\n",
        "\n",
        "print(list(d.keys()))    # ['x', 'y', 'z', 'w']\n",
        "\n",
        "print(list(d.values()))  # [14, 32, 11, 7]\n",
        "\n",
        "print(list(d.items()))   # [('x', 14), ('y', 32), ('z', 11), ('w', 7)]\n",
        "\n",
        "for k,v in d.items():\n",
        "    print(k,':',v)\n",
        "'''\n",
        "x : 14\n",
        "y : 32\n",
        "z : 11\n",
        "w : 7\n",
        "'''\n",
        "\n",
        "d.pop('y')\n",
        "print(d)                 # {'x': 14, 'z': 11, 'w': 7}\n",
        "\n",
        "d.popitem()\n",
        "print(d)                 # {'x': 14, 'z': 11}\n",
        "\n",
        "d.clear()\n",
        "print(d)                 # {}\n",
        "\n",
        "del d\n",
        "\n",
        "print('------')\n",
        "\n",
        "d = {'x': 14, 'y': 32, 'z': 11, 'w': 7}\n",
        "\n",
        "import operator\n",
        "\n",
        "k = operator.itemgetter(1)\n",
        "\n",
        "print(sorted(d.items(),key = k))\n",
        "\n",
        "# [('w', 7), ('z', 11), ('x', 14), ('y', 32)]\n",
        "\n",
        "print('------')\n",
        "\n",
        "# combine\n",
        "d1 = {'x' : 3 , 'y': 2 , 'z':1}\n",
        "d2 = {'w' : 8 , 't': 7 }\n",
        "d = {}\n",
        "\n",
        "d = d1.copy()\n",
        "d.update(d2)\n",
        "\n",
        "print(d)      # {'x': 3, 'y': 2, 'z': 1, 'w': 8, 't': 7}\n",
        "\n",
        "# or\n",
        "d = {**d1 , **d2}\n",
        "\n",
        "print('------')\n",
        "\n",
        "k = ['a' , 'b']\n",
        "v = [4 , 8]\n",
        "\n",
        "z = zip(k,v)\n",
        "\n",
        "d = dict(z)\n",
        "print(d)       # {'a': 4, 'b': 8}\n",
        "\n",
        "print('------')\n",
        "\n",
        "### Nested dict\n",
        "\n",
        "myfamily = {\n",
        "        'child1': {'name':'Kaynan'  , 'age' : 21}  ,\n",
        "        'child2': {'name':'Muri' , 'age' : 20}\n",
        "        }\n",
        "\n",
        "print('------')\n",
        "\n",
        "p = {\n",
        "     'name'     : 'Felipe',\n",
        "     'children' : ['Ana', 'Mini-felipe'],\n",
        "     'phone'    : {'home':'021-4455', 'mobile':'6199999'}\n",
        "    }\n",
        "\n",
        "print(len(p))                # 3\n",
        "\n",
        "print(p['phone']['mobile'])  # 6199999\n",
        "\n",
        "print(p['children'][0])      # Ana"
      ],
      "metadata": {
        "id": "8fVxunHBD2fk"
      },
      "execution_count": null,
      "outputs": []
    },
    {
      "cell_type": "markdown",
      "source": [
        "<b>\n",
        "<pre>\n",
        "\n",
        "    Set :\n",
        "        len , add, update , remove , discard , pop , copy , clear,\n",
        "        intersection , union , difference , update , issubset , isdisjoint , ...\n",
        "\n",
        "</pre>"
      ],
      "metadata": {
        "id": "U6Ky-xtCF7VF"
      }
    },
    {
      "cell_type": "code",
      "source": [
        "S = {'a','e','o','i'}\n",
        "\n",
        "print(type(S))     # <class 'set'>\n",
        "\n",
        "print(len(S))      # 4\n",
        "\n",
        "print('u' in S)    # False\n",
        "\n",
        "S.add('u')\n",
        "print(S)           # {'i', 'u', 'e', 'a', 'o'}\n",
        "\n",
        "print('------')\n",
        "\n",
        "S.remove('i')\n",
        "print(S)           # {'u', 'e', 'a', 'o'}\n",
        "\n",
        "print('------')\n",
        "\n",
        "c = S.copy()\n",
        "print(c)          # {'a', 'o', 'e', 'u'}\n",
        "\n",
        "print('------')\n",
        "\n",
        "S.clear()\n",
        "print(S)                   # set()\n",
        "print(len(S))              # 0\n",
        "\n",
        "print('------')\n",
        "\n",
        "X = {1, 2, 3 ,4 , 5}\n",
        "Y = {2, 4}\n",
        "\n",
        "print(X.intersection(Y))    # {2, 4}\n",
        "print(X & Y)                # {2, 4}\n",
        "\n",
        "print('------')\n",
        "\n",
        "print(X.union(Y))           # {1, 2, 3, 4 , 5}\n",
        "print(X | Y)                # {1, 2, 3, 4 , 5}\n",
        "\n",
        "print('------')\n",
        "\n",
        "print(X.difference(Y))      # {1, 3, 5}\n",
        "print(X-Y)                  # {1, 3, 5}\n",
        "\n",
        "print('------')\n",
        "\n",
        "X = {'A', 'M'}\n",
        "Y = {'A','C','M','F'}\n",
        "print(X.issubset(Y))       # True"
      ],
      "metadata": {
        "id": "FiNICG_UEKpX"
      },
      "execution_count": null,
      "outputs": []
    },
    {
      "cell_type": "markdown",
      "source": [
        "## Function"
      ],
      "metadata": {
        "id": "g1-gxrDqF6OE"
      }
    },
    {
      "cell_type": "code",
      "source": [
        "def f():\n",
        "    print('Arthur e Legal')\n",
        "\n",
        "f()"
      ],
      "metadata": {
        "id": "JUnuc_uNJFLh"
      },
      "execution_count": null,
      "outputs": []
    },
    {
      "cell_type": "code",
      "source": [
        "def g():\n",
        "    return 'Arthur e Legal'\n",
        "\n",
        "print(g())"
      ],
      "metadata": {
        "id": "yzs9HpZgJG0t"
      },
      "execution_count": null,
      "outputs": []
    },
    {
      "cell_type": "code",
      "source": [
        "def h(p):\n",
        "    print(p)\n",
        "\n",
        "h('Arthur e Legal')"
      ],
      "metadata": {
        "id": "lphBQCVkJJAc"
      },
      "execution_count": null,
      "outputs": []
    },
    {
      "cell_type": "code",
      "source": [
        "def f(x,y):\n",
        "    if x > y : #?\n",
        "        return x\n",
        "    return y\n",
        "\n",
        "def g(x,y,z):\n",
        "    return f(x , f(y,z)) #f(3 , f(8,2))\n",
        "\n",
        "print(g(3,8,2))  # ?"
      ],
      "metadata": {
        "id": "lK96aYocJLjk"
      },
      "execution_count": null,
      "outputs": []
    },
    {
      "cell_type": "code",
      "source": [
        "x = 7\n",
        "def func():\n",
        "    global x\n",
        "    print(x)   # 7\n",
        "    x = 3\n",
        "    print(x)   # 3\n",
        "\n",
        "func()\n",
        "print(x)       # 3"
      ],
      "metadata": {
        "colab": {
          "base_uri": "https://localhost:8080/"
        },
        "id": "RdXmycn4JjZM",
        "outputId": "4c70dc35-417f-4b88-ca09-a139092e6d3d"
      },
      "execution_count": null,
      "outputs": [
        {
          "output_type": "stream",
          "name": "stdout",
          "text": [
            "7\n",
            "3\n",
            "3\n"
          ]
        }
      ]
    },
    {
      "cell_type": "code",
      "source": [
        "def f(a, b):\n",
        "    a *= 2\n",
        "    b += 3\n",
        "    return a, b\n",
        "\n",
        "x = 4\n",
        "y = 6\n",
        "m, n = f(x, y)\n",
        "print(m)        # 8\n",
        "print(n)        # 9"
      ],
      "metadata": {
        "colab": {
          "base_uri": "https://localhost:8080/"
        },
        "id": "l05wiR6pJtIs",
        "outputId": "affabb6d-85f1-4b91-85d1-92554d0dfb9a"
      },
      "execution_count": null,
      "outputs": [
        {
          "output_type": "stream",
          "name": "stdout",
          "text": [
            "8\n",
            "9\n"
          ]
        }
      ]
    },
    {
      "cell_type": "code",
      "source": [
        "def f(lst :list):\n",
        "    lst[0] *= 2\n",
        "    lst[1] /= 3\n",
        "\n",
        "a = [4, 9]\n",
        "f(a)\n",
        "print(a[0])    # 8\n",
        "print(a[1])    # 3.0"
      ],
      "metadata": {
        "id": "hy4Fiqq3KUeU"
      },
      "execution_count": null,
      "outputs": []
    },
    {
      "cell_type": "code",
      "source": [
        "def h(my_dict):\n",
        "    my_dict['x'] *= 2\n",
        "    my_dict['y'] /= 3\n",
        "\n",
        "d = {'x':4  , 'y':9}\n",
        "h(d)\n",
        "print(d['x'])    # 8\n",
        "print(d['y'])    # 3.0\n",
        "print(d)"
      ],
      "metadata": {
        "colab": {
          "base_uri": "https://localhost:8080/"
        },
        "id": "_zmHOE7fKjik",
        "outputId": "27624915-4dfa-41ca-962c-4f6b8a05130f"
      },
      "execution_count": null,
      "outputs": [
        {
          "output_type": "stream",
          "name": "stdout",
          "text": [
            "8\n",
            "3.0\n",
            "{'x': 8, 'y': 3.0}\n"
          ]
        }
      ]
    },
    {
      "cell_type": "code",
      "source": [
        "def test(a , b=7):\n",
        "    print(a,b)\n",
        "\n",
        "test(5)\n",
        "test(1, b=4)\n",
        "test(1, 3)"
      ],
      "metadata": {
        "colab": {
          "base_uri": "https://localhost:8080/"
        },
        "id": "LUBnZ3sIRV92",
        "outputId": "8c05a42b-60db-4b62-9921-94b259910b38"
      },
      "execution_count": null,
      "outputs": [
        {
          "output_type": "stream",
          "name": "stdout",
          "text": [
            "5 7\n",
            "1 4\n",
            "1 3\n"
          ]
        }
      ]
    },
    {
      "cell_type": "code",
      "source": [
        "def test(x, y):\n",
        "    print(x, y)\n",
        "\n",
        "test(5, 2)           # 5 2\n",
        "test(x = 5 , y = 2)  # 5 2\n",
        "test(y = 2 , x = 5)  # 5 2\n",
        "test(5 , y = 2)      # 5 2"
      ],
      "metadata": {
        "colab": {
          "base_uri": "https://localhost:8080/"
        },
        "id": "tSNg6CORKllI",
        "outputId": "b597734f-adba-4875-fb93-8691cd768fd4"
      },
      "execution_count": null,
      "outputs": [
        {
          "output_type": "stream",
          "name": "stdout",
          "text": [
            "5 2\n",
            "5 2\n",
            "5 2\n",
            "5 2\n"
          ]
        }
      ]
    },
    {
      "cell_type": "markdown",
      "source": [
        "## keyword only argument"
      ],
      "metadata": {
        "id": "NRxNcCbhcNEP"
      }
    },
    {
      "cell_type": "code",
      "source": [
        "def f(*, x=8):\n",
        "    print(x)\n",
        "\n",
        "f()        # 8\n",
        "f(x = 2)   # 2\n",
        "#f(3)     #  Erro : f() takes 0 positional arguments but 1 was given"
      ],
      "metadata": {
        "id": "x-Jne4Q8L2kF",
        "colab": {
          "base_uri": "https://localhost:8080/"
        },
        "outputId": "f94f96f1-427f-44b0-a024-107779f2f67d"
      },
      "execution_count": null,
      "outputs": [
        {
          "output_type": "stream",
          "name": "stdout",
          "text": [
            "8\n",
            "2\n"
          ]
        }
      ]
    },
    {
      "cell_type": "code",
      "source": [
        "# Defina uma função com um argumento exclusivo de palavra-chave 'x'\n",
        "def f(*, x=8):\n",
        "    print(x)\n",
        "\n",
        "# Chame a função com o valor padrão de 'x' (8)\n",
        "f()        # 8\n",
        "\n",
        "# Chame a função com um valor específico para 'x' (2)\n",
        "f(x=2)     # 2\n",
        "\n",
        "# Descomentar a linha abaixo resultaria em um erro\n",
        "# porque 'f' só pode ser chamada com um argumento de palavra-chave para 'x'\n",
        "\n",
        "# f(3)     # Erro: f() aceita 0 argumentos posicionais, mas foi fornecido 1 ((takes 0 positional arguments but 1 was given))\n"
      ],
      "metadata": {
        "id": "rRapwg97MM7e"
      },
      "execution_count": null,
      "outputs": []
    },
    {
      "cell_type": "markdown",
      "source": [
        "## var arguments"
      ],
      "metadata": {
        "id": "NYKjwLA7cROv"
      }
    },
    {
      "cell_type": "code",
      "source": [
        "def add_more(a, b, *c):\n",
        "    print(a + b + sum(c))\n",
        "\n",
        "add_more(5, 2, 7 , 8 , 12)   # c = 7,8,12,.....\n",
        "add_more(2, 6)               # 8"
      ],
      "metadata": {
        "id": "xJ0ZyQP2MmtQ"
      },
      "execution_count": null,
      "outputs": []
    },
    {
      "cell_type": "code",
      "source": [
        "def f(*x , y='\\t'):\n",
        "    return y.join(x)\n",
        "\n",
        "print(f('Arthur', 'Kaynan'))\n",
        "print(f('Giovanni', 'Felipe', 'Guilherme','Claudio','Lucas', y='/'))\n",
        "print(f('Giovana', 'Gabriel', 'Murilo', y=' ; '))"
      ],
      "metadata": {
        "colab": {
          "base_uri": "https://localhost:8080/"
        },
        "id": "ywb7daTFP70-",
        "outputId": "d283d4c9-d82f-491b-8640-1cec07c54e7e"
      },
      "execution_count": null,
      "outputs": [
        {
          "output_type": "stream",
          "name": "stdout",
          "text": [
            "Arthur\tKaynan\n",
            "Giovanni/Felipe/Guilherme/Claudio/Lucas\n",
            "Giovana ; Kaynan ; Murilo\n"
          ]
        }
      ]
    },
    {
      "cell_type": "code",
      "source": [
        "def test(a ,*, b=7, c=9):\n",
        "    print(a,b,c)\n",
        "\n",
        "test(5)         # 5  7  9\n",
        "test(1, b=4)    # 1  4  9\n",
        "\n",
        "# test(1, b=2, 6)    #  Erro: positional argument follows keyword argument\n",
        "\n",
        "# test(1, 3, c=4)\n",
        "'''\n",
        "test() takes 1 positional argument but 2 positional arguments\n",
        "(and 1 keyword-only argument) were given\n",
        "'''"
      ],
      "metadata": {
        "id": "aY2dY6-OR47N"
      },
      "execution_count": null,
      "outputs": []
    },
    {
      "cell_type": "code",
      "source": [
        "def f(a, b , *c , **d):\n",
        "    print(a)  # 3\n",
        "    print(b)  # 4\n",
        "    print(c)  # (7, 1, 6)\n",
        "    print(d)  # {'x': 5, 'y': 7, 'z': 9}\n",
        "\n",
        "f(3, 4, 7, 1, 6, x=5, y=7, z=9)"
      ],
      "metadata": {
        "id": "2kE80sawSN8O"
      },
      "execution_count": null,
      "outputs": []
    },
    {
      "cell_type": "code",
      "source": [
        "#kaynan\n",
        "def count_char(frase):\n",
        "    d = {}\n",
        "    for i in frase:\n",
        "        if i in d.keys():\n",
        "            d[i] +=1\n",
        "        else:\n",
        "            d[i] = 1\n",
        "    return d\n",
        "\n",
        "print(count_char('abbcfab'))       # {'a': 2, 'b': 3, 'c': 1, 'f': 1}"
      ],
      "metadata": {
        "colab": {
          "base_uri": "https://localhost:8080/"
        },
        "id": "_Sl08Z0LEVu3",
        "outputId": "e5cb95c6-8e9e-43f3-ffab-773c97b25ce2"
      },
      "execution_count": null,
      "outputs": [
        {
          "output_type": "stream",
          "name": "stdout",
          "text": [
            "{'a': 2, 'b': 3, 'c': 1, 'f': 1}\n"
          ]
        }
      ]
    },
    {
      "cell_type": "markdown",
      "source": [
        "<h2><b>\n",
        "<pre>\n",
        "\n",
        "    switch(a){\n",
        "      case 1: return 'one' ;break;\n",
        "      case 2: return 'two' ;break;\n",
        "      defualt :return 'nothing';\n",
        "    }\n",
        "\n",
        "</pre>"
      ],
      "metadata": {
        "id": "xfuYkMlHEv8y"
      }
    },
    {
      "cell_type": "code",
      "source": [
        "def switch(a):\n",
        "    d = {\n",
        "        1:'Um' ,                #case 1\n",
        "        2:'Dois'                #case 2\n",
        "        }\n",
        "    return d.get(a,'Nenhuma')   #Defult\n",
        "\n",
        "print(switch(1))  # Um\n",
        "print(switch(2))  # Dois\n",
        "print(switch(3))  # Nenhuma"
      ],
      "metadata": {
        "colab": {
          "base_uri": "https://localhost:8080/"
        },
        "id": "E3KgUhIVcqMC",
        "outputId": "c6d38eb7-330c-4a66-c3c1-a89ba1d4f2ef"
      },
      "execution_count": null,
      "outputs": [
        {
          "output_type": "stream",
          "name": "stdout",
          "text": [
            "Um\n",
            "Dois\n",
            "Nenhuma\n"
          ]
        }
      ]
    },
    {
      "cell_type": "code",
      "source": [
        "def switch(a):\n",
        "    d = {1:'Um' , 2 : 'Dois'}\n",
        "    return d.get(a,'Nenhuma')\n",
        "\n",
        "print(switch(1))  # Um\n",
        "print(switch(2))  # Dois\n",
        "print(switch(3))  # Nenhuma\n"
      ],
      "metadata": {
        "id": "6vqgWh6vTTkE"
      },
      "execution_count": null,
      "outputs": []
    },
    {
      "cell_type": "code",
      "source": [
        "#Tenta tirar os nmeros iguais\n",
        "lista1 = [1, 2, 3, 1, 4, 2]"
      ],
      "metadata": {
        "id": "vtIukTRDWINW"
      },
      "execution_count": null,
      "outputs": []
    },
    {
      "cell_type": "code",
      "source": [
        "def unique_list(lst ):\n",
        "    novaLista = []\n",
        "    for elemenoDaLista1 in lst:\n",
        "        if elemenoDaLista1 not in novaLista:\n",
        "          novaLista.append(elemenoDaLista1)\n",
        "    return novaLista\n",
        "\n",
        "print(unique_list(lista1))"
      ],
      "metadata": {
        "colab": {
          "base_uri": "https://localhost:8080/"
        },
        "id": "mCG1f2bvVVxL",
        "outputId": "0a168982-1e83-4eca-90ce-bd9bbee28a41"
      },
      "execution_count": null,
      "outputs": [
        {
          "output_type": "stream",
          "name": "stdout",
          "text": [
            "[1, 2, 3, 4]\n"
          ]
        }
      ]
    },
    {
      "cell_type": "code",
      "source": [
        "def unique_list_2(lst):\n",
        "   return list(set(lst))\n",
        "\n",
        "print(unique_list_2(lista1))"
      ],
      "metadata": {
        "colab": {
          "base_uri": "https://localhost:8080/"
        },
        "id": "rT76R9v6WCXt",
        "outputId": "61b9c967-e8f3-46c9-8836-e6b7c9e3425c"
      },
      "execution_count": null,
      "outputs": [
        {
          "output_type": "stream",
          "name": "stdout",
          "text": [
            "[1, 2, 3, 4]\n"
          ]
        }
      ]
    },
    {
      "cell_type": "markdown",
      "source": [
        "## PEP 484"
      ],
      "metadata": {
        "id": "9tB-P5ChWlmG"
      }
    },
    {
      "cell_type": "code",
      "source": [
        "def greeting(name: str) -> str:\n",
        "    return 'Hello ' + name\n",
        "\n",
        "print(greeting('Arash'))"
      ],
      "metadata": {
        "id": "lbMLP-qoWoa0"
      },
      "execution_count": null,
      "outputs": []
    },
    {
      "cell_type": "code",
      "source": [
        "def add(x:int, y:int) -> int:\n",
        "    '''\n",
        "     Suma Dois Numeros\n",
        "    '''\n",
        "    print(x+y)\n",
        "\n",
        "add(2, 3)  # 5\n",
        "\n",
        "print(add.__annotations__)\n",
        "# {'x': <class 'int'>, 'y': <class 'int'>, 'return': <class 'int'>}\n",
        "\n",
        "print(add.__doc__)   # Mostra a Documentacão"
      ],
      "metadata": {
        "colab": {
          "base_uri": "https://localhost:8080/"
        },
        "id": "xRHwzkqtFGG3",
        "outputId": "1dfb33c0-1a6a-4870-f9c9-f2d3c6151986"
      },
      "execution_count": null,
      "outputs": [
        {
          "output_type": "stream",
          "name": "stdout",
          "text": [
            "5\n",
            "{'x': <class 'int'>, 'y': <class 'int'>, 'return': <class 'int'>}\n",
            "\n",
            "     Suma Dois Numeros\n",
            "    \n"
          ]
        }
      ]
    },
    {
      "cell_type": "markdown",
      "source": [
        "<h2><b>\n",
        "<pre>\n",
        "    recursive\n",
        "</pre>"
      ],
      "metadata": {
        "id": "zLhpCJ0wE5gE"
      }
    },
    {
      "cell_type": "code",
      "source": [
        "'''\n",
        "iterative:\n",
        "            n! = 1*2*3*...*n\n",
        "\n",
        "recursive:\n",
        "            n! = n * (n-1)!\n",
        "            1! = 1\n",
        "\n",
        "4! = 4 * 3! = 4 * 6 = 24\n",
        "3! = 3 * 2! = 3 * 2 = 6\n",
        "2! = 2 * 1! = 2 * 1 = 2\n",
        "1! = 1\n",
        "\n",
        "'''\n",
        "\n",
        "def fact(n):\n",
        "    if n == 1:\n",
        "        return 1\n",
        "    else:\n",
        "        return n * fact(n-1)\n",
        "\n",
        "print(fact(4))     # 24"
      ],
      "metadata": {
        "id": "lEqHJeVpXhxP"
      },
      "execution_count": null,
      "outputs": []
    },
    {
      "cell_type": "code",
      "source": [
        "def f(n,base):\n",
        "     s = '0123456789ABCDEF'\n",
        "     if n < base:\n",
        "         return s[n]\n",
        "     else:\n",
        "         return f(n//base , base) + s[ n % base]\n",
        "\n",
        "print(f(25,16))       # 19\n",
        "\n",
        "'''\n",
        "f(25,16) = f(1,16) + s[9] = 1 + 9 = 19\n",
        "f(1,16)  = s[1]  = 1\n",
        "\n",
        "'''\n",
        "\n",
        "print(f(8,2))         # 1000"
      ],
      "metadata": {
        "id": "IoKV5YnOYNCp"
      },
      "execution_count": null,
      "outputs": []
    },
    {
      "cell_type": "code",
      "source": [
        "Lista = [2, 4, 7, 12, 19, 25, 38]\n",
        "len(Lista)\n",
        "\n",
        "#binary"
      ],
      "metadata": {
        "colab": {
          "base_uri": "https://localhost:8080/"
        },
        "id": "BW5YlvQeY1ks",
        "outputId": "f1d94ff0-e7cf-48f6-fa94-ceb59683bac1"
      },
      "execution_count": null,
      "outputs": [
        {
          "output_type": "execute_result",
          "data": {
            "text/plain": [
              "7"
            ]
          },
          "metadata": {},
          "execution_count": 25
        }
      ]
    },
    {
      "cell_type": "markdown",
      "source": [
        "<h1><b>\n",
        "<pre>\n",
        "  lambda\n",
        "</pre>"
      ],
      "metadata": {
        "id": "ABPprMBYE5qU"
      }
    },
    {
      "cell_type": "code",
      "source": [
        "add = lambda x, y : x * y\n",
        "print(add(2, 3))   # 6"
      ],
      "metadata": {
        "id": "jZiF-UIBbHZN"
      },
      "execution_count": null,
      "outputs": []
    },
    {
      "cell_type": "code",
      "source": [
        "f = lambda x, y : (x + y , x - y)\n",
        "print(f(8, 1))                     # (9, 7)\n"
      ],
      "metadata": {
        "id": "LjRkL-d7cXHj"
      },
      "execution_count": null,
      "outputs": []
    },
    {
      "cell_type": "code",
      "source": [
        "f = lambda x, y : (x + y , x - y)\n",
        "a,b= f(8,1)\n",
        "print(a,b)\n",
        "print(a+2)"
      ],
      "metadata": {
        "colab": {
          "base_uri": "https://localhost:8080/"
        },
        "id": "KzSxoDDlay58",
        "outputId": "848b32ff-1a23-46cf-b1b6-d2b8551ae9b1"
      },
      "execution_count": null,
      "outputs": [
        {
          "output_type": "stream",
          "name": "stdout",
          "text": [
            "9 7\n",
            "11\n"
          ]
        }
      ]
    },
    {
      "cell_type": "markdown",
      "source": [
        "## [***map***](https://www.hashtagtreinamentos.com/map-no-python)\n"
      ],
      "metadata": {
        "id": "0RQgc0M7cbpU"
      }
    },
    {
      "cell_type": "code",
      "source": [
        "lst = ['ARASH','FELIPE']"
      ],
      "metadata": {
        "id": "T9RjZpzWcqm9"
      },
      "execution_count": null,
      "outputs": []
    },
    {
      "cell_type": "code",
      "source": [
        "lst2=list()\n",
        "for i in lst:\n",
        "  x = i.lower()\n",
        "  lst2.append(x)\n",
        "print(lst2)"
      ],
      "metadata": {
        "colab": {
          "base_uri": "https://localhost:8080/"
        },
        "id": "2irlThVuczx4",
        "outputId": "f66a81ea-9920-454d-fee3-5c1a2e9e9421"
      },
      "execution_count": null,
      "outputs": [
        {
          "output_type": "stream",
          "name": "stdout",
          "text": [
            "['arash', 'felipe']\n"
          ]
        }
      ]
    },
    {
      "cell_type": "code",
      "source": [
        "print(list(map(str.lower, lst)))     #['arash', 'felipe']"
      ],
      "metadata": {
        "id": "3nQSYLPIcpzd"
      },
      "execution_count": null,
      "outputs": []
    },
    {
      "cell_type": "markdown",
      "source": [
        "\n",
        "*   Exemplo 2\n",
        "---"
      ],
      "metadata": {
        "id": "m5dcbU_Bgjll"
      }
    },
    {
      "cell_type": "code",
      "source": [
        "precos = [1000, 1500, 1250, 2500]"
      ],
      "metadata": {
        "id": "9qHFJiqbgg0U"
      },
      "execution_count": null,
      "outputs": []
    },
    {
      "cell_type": "code",
      "source": [
        "\n",
        "\n",
        "def adicionar_imposto(preco):\n",
        "\treturn preco * 1.1\n",
        "\n",
        "\n",
        "precos_com_imposto = []\n",
        "for preco in precos:\n",
        "\tprecos_com_imposto.append(adicionar_imposto(preco))\n",
        "\n",
        "print(precos_com_imposto)"
      ],
      "metadata": {
        "id": "h4fdBGtwgbx8"
      },
      "execution_count": null,
      "outputs": []
    },
    {
      "cell_type": "code",
      "source": [
        "precos_com_imposto2 = map(adicionar_imposto, precos)\n",
        "\n",
        "print(precos_com_imposto2)"
      ],
      "metadata": {
        "id": "Jz22VmXGgdjo"
      },
      "execution_count": null,
      "outputs": []
    },
    {
      "cell_type": "code",
      "source": [
        "a = ['Kaynan', 'Arash']\n",
        "b = [20, 16]\n",
        "\n",
        "print(list(zip(a,b)))                # [('Kaynan', 20), ('Arash', 16)]\n",
        "#ou\n",
        "print(list(map(lambda x, y : (x,y) , a , b)))"
      ],
      "metadata": {
        "id": "ufS-bZQlgv7u"
      },
      "execution_count": null,
      "outputs": []
    },
    {
      "cell_type": "code",
      "source": [
        "a = [1, 3]\n",
        "b = [2, 4]\n",
        "print(list(map(lambda x, y :x+y, a, b)))   # [3, 7]\n"
      ],
      "metadata": {
        "id": "sb-Cm70Ug_fg"
      },
      "execution_count": null,
      "outputs": []
    },
    {
      "cell_type": "code",
      "source": [
        "a = [16, 7, 14, 6]\n",
        "print(list(map(lambda x : x < 10 , a)))    # [False, True, False, True]"
      ],
      "metadata": {
        "id": "c1gNga2GhAx_"
      },
      "execution_count": null,
      "outputs": []
    },
    {
      "cell_type": "markdown",
      "source": [
        "<h1><b>\n",
        "<pre>\n",
        "  filter\n",
        "</pre>"
      ],
      "metadata": {
        "id": "pjlHUzc5cb3S"
      }
    },
    {
      "cell_type": "code",
      "source": [
        "a = [16, 7, 14, 6]\n",
        "print(list(filter(lambda x : x < 10 , a)))  # [7, 6]"
      ],
      "metadata": {
        "id": "N-qwnNCkhTIn"
      },
      "execution_count": null,
      "outputs": []
    },
    {
      "cell_type": "code",
      "source": [
        "a = [12, 17, '', 6,'' , 18]\n",
        "print(list(filter(None,a)))       # [12, 17, 6, 18]"
      ],
      "metadata": {
        "id": "iuQ4m3hGg-Qp"
      },
      "execution_count": null,
      "outputs": []
    },
    {
      "cell_type": "markdown",
      "source": [
        "<h1><b>\n",
        "<pre>\n",
        "  reduce\n",
        "</pre>"
      ],
      "metadata": {
        "id": "Z1AqbsaVccFS"
      }
    },
    {
      "cell_type": "code",
      "source": [
        "from functools import reduce\n",
        "\n",
        "lis = [12, 17, 6, 18]\n",
        "add = lambda a,b : a+b\n",
        "\n",
        "print(reduce(add, lis))        # 53   : (((12+17)+6)+18)"
      ],
      "metadata": {
        "id": "-W41L8eQhnat"
      },
      "execution_count": null,
      "outputs": []
    },
    {
      "cell_type": "markdown",
      "source": [
        "<h1><b>\n",
        "<pre>\n",
        "  sorted\n",
        "</pre>"
      ],
      "metadata": {
        "id": "4VCmV_mZhkVa"
      }
    },
    {
      "cell_type": "code",
      "source": [
        "lst = [12, 17, 6, 18]\n",
        "print(sorted(lst))             # [6, 12, 17, 18]"
      ],
      "metadata": {
        "colab": {
          "base_uri": "https://localhost:8080/"
        },
        "id": "JPt6ogk2h26o",
        "outputId": "47b7c2e2-71b7-47c3-a0e3-750ce8d4d599"
      },
      "execution_count": null,
      "outputs": [
        {
          "output_type": "stream",
          "name": "stdout",
          "text": [
            "[6, 12, 17, 18]\n"
          ]
        }
      ]
    },
    {
      "cell_type": "code",
      "source": [
        "lst"
      ],
      "metadata": {
        "colab": {
          "base_uri": "https://localhost:8080/"
        },
        "id": "24T7m2thh82i",
        "outputId": "24f6eceb-61f9-4928-9251-11f851f15c67"
      },
      "execution_count": null,
      "outputs": [
        {
          "output_type": "execute_result",
          "data": {
            "text/plain": [
              "[6, 12, 17, 18]"
            ]
          },
          "metadata": {},
          "execution_count": 54
        }
      ]
    },
    {
      "cell_type": "code",
      "source": [
        "lst.sort()"
      ],
      "metadata": {
        "id": "uDTAqxgGh-wz"
      },
      "execution_count": null,
      "outputs": []
    },
    {
      "cell_type": "code",
      "source": [
        "d = {'ali' : 12, 'sara' : 17, 'taha' : 6 , 'mahsa' : 18}\n",
        "print(sorted(d.items() , key = lambda x : x[1]))\n",
        "\n",
        "# [('taha', 6), ('ali', 12), ('sara', 17), ('mahsa', 18)]\n"
      ],
      "metadata": {
        "id": "jl4JK1PSFnGx"
      },
      "execution_count": null,
      "outputs": []
    },
    {
      "cell_type": "markdown",
      "source": [
        "<b>\n",
        "<pre>\n",
        "\n",
        "\n",
        "</pre>"
      ],
      "metadata": {
        "id": "zHmB6gfuEz37"
      }
    }
  ]
}
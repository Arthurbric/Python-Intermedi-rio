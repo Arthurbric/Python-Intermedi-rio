{
  "cells": [
    {
      "cell_type": "markdown",
      "source": [
        "# Monitores:\n",
        "\n",
        "\n",
        "1.   [Arthur Arash](https://www.linkedin.com/in/arthur-arash-briceno-heidari/)\n",
        "2.   [Kaynan Souza](https://www.linkedin.com/in/kaynan-macedo-de-souza-9a3260231/)\n",
        "\n",
        "\n",
        "\n",
        "\n"
      ],
      "metadata": {
        "id": "kyQ8Z4FTVEzZ"
      }
    },
    {
      "cell_type": "code",
      "source": [
        "felipe = []\n",
        "#felipe = list()\n"
      ],
      "metadata": {
        "id": "6Mt1R3iCPmO4"
      },
      "execution_count": null,
      "outputs": []
    },
    {
      "cell_type": "code",
      "source": [
        "type(felipe)"
      ],
      "metadata": {
        "colab": {
          "base_uri": "https://localhost:8080/"
        },
        "id": "Y9HaQ6dvP0j2",
        "outputId": "3fcbb4fe-3c14-46e2-9f8e-8a02268e0ea1"
      },
      "execution_count": null,
      "outputs": [
        {
          "output_type": "execute_result",
          "data": {
            "text/plain": [
              "list"
            ]
          },
          "metadata": {},
          "execution_count": 4
        }
      ]
    },
    {
      "cell_type": "markdown",
      "metadata": {
        "id": "enDEuFpwPEeY"
      },
      "source": [
        "# list"
      ]
    },
    {
      "cell_type": "code",
      "execution_count": null,
      "metadata": {
        "id": "5Pp9ynsDPEec"
      },
      "outputs": [],
      "source": [
        "list1 = [1,2,3,4,5]"
      ]
    },
    {
      "cell_type": "code",
      "execution_count": null,
      "metadata": {
        "colab": {
          "base_uri": "https://localhost:8080/"
        },
        "id": "VzX0-ciVPEee",
        "outputId": "6c15c2a8-a0af-4cbe-d0f4-e55c83de5ac1"
      },
      "outputs": [
        {
          "output_type": "execute_result",
          "data": {
            "text/plain": [
              "[1, 2, 3, 4, 5]"
            ]
          },
          "metadata": {},
          "execution_count": 6
        }
      ],
      "source": [
        "list1"
      ]
    },
    {
      "cell_type": "markdown",
      "source": [
        "# Lista\n",
        "## .append(<mark>ELEMENTO<mark>)"
      ],
      "metadata": {
        "id": "6tBs1PV1PN_Z"
      }
    },
    {
      "cell_type": "code",
      "execution_count": null,
      "metadata": {
        "id": "wkvDyT_cPEeg"
      },
      "outputs": [],
      "source": [
        "list2 = []\n",
        "for i in range(10):\n",
        "    list2.append(i)"
      ]
    },
    {
      "cell_type": "code",
      "execution_count": null,
      "metadata": {
        "colab": {
          "base_uri": "https://localhost:8080/"
        },
        "id": "iZ1sd6pDPEeh",
        "outputId": "8e4439b7-e1ff-486d-9f17-85f88f0e6317"
      },
      "outputs": [
        {
          "output_type": "execute_result",
          "data": {
            "text/plain": [
              "[0, 1, 2, 3, 4, 5, 6, 7, 8, 9]"
            ]
          },
          "metadata": {},
          "execution_count": 4
        }
      ],
      "source": [
        "list2"
      ]
    },
    {
      "cell_type": "markdown",
      "metadata": {
        "id": "WDn4-ZwePEeh"
      },
      "source": [
        "# list comprehension"
      ]
    },
    {
      "cell_type": "code",
      "source": [
        "list3_1 = []\n",
        "for i in range(10):\n",
        "  list3_1.append(str(i))"
      ],
      "metadata": {
        "id": "ytpbp-vIK8Ke"
      },
      "execution_count": null,
      "outputs": []
    },
    {
      "cell_type": "code",
      "source": [
        "list3_1"
      ],
      "metadata": {
        "colab": {
          "base_uri": "https://localhost:8080/"
        },
        "id": "rZFq8HcGLPOe",
        "outputId": "55ef0ff8-5dc5-4965-ad02-475af54fd687"
      },
      "execution_count": null,
      "outputs": [
        {
          "output_type": "execute_result",
          "data": {
            "text/plain": [
              "['0', '1', '2', '3', '4', '5', '6', '7', '8', '9']"
            ]
          },
          "metadata": {},
          "execution_count": 2
        }
      ]
    },
    {
      "cell_type": "markdown",
      "source": [
        "\n",
        "\n",
        "---\n",
        "\n"
      ],
      "metadata": {
        "id": "q_H8L9G4LY3J"
      }
    },
    {
      "cell_type": "code",
      "execution_count": null,
      "metadata": {
        "id": "N9ML4XLVPEei"
      },
      "outputs": [],
      "source": [
        "list3_2 = [str(i) for i in range(10)]   # list comprehension"
      ]
    },
    {
      "cell_type": "code",
      "execution_count": null,
      "metadata": {
        "colab": {
          "base_uri": "https://localhost:8080/"
        },
        "id": "q9CCK1QIPEej",
        "outputId": "5c80d36c-0feb-4944-9704-fa8fa1622b00"
      },
      "outputs": [
        {
          "output_type": "execute_result",
          "data": {
            "text/plain": [
              "['0', '1', '2', '3', '4', '5', '6', '7', '8', '9']"
            ]
          },
          "metadata": {},
          "execution_count": 4
        }
      ],
      "source": [
        "list3_2"
      ]
    },
    {
      "cell_type": "markdown",
      "source": [
        "\n",
        "\n",
        "---\n",
        "\n"
      ],
      "metadata": {
        "id": "MlPUlMJMLdQF"
      }
    },
    {
      "cell_type": "code",
      "source": [
        "list4_1 = []\n",
        "for i in range(0, 20, 5):\n",
        "  list4_1.append(i)"
      ],
      "metadata": {
        "id": "jRsykq43Led9"
      },
      "execution_count": null,
      "outputs": []
    },
    {
      "cell_type": "code",
      "source": [
        "list4_1"
      ],
      "metadata": {
        "colab": {
          "base_uri": "https://localhost:8080/"
        },
        "id": "sE-O2KxgLn3m",
        "outputId": "778fcb84-736b-455b-a8c9-f71dc716bb4c"
      },
      "execution_count": null,
      "outputs": [
        {
          "output_type": "execute_result",
          "data": {
            "text/plain": [
              "[0, 5, 10, 15]"
            ]
          },
          "metadata": {},
          "execution_count": 7
        }
      ]
    },
    {
      "cell_type": "code",
      "source": [],
      "metadata": {
        "id": "PO0xgDLeMYDF"
      },
      "execution_count": null,
      "outputs": []
    },
    {
      "cell_type": "markdown",
      "source": [
        "//em C99 (C)\n",
        "\n",
        "```\n",
        "#include <stdio.h>\n",
        "void main()\n",
        "{  \n",
        "(condição) ? <comandos>   :  <comandos>    ;\n",
        "}\n",
        "\n",
        "```\n"
      ],
      "metadata": {
        "id": "Lmgi-3YET3nE"
      }
    },
    {
      "cell_type": "markdown",
      "source": [
        "\n",
        "//em python\n",
        "```\n",
        "< comandos do if > if < condição > else  < comandos do else >\n",
        "```\n",
        "\n"
      ],
      "metadata": {
        "id": "rTj9pS8CUbKC"
      }
    },
    {
      "cell_type": "markdown",
      "source": [
        "\n",
        "\n",
        "---\n",
        "\n"
      ],
      "metadata": {
        "id": "WjzdVizNLv1X"
      }
    },
    {
      "cell_type": "code",
      "execution_count": null,
      "metadata": {
        "id": "zYKey18FPEej"
      },
      "outputs": [],
      "source": [
        "list4_2 = [i for i in range(0, 20, 5)]  # list comprehension"
      ]
    },
    {
      "cell_type": "code",
      "execution_count": null,
      "metadata": {
        "colab": {
          "base_uri": "https://localhost:8080/"
        },
        "id": "4veOUMj5PEek",
        "outputId": "fa91f502-b280-4bc7-bd7f-d254b3b3a108"
      },
      "outputs": [
        {
          "output_type": "execute_result",
          "data": {
            "text/plain": [
              "[0, 5, 10, 15]"
            ]
          },
          "metadata": {},
          "execution_count": 9
        }
      ],
      "source": [
        "list4_2"
      ]
    },
    {
      "cell_type": "code",
      "source": [
        "list5_1 =[]\n",
        "for i in range(10):\n",
        "  if i%2==0:\n",
        "    list5_1.append('a')\n",
        "  else :\n",
        "    list5_1.append('b')"
      ],
      "metadata": {
        "id": "pG5HpawLL7yi"
      },
      "execution_count": null,
      "outputs": []
    },
    {
      "cell_type": "code",
      "source": [
        "list5_1"
      ],
      "metadata": {
        "colab": {
          "base_uri": "https://localhost:8080/"
        },
        "id": "7rgmeq88MOWT",
        "outputId": "1ed2e65f-6d4e-4baa-acc2-d1babc3410f8"
      },
      "execution_count": null,
      "outputs": [
        {
          "output_type": "execute_result",
          "data": {
            "text/plain": [
              "['a', 'b', 'a', 'b', 'a', 'b', 'a', 'b', 'a', 'b']"
            ]
          },
          "metadata": {},
          "execution_count": 11
        }
      ]
    },
    {
      "cell_type": "code",
      "execution_count": null,
      "metadata": {
        "id": "dQJGxDs7PEel"
      },
      "outputs": [],
      "source": [
        "list5_2 = ['a' if i%2==0 else 'b' for i in range(10)]"
      ]
    },
    {
      "cell_type": "code",
      "execution_count": null,
      "metadata": {
        "colab": {
          "base_uri": "https://localhost:8080/"
        },
        "id": "S5ByIgrIPEel",
        "outputId": "d332e38e-0fb0-4b40-ec74-bcffb2c4b189"
      },
      "outputs": [
        {
          "output_type": "execute_result",
          "data": {
            "text/plain": [
              "['a', 'b', 'a', 'b', 'a', 'b', 'a', 'b', 'a', 'b']"
            ]
          },
          "metadata": {},
          "execution_count": 14
        }
      ],
      "source": [
        "list5_2"
      ]
    },
    {
      "cell_type": "code",
      "source": [
        "list3 = [i for i in range (0,21,5)]\n",
        "print(list3)\n",
        "list4 = ['a' if i%2==0 else 'b' for i in range (10)]\n",
        "print(list4)\n",
        "\n",
        "print(list4[2])\n",
        "print(type(list4[2]))"
      ],
      "metadata": {
        "colab": {
          "base_uri": "https://localhost:8080/"
        },
        "id": "_fjUi9SWPPky",
        "outputId": "19897de8-18ec-4ab4-85da-b41b527a72aa"
      },
      "execution_count": null,
      "outputs": [
        {
          "output_type": "stream",
          "name": "stdout",
          "text": [
            "[0, 5, 10, 15, 20]\n",
            "['a', 'b', 'a', 'b', 'a', 'b', 'a', 'b', 'a', 'b']\n",
            "a\n",
            "<class 'str'>\n"
          ]
        }
      ]
    },
    {
      "cell_type": "markdown",
      "metadata": {
        "id": "eJWm3YtbPEem"
      },
      "source": [
        "# list kinds"
      ]
    },
    {
      "cell_type": "code",
      "execution_count": null,
      "metadata": {
        "id": "jpYYLFMkPEem"
      },
      "outputs": [],
      "source": [
        "list6 = ['a', 'b', 'c', 'd']"
      ]
    },
    {
      "cell_type": "code",
      "execution_count": null,
      "metadata": {
        "colab": {
          "base_uri": "https://localhost:8080/"
        },
        "id": "wFnSpYzDPEen",
        "outputId": "9e1a6be2-9642-420e-b129-9555a7e60733"
      },
      "outputs": [
        {
          "output_type": "execute_result",
          "data": {
            "text/plain": [
              "['a', 'b', 'c', 'd']"
            ]
          },
          "metadata": {},
          "execution_count": 19
        }
      ],
      "source": [
        "list6"
      ]
    },
    {
      "cell_type": "code",
      "execution_count": null,
      "metadata": {
        "colab": {
          "base_uri": "https://localhost:8080/"
        },
        "id": "ncjuf9LzPEen",
        "outputId": "4e43e514-a2a3-4634-901c-9bb00482f23a"
      },
      "outputs": [
        {
          "output_type": "execute_result",
          "data": {
            "text/plain": [
              "str"
            ]
          },
          "metadata": {},
          "execution_count": 20
        }
      ],
      "source": [
        "type(list6[0])"
      ]
    },
    {
      "cell_type": "code",
      "execution_count": null,
      "metadata": {
        "id": "QQJUf1CuPEen"
      },
      "outputs": [],
      "source": [
        "list7 = [\"Arthur\", 'Vitor', \"Kaynan\", \"Felipe\"]"
      ]
    },
    {
      "cell_type": "code",
      "execution_count": null,
      "metadata": {
        "colab": {
          "base_uri": "https://localhost:8080/"
        },
        "id": "xEkcpH35PEen",
        "outputId": "2c44b44d-abbc-4236-83c6-008b93cd27bb"
      },
      "outputs": [
        {
          "output_type": "execute_result",
          "data": {
            "text/plain": [
              "['Arthur', 'Vitor', 'Kaynan', 'Felipe']"
            ]
          },
          "metadata": {},
          "execution_count": 6
        }
      ],
      "source": [
        "list7"
      ]
    },
    {
      "cell_type": "code",
      "execution_count": null,
      "metadata": {
        "colab": {
          "base_uri": "https://localhost:8080/"
        },
        "id": "VRwWgL_mPEeo",
        "outputId": "86828cc6-ff17-4542-b505-f2ae25bd4a64"
      },
      "outputs": [
        {
          "output_type": "execute_result",
          "data": {
            "text/plain": [
              "str"
            ]
          },
          "metadata": {},
          "execution_count": 7
        }
      ],
      "source": [
        "type(list7[2])"
      ]
    },
    {
      "cell_type": "markdown",
      "metadata": {
        "id": "H77asYLlPEeo"
      },
      "source": [
        "# list split"
      ]
    },
    {
      "cell_type": "code",
      "execution_count": null,
      "metadata": {
        "id": "WL0-dC4RPEeo"
      },
      "outputs": [],
      "source": [
        "sentence = \"This course is about Data!\""
      ]
    },
    {
      "cell_type": "code",
      "execution_count": null,
      "metadata": {
        "colab": {
          "base_uri": "https://localhost:8080/",
          "height": 35
        },
        "id": "oWDFamJhPEep",
        "outputId": "91c33928-e369-4bc5-cbf0-28a8a9c20505"
      },
      "outputs": [
        {
          "output_type": "execute_result",
          "data": {
            "text/plain": [
              "'This course is about Data!'"
            ],
            "application/vnd.google.colaboratory.intrinsic+json": {
              "type": "string"
            }
          },
          "metadata": {},
          "execution_count": 12
        }
      ],
      "source": [
        "sentence"
      ]
    },
    {
      "cell_type": "code",
      "execution_count": null,
      "metadata": {
        "colab": {
          "base_uri": "https://localhost:8080/"
        },
        "id": "ycUVDS7HPEep",
        "outputId": "a0d594f5-7adc-4d69-e24d-69ac36ef0807"
      },
      "outputs": [
        {
          "output_type": "execute_result",
          "data": {
            "text/plain": [
              "['This', 'course', 'is', 'about', 'Data!']"
            ]
          },
          "metadata": {},
          "execution_count": 13
        }
      ],
      "source": [
        "sentence.split()"
      ]
    },
    {
      "cell_type": "code",
      "source": [
        "Nova_Lista = sentence.split()"
      ],
      "metadata": {
        "id": "KjVX5R6vVpRF"
      },
      "execution_count": null,
      "outputs": []
    },
    {
      "cell_type": "code",
      "source": [
        "Nova_Lista"
      ],
      "metadata": {
        "colab": {
          "base_uri": "https://localhost:8080/"
        },
        "id": "FpvopkI3Vtjq",
        "outputId": "eb5b4af6-0375-4788-e532-8fabc4acbe33"
      },
      "execution_count": null,
      "outputs": [
        {
          "output_type": "execute_result",
          "data": {
            "text/plain": [
              "['This', 'course', 'is', 'about', 'Data!']"
            ]
          },
          "metadata": {},
          "execution_count": 15
        }
      ]
    },
    {
      "cell_type": "code",
      "execution_count": null,
      "metadata": {
        "scrolled": true,
        "colab": {
          "base_uri": "https://localhost:8080/"
        },
        "id": "V1gPhtUTPEeq",
        "outputId": "32c96a23-63d8-461e-af6a-db573958f7bb"
      },
      "outputs": [
        {
          "output_type": "execute_result",
          "data": {
            "text/plain": [
              "['T',\n",
              " 'h',\n",
              " 'i',\n",
              " 's',\n",
              " ' ',\n",
              " 'c',\n",
              " 'o',\n",
              " 'u',\n",
              " 'r',\n",
              " 's',\n",
              " 'e',\n",
              " ' ',\n",
              " 'i',\n",
              " 's',\n",
              " ' ',\n",
              " 'a',\n",
              " 'b',\n",
              " 'o',\n",
              " 'u',\n",
              " 't',\n",
              " ' ',\n",
              " 'D',\n",
              " 'a',\n",
              " 't',\n",
              " 'a',\n",
              " '!']"
            ]
          },
          "metadata": {},
          "execution_count": 16
        }
      ],
      "source": [
        "[char for char in sentence]"
      ]
    },
    {
      "cell_type": "code",
      "execution_count": null,
      "metadata": {
        "id": "jhN1vMvVPEeq"
      },
      "outputs": [],
      "source": [
        "sentence1 = \"Aula De Python de Dados do Arthur Vitor Kaynan\""
      ]
    },
    {
      "cell_type": "code",
      "execution_count": null,
      "metadata": {
        "colab": {
          "base_uri": "https://localhost:8080/"
        },
        "id": "c69ntSe0PEeq",
        "outputId": "b1c3f19b-f79b-4eba-e3a6-e5f459b0e17a"
      },
      "outputs": [
        {
          "output_type": "execute_result",
          "data": {
            "text/plain": [
              "['Aula', 'De', 'Python', 'de', 'Dados', 'do', 'Arthur', 'Vitor', 'Kaynan']"
            ]
          },
          "metadata": {},
          "execution_count": 18
        }
      ],
      "source": [
        "sentence1.split()"
      ]
    },
    {
      "cell_type": "code",
      "execution_count": null,
      "metadata": {
        "scrolled": true,
        "colab": {
          "base_uri": "https://localhost:8080/"
        },
        "id": "HoDF8Wo-PEeq",
        "outputId": "b990dafb-7112-42da-c13e-74d2457b93f7"
      },
      "outputs": [
        {
          "output_type": "execute_result",
          "data": {
            "text/plain": [
              "['A',\n",
              " 'u',\n",
              " 'l',\n",
              " 'a',\n",
              " ' ',\n",
              " 'D',\n",
              " 'e',\n",
              " ' ',\n",
              " 'P',\n",
              " 'y',\n",
              " 't',\n",
              " 'h',\n",
              " 'o',\n",
              " 'n',\n",
              " ' ',\n",
              " 'd',\n",
              " 'e',\n",
              " ' ',\n",
              " 'D',\n",
              " 'a',\n",
              " 'd',\n",
              " 'o',\n",
              " 's',\n",
              " ' ',\n",
              " 'd',\n",
              " 'o',\n",
              " ' ',\n",
              " 'A',\n",
              " 'r',\n",
              " 't',\n",
              " 'h',\n",
              " 'u',\n",
              " 'r',\n",
              " ' ',\n",
              " 'V',\n",
              " 'i',\n",
              " 't',\n",
              " 'o',\n",
              " 'r',\n",
              " ' ',\n",
              " 'K',\n",
              " 'a',\n",
              " 'y',\n",
              " 'n',\n",
              " 'a',\n",
              " 'n']"
            ]
          },
          "metadata": {},
          "execution_count": 19
        }
      ],
      "source": [
        "[char for char in sentence1]"
      ]
    },
    {
      "cell_type": "markdown",
      "metadata": {
        "id": "JiCyjO-PPEer"
      },
      "source": [
        "# count"
      ]
    },
    {
      "cell_type": "code",
      "execution_count": null,
      "metadata": {
        "id": "HLNTVOL_PEer"
      },
      "outputs": [],
      "source": [
        "temp_string = \"Aula De Dados\""
      ]
    },
    {
      "cell_type": "code",
      "execution_count": null,
      "metadata": {
        "id": "UcoU16shPEer"
      },
      "outputs": [],
      "source": [
        "sent1 = [char.lower() for char in temp_string]"
      ]
    },
    {
      "cell_type": "code",
      "execution_count": null,
      "metadata": {
        "colab": {
          "base_uri": "https://localhost:8080/"
        },
        "id": "tMCueT5pPEer",
        "outputId": "807a0c27-4ed1-48ec-bac0-8c2309e2e7be"
      },
      "outputs": [
        {
          "output_type": "execute_result",
          "data": {
            "text/plain": [
              "['a', 'u', 'l', 'a', ' ', 'd', 'e', ' ', 'd', 'a', 'd', 'o', 's']"
            ]
          },
          "metadata": {},
          "execution_count": 23
        }
      ],
      "source": [
        "sent1"
      ]
    },
    {
      "cell_type": "code",
      "execution_count": null,
      "metadata": {
        "colab": {
          "base_uri": "https://localhost:8080/"
        },
        "id": "LYXVIhCLPEer",
        "outputId": "55183691-0a3c-44b7-9097-41ceef4d448d"
      },
      "outputs": [
        {
          "output_type": "execute_result",
          "data": {
            "text/plain": [
              "3"
            ]
          },
          "metadata": {},
          "execution_count": 26
        }
      ],
      "source": [
        "sent1.count('a')"
      ]
    },
    {
      "cell_type": "code",
      "execution_count": null,
      "metadata": {
        "colab": {
          "base_uri": "https://localhost:8080/"
        },
        "id": "OwAgiZ8aPEer",
        "outputId": "ca3d48e5-d4f7-4efa-94e5-c7e5e8ba5bec"
      },
      "outputs": [
        {
          "output_type": "execute_result",
          "data": {
            "text/plain": [
              "3"
            ]
          },
          "metadata": {},
          "execution_count": 27
        }
      ],
      "source": [
        "sent1.count('D'.lower())"
      ]
    },
    {
      "cell_type": "code",
      "source": [
        "sent1.count('D' and 'd')"
      ],
      "metadata": {
        "colab": {
          "base_uri": "https://localhost:8080/"
        },
        "id": "T_I8tNfwW9sU",
        "outputId": "a120d3d6-156c-4eb0-f34b-3c47431eec84"
      },
      "execution_count": null,
      "outputs": [
        {
          "output_type": "execute_result",
          "data": {
            "text/plain": [
              "3"
            ]
          },
          "metadata": {},
          "execution_count": 24
        }
      ]
    },
    {
      "cell_type": "markdown",
      "metadata": {
        "id": "YKCVIrsvPEes"
      },
      "source": [
        "# index"
      ]
    },
    {
      "cell_type": "code",
      "execution_count": null,
      "metadata": {
        "colab": {
          "base_uri": "https://localhost:8080/"
        },
        "id": "O8sS6fPvPEes",
        "outputId": "a14916c6-90e4-45bc-b572-dcf9476182df"
      },
      "outputs": [
        {
          "output_type": "execute_result",
          "data": {
            "text/plain": [
              "2"
            ]
          },
          "metadata": {},
          "execution_count": 35
        }
      ],
      "source": [
        "sent1.index('l')"
      ]
    },
    {
      "cell_type": "code",
      "execution_count": null,
      "metadata": {
        "colab": {
          "base_uri": "https://localhost:8080/",
          "height": 36
        },
        "id": "f0vTgPd8PEes",
        "outputId": "f2e8b328-d522-499f-f0bb-11f3068e8fb6"
      },
      "outputs": [
        {
          "output_type": "execute_result",
          "data": {
            "text/plain": [
              "'D'"
            ],
            "application/vnd.google.colaboratory.intrinsic+json": {
              "type": "string"
            }
          },
          "metadata": {},
          "execution_count": 37
        }
      ],
      "source": [
        "sent1[5]"
      ]
    },
    {
      "cell_type": "markdown",
      "metadata": {
        "id": "S66MDB0tPEes"
      },
      "source": [
        "# extend"
      ]
    },
    {
      "cell_type": "code",
      "execution_count": null,
      "metadata": {
        "id": "o4IbWnfpPEes"
      },
      "outputs": [],
      "source": [
        "sent2 = [char for char in \"Esse é \"]"
      ]
    },
    {
      "cell_type": "code",
      "execution_count": null,
      "metadata": {
        "colab": {
          "base_uri": "https://localhost:8080/"
        },
        "id": "qM-mbkjMPEes",
        "outputId": "a536e5bb-5be5-4fd4-a682-b91c64f394ea"
      },
      "outputs": [
        {
          "output_type": "execute_result",
          "data": {
            "text/plain": [
              "['E', 's', 's', 'e', ' ', 'é', ' ']"
            ]
          },
          "metadata": {},
          "execution_count": 46
        }
      ],
      "source": [
        "sent2"
      ]
    },
    {
      "cell_type": "code",
      "execution_count": null,
      "metadata": {
        "colab": {
          "base_uri": "https://localhost:8080/"
        },
        "id": "vUFXnHXkPEex",
        "outputId": "7c16daa2-fdaa-44c1-e67d-f39034a74155"
      },
      "outputs": [
        {
          "output_type": "execute_result",
          "data": {
            "text/plain": [
              "['A', 'u', 'l', 'a', ' ', 'D', 'e', ' ', 'D', 'a', 'd', 'o', 's']"
            ]
          },
          "metadata": {},
          "execution_count": 47
        }
      ],
      "source": [
        "sent1"
      ]
    },
    {
      "cell_type": "code",
      "execution_count": null,
      "metadata": {
        "id": "O1xyu_kIPEex"
      },
      "outputs": [],
      "source": [
        "sent2.extend(sent1)"
      ]
    },
    {
      "cell_type": "code",
      "source": [
        "print(sent2)"
      ],
      "metadata": {
        "colab": {
          "base_uri": "https://localhost:8080/"
        },
        "id": "6_KBqsvXSkgD",
        "outputId": "1147de58-e4ee-4c24-ed75-80527180589c"
      },
      "execution_count": null,
      "outputs": [
        {
          "output_type": "stream",
          "name": "stdout",
          "text": [
            "['E', 's', 's', 'e', ' ', 'é', ' ', 'A', 'u', 'l', 'a', ' ', 'D', 'e', ' ', 'D', 'a', 'd', 'o', 's']\n"
          ]
        }
      ]
    },
    {
      "cell_type": "code",
      "execution_count": null,
      "metadata": {
        "scrolled": true,
        "colab": {
          "base_uri": "https://localhost:8080/"
        },
        "id": "tPsAuXUbPEex",
        "outputId": "079efbf6-6e36-46e9-d119-fa25545d5e44"
      },
      "outputs": [
        {
          "output_type": "execute_result",
          "data": {
            "text/plain": [
              "['E',\n",
              " 's',\n",
              " 's',\n",
              " 'e',\n",
              " ' ',\n",
              " 'é',\n",
              " ' ',\n",
              " 'A',\n",
              " 'u',\n",
              " 'l',\n",
              " 'a',\n",
              " ' ',\n",
              " 'D',\n",
              " 'e',\n",
              " ' ',\n",
              " 'D',\n",
              " 'a',\n",
              " 'd',\n",
              " 'o',\n",
              " 's']"
            ]
          },
          "metadata": {},
          "execution_count": 50
        }
      ],
      "source": [
        "sent2"
      ]
    },
    {
      "cell_type": "markdown",
      "metadata": {
        "id": "nktXZVuUPEex"
      },
      "source": [
        "# string & substring & join"
      ]
    },
    {
      "cell_type": "code",
      "execution_count": null,
      "metadata": {
        "colab": {
          "base_uri": "https://localhost:8080/",
          "height": 36
        },
        "id": "oEDglxwsPEex",
        "outputId": "f1dd5980-0997-4b2f-a88c-9aebe6420845"
      },
      "outputs": [
        {
          "output_type": "execute_result",
          "data": {
            "text/plain": [
              "'Esse é Aula De Dados do os alunos do CEUB!'"
            ],
            "application/vnd.google.colaboratory.intrinsic+json": {
              "type": "string"
            }
          },
          "metadata": {},
          "execution_count": 52
        }
      ],
      "source": [
        "''.join(sent2) + ' do os alunos do CEUB!'"
      ]
    },
    {
      "cell_type": "code",
      "execution_count": null,
      "metadata": {
        "id": "AQ_BZ1b-PEey"
      },
      "outputs": [],
      "source": [
        "sentence = \"Blue is my favorite color!\""
      ]
    },
    {
      "cell_type": "code",
      "execution_count": null,
      "metadata": {
        "colab": {
          "base_uri": "https://localhost:8080/",
          "height": 36
        },
        "id": "7wE_dRz_PEey",
        "outputId": "833aba54-8309-49d0-e933-4a90291d052b"
      },
      "outputs": [
        {
          "output_type": "execute_result",
          "data": {
            "text/plain": [
              "'Blue is my favorite color!'"
            ],
            "application/vnd.google.colaboratory.intrinsic+json": {
              "type": "string"
            }
          },
          "metadata": {},
          "execution_count": 56
        }
      ],
      "source": [
        "sentence"
      ]
    },
    {
      "cell_type": "code",
      "execution_count": null,
      "metadata": {
        "colab": {
          "base_uri": "https://localhost:8080/",
          "height": 36
        },
        "id": "0fnP897UPEey",
        "outputId": "3d1d6df7-2847-4f2b-d086-228de2d86bdd"
      },
      "outputs": [
        {
          "output_type": "execute_result",
          "data": {
            "text/plain": [
              "' is my favorit'"
            ],
            "application/vnd.google.colaboratory.intrinsic+json": {
              "type": "string"
            }
          },
          "metadata": {},
          "execution_count": 57
        }
      ],
      "source": [
        "sentence[4:18]"
      ]
    },
    {
      "cell_type": "code",
      "execution_count": null,
      "metadata": {
        "colab": {
          "base_uri": "https://localhost:8080/",
          "height": 36
        },
        "id": "EKJVCoyGPEey",
        "outputId": "9a78471b-959b-481a-ed5a-a0b8c099c47d"
      },
      "outputs": [
        {
          "output_type": "execute_result",
          "data": {
            "text/plain": [
              "' sm aoi'"
            ],
            "application/vnd.google.colaboratory.intrinsic+json": {
              "type": "string"
            }
          },
          "metadata": {},
          "execution_count": 58
        }
      ],
      "source": [
        "sentence[4:18:2]"
      ]
    },
    {
      "cell_type": "markdown",
      "metadata": {
        "id": "g-mmYGggPEez"
      },
      "source": [
        "# sublist"
      ]
    },
    {
      "cell_type": "code",
      "execution_count": null,
      "metadata": {
        "id": "NVpcxQLEPEez"
      },
      "outputs": [],
      "source": [
        "list9 = [char for char in sentence]"
      ]
    },
    {
      "cell_type": "code",
      "execution_count": null,
      "metadata": {
        "scrolled": true,
        "colab": {
          "base_uri": "https://localhost:8080/"
        },
        "id": "cbp9TYCzPEez",
        "outputId": "1a04aeee-98e5-41a0-ed69-f6e01e0c14fc"
      },
      "outputs": [
        {
          "output_type": "execute_result",
          "data": {
            "text/plain": [
              "['B',\n",
              " 'l',\n",
              " 'u',\n",
              " 'e',\n",
              " ' ',\n",
              " 'i',\n",
              " 's',\n",
              " ' ',\n",
              " 'm',\n",
              " 'y',\n",
              " ' ',\n",
              " 'f',\n",
              " 'a',\n",
              " 'v',\n",
              " 'o',\n",
              " 'r',\n",
              " 'i',\n",
              " 't',\n",
              " 'e',\n",
              " ' ',\n",
              " 'c',\n",
              " 'o',\n",
              " 'l',\n",
              " 'o',\n",
              " 'r',\n",
              " '!']"
            ]
          },
          "metadata": {},
          "execution_count": 61
        }
      ],
      "source": [
        "list9"
      ]
    },
    {
      "cell_type": "code",
      "execution_count": null,
      "metadata": {
        "scrolled": true,
        "colab": {
          "base_uri": "https://localhost:8080/"
        },
        "id": "VxWjxq7zPEez",
        "outputId": "0f9b62a3-e2c8-4ada-d1d0-63759ddb4e52"
      },
      "outputs": [
        {
          "output_type": "execute_result",
          "data": {
            "text/plain": [
              "['B',\n",
              " 'l',\n",
              " 'u',\n",
              " 'e',\n",
              " ' ',\n",
              " 'i',\n",
              " 's',\n",
              " ' ',\n",
              " 'm',\n",
              " 'y',\n",
              " ' ',\n",
              " 'f',\n",
              " 'a',\n",
              " 'v',\n",
              " 'o',\n",
              " 'r',\n",
              " 'i',\n",
              " 't',\n",
              " 'e']"
            ]
          },
          "metadata": {},
          "execution_count": 63
        }
      ],
      "source": [
        "list9[:19]"
      ]
    },
    {
      "cell_type": "code",
      "execution_count": null,
      "metadata": {
        "colab": {
          "base_uri": "https://localhost:8080/"
        },
        "id": "83bf0ni5PEe0",
        "outputId": "3602b0ba-49b4-45e3-8e93-9bb934ce1729"
      },
      "outputs": [
        {
          "output_type": "execute_result",
          "data": {
            "text/plain": [
              "[' ', 'i', 's', ' ', 'm', 'y', ' ', 'f', 'a', 'v', 'o', 'r', 'i', 't', 'e']"
            ]
          },
          "metadata": {},
          "execution_count": 66
        }
      ],
      "source": [
        "list9[4:19]"
      ]
    },
    {
      "cell_type": "code",
      "execution_count": null,
      "metadata": {
        "colab": {
          "base_uri": "https://localhost:8080/"
        },
        "id": "nKVf63_NPEe0",
        "outputId": "8e92a28b-9704-4d49-ab9b-54d0aa426b17"
      },
      "outputs": [
        {
          "output_type": "execute_result",
          "data": {
            "text/plain": [
              "[' ', 's', 'm', ' ', 'a', 'o', 'i']"
            ]
          },
          "metadata": {},
          "execution_count": 65
        }
      ],
      "source": [
        "list9[4:19:2]"
      ]
    },
    {
      "cell_type": "code",
      "execution_count": null,
      "metadata": {
        "colab": {
          "base_uri": "https://localhost:8080/"
        },
        "id": "Aaw_YIS2PEe0",
        "outputId": "a4946481-1146-4786-b8a2-15f2b2a01cba"
      },
      "outputs": [
        {
          "output_type": "execute_result",
          "data": {
            "text/plain": [
              "[' ', 'e', 't', 'i', 'r', 'o', 'v', 'a', 'f', ' ', 'y', 'm', ' ', 's', 'i']"
            ]
          },
          "metadata": {},
          "execution_count": 67
        }
      ],
      "source": [
        "list9[19:4:-1]"
      ]
    },
    {
      "cell_type": "markdown",
      "metadata": {
        "id": "MieKnBi0PEe0"
      },
      "source": [
        "# reverse"
      ]
    },
    {
      "cell_type": "code",
      "execution_count": null,
      "metadata": {
        "id": "45LlLOGzPEe0"
      },
      "outputs": [],
      "source": [
        "list10 = [1,2,3,4,5,6,7,8,9]"
      ]
    },
    {
      "cell_type": "code",
      "execution_count": null,
      "metadata": {
        "colab": {
          "base_uri": "https://localhost:8080/"
        },
        "id": "ClbdcARcPEe1",
        "outputId": "09e9eaa0-9be1-427d-e290-2794ec48b281"
      },
      "outputs": [
        {
          "output_type": "execute_result",
          "data": {
            "text/plain": [
              "[1, 2, 3, 4, 5, 6, 7, 8, 9]"
            ]
          },
          "metadata": {},
          "execution_count": 70
        }
      ],
      "source": [
        "list10"
      ]
    },
    {
      "cell_type": "code",
      "execution_count": null,
      "metadata": {
        "id": "VWY2JKolPEe1"
      },
      "outputs": [],
      "source": [
        "x = list10[::-1]"
      ]
    },
    {
      "cell_type": "code",
      "execution_count": null,
      "metadata": {
        "colab": {
          "base_uri": "https://localhost:8080/"
        },
        "id": "P1E7fbExPEe1",
        "outputId": "1c355525-d3a7-4c71-df34-844df7402507"
      },
      "outputs": [
        {
          "output_type": "execute_result",
          "data": {
            "text/plain": [
              "[9, 8, 7, 6, 5, 4, 3, 2, 1]"
            ]
          },
          "metadata": {},
          "execution_count": 72
        }
      ],
      "source": [
        "x"
      ]
    },
    {
      "cell_type": "code",
      "execution_count": null,
      "metadata": {
        "id": "JW-9EKgnPEe1"
      },
      "outputs": [],
      "source": [
        "list10.reverse()"
      ]
    },
    {
      "cell_type": "code",
      "execution_count": null,
      "metadata": {
        "colab": {
          "base_uri": "https://localhost:8080/"
        },
        "id": "znD1-SRkPEe1",
        "outputId": "38b92edf-ab9f-47af-b35b-e5d5d59bf1e8"
      },
      "outputs": [
        {
          "output_type": "execute_result",
          "data": {
            "text/plain": [
              "[9, 8, 7, 6, 5, 4, 3, 2, 1]"
            ]
          },
          "metadata": {},
          "execution_count": 74
        }
      ],
      "source": [
        "list10"
      ]
    },
    {
      "cell_type": "markdown",
      "metadata": {
        "id": "uwxfzyIqPEe2"
      },
      "source": [
        "# index"
      ]
    },
    {
      "cell_type": "code",
      "execution_count": null,
      "metadata": {
        "id": "Ar5kOCt8PEe2"
      },
      "outputs": [],
      "source": [
        "list11 = [1,2,3,4,5,6,7,8,9]"
      ]
    },
    {
      "cell_type": "code",
      "execution_count": null,
      "metadata": {
        "colab": {
          "base_uri": "https://localhost:8080/"
        },
        "id": "1Szoysy_PEe2",
        "outputId": "bc4a0fa2-b062-4148-88e6-93931a51949d"
      },
      "outputs": [
        {
          "output_type": "execute_result",
          "data": {
            "text/plain": [
              "3"
            ]
          },
          "metadata": {},
          "execution_count": 76
        }
      ],
      "source": [
        "list11.index(4)"
      ]
    },
    {
      "cell_type": "code",
      "execution_count": null,
      "metadata": {
        "id": "wZFfTf4JPEe2",
        "colab": {
          "base_uri": "https://localhost:8080/"
        },
        "outputId": "8f143d0a-64c8-496e-c7b0-6e234de78db0"
      },
      "outputs": [
        {
          "output_type": "execute_result",
          "data": {
            "text/plain": [
              "[4, 5, 6, 7, 8, 9]"
            ]
          },
          "metadata": {},
          "execution_count": 27
        }
      ],
      "source": [
        "list11[list11.index(4):]    # ?????"
      ]
    },
    {
      "cell_type": "code",
      "execution_count": null,
      "metadata": {
        "id": "Vfj-7HNjPEe2"
      },
      "outputs": [],
      "source": [
        "list11[list11.index(4)] = 44    #???????"
      ]
    },
    {
      "cell_type": "code",
      "execution_count": null,
      "metadata": {
        "id": "ZKGos3CFPEe2",
        "colab": {
          "base_uri": "https://localhost:8080/"
        },
        "outputId": "b5cd19b1-8a8c-4fd9-e79d-9ff4289814d8"
      },
      "outputs": [
        {
          "output_type": "execute_result",
          "data": {
            "text/plain": [
              "[1, 2, 3, 44, 5, 6, 7, 8, 9]"
            ]
          },
          "metadata": {},
          "execution_count": 29
        }
      ],
      "source": [
        "list11"
      ]
    },
    {
      "cell_type": "markdown",
      "metadata": {
        "id": "L660kxJPPEe3"
      },
      "source": [
        "# insert"
      ]
    },
    {
      "cell_type": "code",
      "execution_count": null,
      "metadata": {
        "id": "4QJIJoj-PEe3"
      },
      "outputs": [],
      "source": [
        "list12 = [1,2,3,4,5,6,7,8,9]"
      ]
    },
    {
      "cell_type": "code",
      "execution_count": null,
      "metadata": {
        "id": "pYQfBRewPEe3"
      },
      "outputs": [],
      "source": [
        "list12.insert(list12.index(4), 44)"
      ]
    },
    {
      "cell_type": "code",
      "execution_count": null,
      "metadata": {
        "colab": {
          "base_uri": "https://localhost:8080/"
        },
        "id": "4Rl2dWiVPEe3",
        "outputId": "bf505aaf-dc35-4f7f-e87d-6bf2bb4fdefb"
      },
      "outputs": [
        {
          "output_type": "execute_result",
          "data": {
            "text/plain": [
              "[1, 2, 3, 44, 4, 5, 6, 7, 8, 9]"
            ]
          },
          "metadata": {},
          "execution_count": 32
        }
      ],
      "source": [
        "list12"
      ]
    },
    {
      "cell_type": "markdown",
      "metadata": {
        "id": "EFV8N0UaPEe3"
      },
      "source": [
        "# pop"
      ]
    },
    {
      "cell_type": "code",
      "execution_count": null,
      "metadata": {
        "id": "oEKqkL6LPEe3"
      },
      "outputs": [],
      "source": [
        "list13 = [5,8,9,6,1,4,2,3,6,8,7,6,5,9]"
      ]
    },
    {
      "cell_type": "code",
      "execution_count": null,
      "metadata": {
        "colab": {
          "base_uri": "https://localhost:8080/"
        },
        "id": "X7mDweK-PEe4",
        "outputId": "b895997e-02db-4852-b3e3-1677369891a2"
      },
      "outputs": [
        {
          "output_type": "execute_result",
          "data": {
            "text/plain": [
              "9"
            ]
          },
          "metadata": {},
          "execution_count": 69
        }
      ],
      "source": [
        "list13.pop()"
      ]
    },
    {
      "cell_type": "code",
      "execution_count": null,
      "metadata": {
        "colab": {
          "base_uri": "https://localhost:8080/"
        },
        "id": "cRt2wt3mPEe4",
        "outputId": "4584610d-c18e-447b-921b-dd2d6de47e70"
      },
      "outputs": [
        {
          "output_type": "execute_result",
          "data": {
            "text/plain": [
              "[5, 8, 9, 6, 1, 4, 2, 3, 6, 8, 7, 6, 5]"
            ]
          },
          "metadata": {},
          "execution_count": 70
        }
      ],
      "source": [
        "list13"
      ]
    },
    {
      "cell_type": "code",
      "execution_count": null,
      "metadata": {
        "colab": {
          "base_uri": "https://localhost:8080/"
        },
        "id": "7k--94s1PEe4",
        "outputId": "fc6a54fd-7e8d-4a54-ed2e-7cefa5deae7b"
      },
      "outputs": [
        {
          "output_type": "execute_result",
          "data": {
            "text/plain": [
              "1"
            ]
          },
          "metadata": {},
          "execution_count": 71
        }
      ],
      "source": [
        "list13.pop(4)"
      ]
    },
    {
      "cell_type": "code",
      "execution_count": null,
      "metadata": {
        "colab": {
          "base_uri": "https://localhost:8080/"
        },
        "id": "qX90MWTvPEe4",
        "outputId": "b6dea347-e8d8-4ddd-baf8-83b74d4cb616"
      },
      "outputs": [
        {
          "output_type": "execute_result",
          "data": {
            "text/plain": [
              "[5, 8, 9, 6, 4, 2, 3, 6, 8, 7, 6, 5]"
            ]
          },
          "metadata": {},
          "execution_count": 72
        }
      ],
      "source": [
        "list13"
      ]
    },
    {
      "cell_type": "code",
      "execution_count": null,
      "metadata": {
        "colab": {
          "base_uri": "https://localhost:8080/"
        },
        "id": "skPNR6-5PEe4",
        "outputId": "ff99d847-c14d-44fe-8cbb-9ab6f52c6972"
      },
      "outputs": [
        {
          "output_type": "execute_result",
          "data": {
            "text/plain": [
              "12"
            ]
          },
          "metadata": {},
          "execution_count": 73
        }
      ],
      "source": [
        "len(list13)"
      ]
    },
    {
      "cell_type": "code",
      "execution_count": null,
      "metadata": {
        "colab": {
          "base_uri": "https://localhost:8080/",
          "height": 165
        },
        "id": "Rpct70bWPEe5",
        "outputId": "fe1bb022-b8c8-4e22-9dca-6da0084614a3"
      },
      "outputs": [
        {
          "output_type": "error",
          "ename": "IndexError",
          "evalue": "ignored",
          "traceback": [
            "\u001b[0;31m---------------------------------------------------------------------------\u001b[0m",
            "\u001b[0;31mIndexError\u001b[0m                                Traceback (most recent call last)",
            "\u001b[0;32m<ipython-input-75-069a3c89824a>\u001b[0m in \u001b[0;36m<cell line: 1>\u001b[0;34m()\u001b[0m\n\u001b[0;32m----> 1\u001b[0;31m \u001b[0mlist13\u001b[0m\u001b[0;34m.\u001b[0m\u001b[0mpop\u001b[0m\u001b[0;34m(\u001b[0m\u001b[0;36m18\u001b[0m\u001b[0;34m)\u001b[0m\u001b[0;34m\u001b[0m\u001b[0;34m\u001b[0m\u001b[0m\n\u001b[0m",
            "\u001b[0;31mIndexError\u001b[0m: pop index out of range"
          ]
        }
      ],
      "source": [
        "list13.pop(18)"
      ]
    },
    {
      "cell_type": "markdown",
      "metadata": {
        "id": "yQpf4UsQPEe5"
      },
      "source": [
        "# remove"
      ]
    },
    {
      "cell_type": "code",
      "execution_count": null,
      "metadata": {
        "id": "AUXZjR24PEe5"
      },
      "outputs": [],
      "source": [
        "list14 = [5,8,9,6,1,4,2,3,6,8,7,6,5,9]"
      ]
    },
    {
      "cell_type": "code",
      "execution_count": null,
      "metadata": {
        "id": "XHXvge9MPEe5"
      },
      "outputs": [],
      "source": [
        "list14.remove(8)"
      ]
    },
    {
      "cell_type": "code",
      "execution_count": null,
      "metadata": {
        "colab": {
          "base_uri": "https://localhost:8080/"
        },
        "id": "K6mTERemPEe5",
        "outputId": "e58a997d-71a5-4aab-a8b4-3a08c248666b"
      },
      "outputs": [
        {
          "output_type": "execute_result",
          "data": {
            "text/plain": [
              "[5, 9, 6, 1, 4, 2, 3, 6, 8, 7, 6, 5, 9]"
            ]
          },
          "metadata": {},
          "execution_count": 79
        }
      ],
      "source": [
        "list14"
      ]
    },
    {
      "cell_type": "code",
      "execution_count": null,
      "metadata": {
        "colab": {
          "base_uri": "https://localhost:8080/",
          "height": 165
        },
        "id": "RIci4KUwPEe6",
        "outputId": "6f76ea90-77b7-4dee-8d0a-0acc458f2d54"
      },
      "outputs": [
        {
          "output_type": "error",
          "ename": "ValueError",
          "evalue": "ignored",
          "traceback": [
            "\u001b[0;31m---------------------------------------------------------------------------\u001b[0m",
            "\u001b[0;31mValueError\u001b[0m                                Traceback (most recent call last)",
            "\u001b[0;32m<ipython-input-80-a25847f6606e>\u001b[0m in \u001b[0;36m<cell line: 1>\u001b[0;34m()\u001b[0m\n\u001b[0;32m----> 1\u001b[0;31m \u001b[0mlist14\u001b[0m\u001b[0;34m.\u001b[0m\u001b[0mremove\u001b[0m\u001b[0;34m(\u001b[0m\u001b[0;36m50\u001b[0m\u001b[0;34m)\u001b[0m\u001b[0;34m\u001b[0m\u001b[0;34m\u001b[0m\u001b[0m\n\u001b[0m",
            "\u001b[0;31mValueError\u001b[0m: list.remove(x): x not in list"
          ]
        }
      ],
      "source": [
        "list14.remove(50)"
      ]
    },
    {
      "cell_type": "markdown",
      "metadata": {
        "id": "G474_QYcPEe6"
      },
      "source": [
        "# sort"
      ]
    },
    {
      "cell_type": "code",
      "execution_count": null,
      "metadata": {
        "id": "p6QWFXjvPEe6"
      },
      "outputs": [],
      "source": [
        "list15 = [4,5,81,9,1,5,6,3,8,7,6,2,4,0,9,21]"
      ]
    },
    {
      "cell_type": "code",
      "execution_count": null,
      "metadata": {
        "id": "tMK05OjXPEe6"
      },
      "outputs": [],
      "source": [
        "list15.sort()"
      ]
    },
    {
      "cell_type": "code",
      "execution_count": null,
      "metadata": {
        "colab": {
          "base_uri": "https://localhost:8080/"
        },
        "id": "BLmRzj8kPEe6",
        "outputId": "75196a35-3e91-4b61-e499-0876943aaf62"
      },
      "outputs": [
        {
          "output_type": "execute_result",
          "data": {
            "text/plain": [
              "[0, 1, 2, 3, 4, 4, 5, 5, 6, 6, 7, 8, 9, 9, 21, 81]"
            ]
          },
          "metadata": {},
          "execution_count": 86
        }
      ],
      "source": [
        "list15"
      ]
    },
    {
      "cell_type": "code",
      "execution_count": null,
      "metadata": {
        "id": "-heABa4zPEe6"
      },
      "outputs": [],
      "source": [
        "list16 = [4,5,81,9,1,5,6,3,8,7,6,2,4,0,9,21]"
      ]
    },
    {
      "cell_type": "code",
      "execution_count": null,
      "metadata": {
        "id": "VLHgJxz8PEe7"
      },
      "outputs": [],
      "source": [
        "list16.sort(reverse=True)"
      ]
    },
    {
      "cell_type": "code",
      "execution_count": null,
      "metadata": {
        "colab": {
          "base_uri": "https://localhost:8080/"
        },
        "id": "bHg4o3irPEe7",
        "outputId": "c762efa3-23d3-412e-f42e-807b0ce91c8a"
      },
      "outputs": [
        {
          "output_type": "execute_result",
          "data": {
            "text/plain": [
              "[81, 21, 9, 9, 8, 7, 6, 6, 5, 5, 4, 4, 3, 2, 1, 0]"
            ]
          },
          "metadata": {},
          "execution_count": 89
        }
      ],
      "source": [
        "list16"
      ]
    },
    {
      "cell_type": "code",
      "source": [
        "def trocar(a_list : list, b:int ,c : int) -> list :\n",
        "  posicao = a_list.index(b)\n",
        "  a_list.remove(b) #or a_list.pop(lista.index(b)) # a_list.pop(posicao)\n",
        "  a_list.insert(posicao,c)\n",
        "  return a_list\n",
        "\n",
        "\n",
        "lista =[0,1,2,3,4,5,6,7,8,9,10]\n",
        "x=int(input(\"Qual seria valor para tirar : \"))\n",
        "y=int(input(\"Qual seria valor para colocar no lugar : \"))\n",
        "\n",
        "print(trocar(lista,x,y))\n",
        "\n"
      ],
      "metadata": {
        "colab": {
          "base_uri": "https://localhost:8080/"
        },
        "id": "ZjX8tNpPa5Z0",
        "outputId": "6f1dd6ae-7a6c-4b08-c546-47d25b1aaaa5"
      },
      "execution_count": null,
      "outputs": [
        {
          "output_type": "stream",
          "name": "stdout",
          "text": [
            "Qual seria valor para tirar : 9\n",
            "Qual seria valor para colocar no lugar : 11\n",
            "[0, 1, 2, 3, 4, 5, 6, 7, 8, 11, 10]\n"
          ]
        }
      ]
    }
  ],
  "metadata": {
    "kernelspec": {
      "display_name": "Python 3",
      "language": "python",
      "name": "python3"
    },
    "language_info": {
      "codemirror_mode": {
        "name": "ipython",
        "version": 3
      },
      "file_extension": ".py",
      "mimetype": "text/x-python",
      "name": "python",
      "nbconvert_exporter": "python",
      "pygments_lexer": "ipython3",
      "version": "3.7.4"
    },
    "colab": {
      "provenance": []
    }
  },
  "nbformat": 4,
  "nbformat_minor": 0
}